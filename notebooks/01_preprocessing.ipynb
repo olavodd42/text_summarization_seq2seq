{
 "cells": [
  {
   "cell_type": "code",
   "execution_count": 1,
   "id": "61bf8a44",
   "metadata": {},
   "outputs": [
    {
     "name": "stderr",
     "output_type": "stream",
     "text": [
      "2025-08-02 18:33:05.239035: E external/local_xla/xla/stream_executor/cuda/cuda_fft.cc:467] Unable to register cuFFT factory: Attempting to register factory for plugin cuFFT when one has already been registered\n",
      "WARNING: All log messages before absl::InitializeLog() is called are written to STDERR\n",
      "E0000 00:00:1754170385.265467  251670 cuda_dnn.cc:8579] Unable to register cuDNN factory: Attempting to register factory for plugin cuDNN when one has already been registered\n",
      "E0000 00:00:1754170385.273263  251670 cuda_blas.cc:1407] Unable to register cuBLAS factory: Attempting to register factory for plugin cuBLAS when one has already been registered\n",
      "W0000 00:00:1754170385.294770  251670 computation_placer.cc:177] computation placer already registered. Please check linkage and avoid linking the same target more than once.\n",
      "W0000 00:00:1754170385.294798  251670 computation_placer.cc:177] computation placer already registered. Please check linkage and avoid linking the same target more than once.\n",
      "W0000 00:00:1754170385.294801  251670 computation_placer.cc:177] computation placer already registered. Please check linkage and avoid linking the same target more than once.\n",
      "W0000 00:00:1754170385.294803  251670 computation_placer.cc:177] computation placer already registered. Please check linkage and avoid linking the same target more than once.\n",
      "2025-08-02 18:33:05.303292: I tensorflow/core/platform/cpu_feature_guard.cc:210] This TensorFlow binary is optimized to use available CPU instructions in performance-critical operations.\n",
      "To enable the following instructions: AVX2 FMA, in other operations, rebuild TensorFlow with the appropriate compiler flags.\n"
     ]
    }
   ],
   "source": [
    "import tensorflow as tf\n",
    "from tensorflow.keras.layers import TextVectorization\n",
    "import tensorflow_datasets as tfds\n",
    "import numpy as np\n",
    "\n",
    "# Parâmetros\n",
    "MAXLEN_DOC = 100\n",
    "MAXLEN_SUM = 30\n",
    "VOCAB_IN   = 20000\n",
    "VOCAB_OUT  = 12000\n",
    "BATCH_ORIG = 16384\n",
    "AUTOTUNE   = tf.data.AUTOTUNE\n",
    "\n"
   ]
  },
  {
   "cell_type": "code",
   "execution_count": 2,
   "id": "c5f36bfb",
   "metadata": {},
   "outputs": [],
   "source": [
    "# 1) Adicionar <sos> e <eos> aos resumos\n",
    "\n",
    "def add_sos_eos(example):\n",
    "    doc = example['document']                # tf.string scalar\n",
    "    summ = example['summary']                # tf.string scalar\n",
    "    summ_sos = tf.strings.join(['<sos>', summ, '<eos>'], separator=' ')\n",
    "    return {'document': doc, 'summary_sos': summ_sos}"
   ]
  },
  {
   "cell_type": "code",
   "execution_count": 3,
   "id": "a971f100",
   "metadata": {},
   "outputs": [
    {
     "name": "stderr",
     "output_type": "stream",
     "text": [
      "I0000 00:00:1754170396.997488  251670 gpu_device.cc:2019] Created device /job:localhost/replica:0/task:0/device:GPU:0 with 1192 MB memory:  -> device: 0, name: NVIDIA GeForce RTX 3050 Laptop GPU, pci bus id: 0000:01:00.0, compute capability: 8.6\n",
      "2025-08-02 18:33:17.203666: I tensorflow/core/kernels/data/tf_record_dataset_op.cc:387] The default buffer size is 262144, which is overridden by the user specified `buffer_size` of 8388608\n"
     ]
    },
    {
     "name": "stdout",
     "output_type": "stream",
     "text": [
      "{'document': <tf.Tensor: shape=(), dtype=string, numpy=b'chinese premier wen jiabao met here thursday with visiting international university sports federation -lrb- fisu -rrb- president george e. killian .'>, 'summary': <tf.Tensor: shape=(), dtype=string, numpy=b'chinese premier meets fisu president'>}\n"
     ]
    },
    {
     "name": "stderr",
     "output_type": "stream",
     "text": [
      "2025-08-02 18:33:19.677210: I tensorflow/core/framework/local_rendezvous.cc:407] Local rendezvous is aborting with status: OUT_OF_RANGE: End of sequence\n"
     ]
    }
   ],
   "source": [
    "# 2) Carrega e pré‑processa textualmente com TFDS\n",
    "ds = tfds.load('Gigaword', split='train', shuffle_files=True, data_dir='../data')\n",
    "\n",
    "for example in ds.take(1): # Take one example to inspect\n",
    "    print(example)"
   ]
  },
  {
   "cell_type": "code",
   "execution_count": 4,
   "id": "065d4504",
   "metadata": {},
   "outputs": [
    {
     "name": "stdout",
     "output_type": "stream",
     "text": [
      "{'document': <tf.Tensor: shape=(), dtype=string, numpy=b'russia and its pro-west neighbor georgia engaged in fierce fighting saturday in the disputed region of south ossetia , reports said , as the international community scrambled to prevent an all-out war .'>, 'summary': <tf.Tensor: shape=(), dtype=string, numpy=b'fierce fighting reported in georgia after russian troop surge'>}\n"
     ]
    },
    {
     "name": "stderr",
     "output_type": "stream",
     "text": [
      "2025-08-02 18:33:22.877935: I tensorflow/core/framework/local_rendezvous.cc:407] Local rendezvous is aborting with status: OUT_OF_RANGE: End of sequence\n"
     ]
    }
   ],
   "source": [
    "ds = ds.map(lambda ex: {\n",
    "    'document': tf.strings.regex_replace(ex['document'], r\"\\s+\", \" \"),\n",
    "    'summary' : tf.strings.regex_replace(ex['summary'],  r\"\\s+\", \" \")\n",
    "})\n",
    "ds_sos = ds.map(add_sos_eos, num_parallel_calls=AUTOTUNE)\n",
    "\n",
    "\n",
    "for example in ds.take(1):\n",
    "    print(example)"
   ]
  },
  {
   "cell_type": "code",
   "execution_count": 5,
   "id": "9ac53f8d",
   "metadata": {},
   "outputs": [],
   "source": [
    "ds_sos = ds.map(add_sos_eos, num_parallel_calls=tf.data.AUTOTUNE)\n",
    "\n",
    "# 3) Cria camadas TextVectorization\n",
    "tv_doc = TextVectorization(\n",
    "    max_tokens=VOCAB_IN,\n",
    "    output_sequence_length=MAXLEN_DOC,\n",
    "    standardize='lower_and_strip_punctuation'\n",
    ")\n",
    "tv_sum = TextVectorization(\n",
    "    max_tokens=VOCAB_OUT,\n",
    "    output_sequence_length=MAXLEN_SUM + 2,  # +2 para <sos> e <eos>\n",
    "    standardize='lower_and_strip_punctuation'\n",
    ")\n"
   ]
  },
  {
   "cell_type": "code",
   "execution_count": 6,
   "id": "44bcc60e",
   "metadata": {},
   "outputs": [
    {
     "name": "stderr",
     "output_type": "stream",
     "text": [
      "2025-08-02 18:43:45.696277: I tensorflow/core/framework/local_rendezvous.cc:407] Local rendezvous is aborting with status: OUT_OF_RANGE: End of sequence\n"
     ]
    }
   ],
   "source": [
    "# 4) “Adapta” (treina) o vocabulário nos textos brutos\n",
    "docs_ds = ds_sos.map(lambda ex: ex['document'])\n",
    "sums_ds = ds_sos.map(lambda ex: ex['summary_sos'])\n",
    "tv_doc.adapt(docs_ds.batch(1024))\n",
    "tv_sum.adapt(sums_ds.batch(1024))"
   ]
  },
  {
   "cell_type": "code",
   "execution_count": 7,
   "id": "b4466040",
   "metadata": {},
   "outputs": [],
   "source": [
    "# 5) Pipeline de vetorização puramente em TF\n",
    "def vectorize_tf(ex):\n",
    "    doc = tv_doc(ex['document'])\n",
    "    summ = tv_sum(ex['summary_sos'])\n",
    "    return {'document': doc, 'summary': summ}"
   ]
  },
  {
   "cell_type": "code",
   "execution_count": 8,
   "id": "4557560e",
   "metadata": {},
   "outputs": [],
   "source": [
    "vectorized = (\n",
    "    ds_sos\n",
    "    .map(vectorize_tf, num_parallel_calls=AUTOTUNE)\n",
    "    .cache()\n",
    "    .batch(BATCH_ORIG)\n",
    "    .prefetch(AUTOTUNE)\n",
    ")\n"
   ]
  },
  {
   "cell_type": "code",
   "execution_count": 9,
   "id": "0766badb",
   "metadata": {},
   "outputs": [
    {
     "name": "stdout",
     "output_type": "stream",
     "text": [
      "(16384, 100)\n",
      "(16384, 32)\n"
     ]
    },
    {
     "name": "stderr",
     "output_type": "stream",
     "text": [
      "2025-08-02 18:43:56.256620: W tensorflow/core/kernels/data/cache_dataset_ops.cc:916] The calling iterator did not fully read the dataset being cached. In order to avoid unexpected truncation of the dataset, the partially cached contents of the dataset  will be discarded. This can happen if you have an input pipeline similar to `dataset.cache().take(k).repeat()`. You should use `dataset.take(k).cache().repeat()` instead.\n"
     ]
    }
   ],
   "source": [
    "for example in vectorized.take(1):\n",
    "    print(example['document'].shape)\n",
    "    print(example['summary'].shape)"
   ]
  },
  {
   "cell_type": "code",
   "execution_count": 10,
   "id": "f80be760",
   "metadata": {},
   "outputs": [],
   "source": [
    "# 6) Salva em disco de forma nativa (muito rápido, C/C++)\n",
    "tf.data.Dataset.save(\n",
    "    vectorized, \n",
    "    \"vectorized_gigaword_ds\"\n",
    ")"
   ]
  },
  {
   "cell_type": "code",
   "execution_count": 11,
   "id": "554d03c7",
   "metadata": {},
   "outputs": [],
   "source": [
    "import numpy as np\n",
    "\n",
    "# Salvar vocabulário\n",
    "vocab_doc = tv_doc.get_vocabulary()\n",
    "np.save(\"/home/olavo-dalberto/models/vocab_doc.npy\", vocab_doc)\n",
    "\n",
    "vocab_sum = tv_sum.get_vocabulary()\n",
    "np.save(\"/home/olavo-dalberto/models/vocab_sum.npy\", vocab_sum)\n",
    "\n",
    "# Carregar vocabulário\n",
    "vocab_doc_loaded = np.load(\"/home/olavo-dalberto/models/vocab_doc.npy\", allow_pickle=True)\n",
    "vocab_sum_loaded = np.load(\"/home/olavo-dalberto/models/vocab_sum.npy\", allow_pickle=True)"
   ]
  },
  {
   "cell_type": "code",
   "execution_count": 16,
   "id": "84eff15d",
   "metadata": {},
   "outputs": [
    {
     "name": "stdout",
     "output_type": "stream",
     "text": [
      "['' '[UNK]' 'the' ... 'ethanol' 'credits' 'banners']\n"
     ]
    }
   ],
   "source": [
    "print(vocab_doc_loaded)"
   ]
  },
  {
   "cell_type": "code",
   "execution_count": 18,
   "id": "893683b1",
   "metadata": {},
   "outputs": [
    {
     "data": {
      "text/plain": [
       "2"
      ]
     },
     "execution_count": 18,
     "metadata": {},
     "output_type": "execute_result"
    }
   ],
   "source": [
    "tv_sum.get_vocabulary().index('sos')"
   ]
  },
  {
   "cell_type": "code",
   "execution_count": 12,
   "id": "803ef782",
   "metadata": {},
   "outputs": [
    {
     "name": "stderr",
     "output_type": "stream",
     "text": [
      "/mnt/dados/miniconda3/envs/ia/lib/python3.10/site-packages/keras/src/saving/saving_api.py:107: UserWarning: You are saving a model that has not yet been built. It might not contain any weights yet. Consider building the model first by calling it on some data.\n",
      "  return saving_lib.save_model(model, filepath)\n"
     ]
    }
   ],
   "source": [
    "# Salvar modelo Keras com TextVectorization\n",
    "model_doc = tf.keras.Sequential([tv_doc])  # seu pipeline\n",
    "model_doc.save(\"/home/olavo-dalberto/models/tv_doc_model.keras\")\n",
    "\n",
    "model_sum = tf.keras.Sequential([tv_sum])  # seu pipeline\n",
    "model_sum.save(\"/home/olavo-dalberto/models/tv_sum_model.keras\")\n",
    "\n",
    "# Carregar depois\n",
    "# loaded_model = tf.keras.models.load_model(\"/home/olavo-dalberto/models/tv_doc_model.keras\")"
   ]
  },
  {
   "cell_type": "code",
   "execution_count": 4,
   "id": "14180343",
   "metadata": {},
   "outputs": [
    {
     "ename": "IndexError",
     "evalue": "list index out of range",
     "output_type": "error",
     "traceback": [
      "\u001b[0;31m---------------------------------------------------------------------------\u001b[0m",
      "\u001b[0;31mIndexError\u001b[0m                                Traceback (most recent call last)",
      "Cell \u001b[0;32mIn[4], line 5\u001b[0m\n\u001b[1;32m      3\u001b[0m loaded_model \u001b[38;5;241m=\u001b[39m tf\u001b[38;5;241m.\u001b[39mkeras\u001b[38;5;241m.\u001b[39mmodels\u001b[38;5;241m.\u001b[39mload_model(\u001b[38;5;124m\"\u001b[39m\u001b[38;5;124m/home/olavo-dalberto/models/tv_doc_model.keras\u001b[39m\u001b[38;5;124m\"\u001b[39m)\n\u001b[1;32m      4\u001b[0m loaded_model\u001b[38;5;241m.\u001b[39mget_layer(index\u001b[38;5;241m=\u001b[39m\u001b[38;5;241m0\u001b[39m)\n\u001b[0;32m----> 5\u001b[0m \u001b[43mloaded_model\u001b[49m\u001b[38;5;241;43m.\u001b[39;49m\u001b[43msummary\u001b[49m\u001b[43m(\u001b[49m\u001b[43m)\u001b[49m\n",
      "File \u001b[0;32m/mnt/dados/miniconda3/envs/ia/lib/python3.10/site-packages/keras/src/utils/traceback_utils.py:122\u001b[0m, in \u001b[0;36mfilter_traceback.<locals>.error_handler\u001b[0;34m(*args, **kwargs)\u001b[0m\n\u001b[1;32m    119\u001b[0m     filtered_tb \u001b[38;5;241m=\u001b[39m _process_traceback_frames(e\u001b[38;5;241m.\u001b[39m__traceback__)\n\u001b[1;32m    120\u001b[0m     \u001b[38;5;66;03m# To get the full stack trace, call:\u001b[39;00m\n\u001b[1;32m    121\u001b[0m     \u001b[38;5;66;03m# `keras.config.disable_traceback_filtering()`\u001b[39;00m\n\u001b[0;32m--> 122\u001b[0m     \u001b[38;5;28;01mraise\u001b[39;00m e\u001b[38;5;241m.\u001b[39mwith_traceback(filtered_tb) \u001b[38;5;28;01mfrom\u001b[39;00m\u001b[38;5;250m \u001b[39m\u001b[38;5;28;01mNone\u001b[39;00m\n\u001b[1;32m    123\u001b[0m \u001b[38;5;28;01mfinally\u001b[39;00m:\n\u001b[1;32m    124\u001b[0m     \u001b[38;5;28;01mdel\u001b[39;00m filtered_tb\n",
      "File \u001b[0;32m/mnt/dados/miniconda3/envs/ia/lib/python3.10/site-packages/keras/src/layers/preprocessing/text_vectorization.py:371\u001b[0m, in \u001b[0;36mTextVectorization.compute_output_shape\u001b[0;34m(self, input_shape)\u001b[0m\n\u001b[1;32m    369\u001b[0m \u001b[38;5;28;01mdef\u001b[39;00m\u001b[38;5;250m \u001b[39m\u001b[38;5;21mcompute_output_shape\u001b[39m(\u001b[38;5;28mself\u001b[39m, input_shape):\n\u001b[1;32m    370\u001b[0m     \u001b[38;5;28;01mif\u001b[39;00m \u001b[38;5;28mself\u001b[39m\u001b[38;5;241m.\u001b[39m_output_mode \u001b[38;5;241m==\u001b[39m \u001b[38;5;124m\"\u001b[39m\u001b[38;5;124mint\u001b[39m\u001b[38;5;124m\"\u001b[39m:\n\u001b[0;32m--> 371\u001b[0m         \u001b[38;5;28;01mreturn\u001b[39;00m (\u001b[43minput_shape\u001b[49m\u001b[43m[\u001b[49m\u001b[38;5;241;43m0\u001b[39;49m\u001b[43m]\u001b[49m, \u001b[38;5;28mself\u001b[39m\u001b[38;5;241m.\u001b[39m_output_sequence_length)\n\u001b[1;32m    372\u001b[0m     \u001b[38;5;28;01mif\u001b[39;00m \u001b[38;5;28mself\u001b[39m\u001b[38;5;241m.\u001b[39m_split \u001b[38;5;129;01mis\u001b[39;00m \u001b[38;5;28;01mNone\u001b[39;00m:\n\u001b[1;32m    373\u001b[0m         \u001b[38;5;28;01mif\u001b[39;00m \u001b[38;5;28mlen\u001b[39m(input_shape) \u001b[38;5;241m<\u001b[39m\u001b[38;5;241m=\u001b[39m \u001b[38;5;241m1\u001b[39m:\n",
      "\u001b[0;31mIndexError\u001b[0m: list index out of range"
     ]
    }
   ],
   "source": [
    "import tensorflow as tf\n",
    "\n",
    "loaded_model = tf.keras.models.load_model(\"/home/olavo-dalberto/models/tv_doc_model.keras\")\n",
    "loaded_model.get_layer(index=0)"
   ]
  },
  {
   "cell_type": "code",
   "execution_count": null,
   "id": "9900215e",
   "metadata": {},
   "outputs": [],
   "source": []
  }
 ],
 "metadata": {
  "kernelspec": {
   "display_name": "ia",
   "language": "python",
   "name": "python3"
  },
  "language_info": {
   "codemirror_mode": {
    "name": "ipython",
    "version": 3
   },
   "file_extension": ".py",
   "mimetype": "text/x-python",
   "name": "python",
   "nbconvert_exporter": "python",
   "pygments_lexer": "ipython3",
   "version": "3.10.18"
  }
 },
 "nbformat": 4,
 "nbformat_minor": 5
}
