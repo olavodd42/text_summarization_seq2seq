{
 "cells": [
  {
   "cell_type": "code",
   "execution_count": 1,
   "id": "61bf8a44",
   "metadata": {},
   "outputs": [
    {
     "name": "stderr",
     "output_type": "stream",
     "text": [
      "2025-07-27 10:39:54.278065: E external/local_xla/xla/stream_executor/cuda/cuda_fft.cc:467] Unable to register cuFFT factory: Attempting to register factory for plugin cuFFT when one has already been registered\n",
      "WARNING: All log messages before absl::InitializeLog() is called are written to STDERR\n",
      "E0000 00:00:1753623594.941549    8062 cuda_dnn.cc:8579] Unable to register cuDNN factory: Attempting to register factory for plugin cuDNN when one has already been registered\n",
      "E0000 00:00:1753623595.107826    8062 cuda_blas.cc:1407] Unable to register cuBLAS factory: Attempting to register factory for plugin cuBLAS when one has already been registered\n",
      "W0000 00:00:1753623596.666278    8062 computation_placer.cc:177] computation placer already registered. Please check linkage and avoid linking the same target more than once.\n",
      "W0000 00:00:1753623596.666305    8062 computation_placer.cc:177] computation placer already registered. Please check linkage and avoid linking the same target more than once.\n",
      "W0000 00:00:1753623596.666308    8062 computation_placer.cc:177] computation placer already registered. Please check linkage and avoid linking the same target more than once.\n",
      "W0000 00:00:1753623596.666310    8062 computation_placer.cc:177] computation placer already registered. Please check linkage and avoid linking the same target more than once.\n",
      "2025-07-27 10:39:56.812216: I tensorflow/core/platform/cpu_feature_guard.cc:210] This TensorFlow binary is optimized to use available CPU instructions in performance-critical operations.\n",
      "To enable the following instructions: AVX2 FMA, in other operations, rebuild TensorFlow with the appropriate compiler flags.\n",
      "I0000 00:00:1753623620.615204    8062 gpu_device.cc:2019] Created device /job:localhost/replica:0/task:0/device:GPU:0 with 1613 MB memory:  -> device: 0, name: NVIDIA GeForce RTX 3050 Laptop GPU, pci bus id: 0000:01:00.0, compute capability: 8.6\n",
      "2025-07-27 10:40:20.959102: I tensorflow/core/kernels/data/tf_record_dataset_op.cc:387] The default buffer size is 262144, which is overridden by the user specified `buffer_size` of 8388608\n"
     ]
    },
    {
     "name": "stdout",
     "output_type": "stream",
     "text": [
      "{'document': <tf.Tensor: shape=(), dtype=string, numpy=b'pakistan and kuwait on tuesday warned devastating consequences in case of war on iraq and called for averting any conflict in the region .'>, 'summary': <tf.Tensor: shape=(), dtype=string, numpy=b'kuwait pakistan warn against war on iraq'>}\n"
     ]
    },
    {
     "name": "stderr",
     "output_type": "stream",
     "text": [
      "2025-07-27 10:40:23.451531: I tensorflow/core/framework/local_rendezvous.cc:407] Local rendezvous is aborting with status: OUT_OF_RANGE: End of sequence\n"
     ]
    }
   ],
   "source": [
    "import tensorflow_datasets as tfds\n",
    "\n",
    "ds = tfds.load('Gigaword', split='train', shuffle_files=True, data_dir='../data')\n",
    "\n",
    "for example in ds.take(1): # Take one example to inspect\n",
    "    print(example)"
   ]
  },
  {
   "cell_type": "code",
   "execution_count": 2,
   "id": "9ac53f8d",
   "metadata": {},
   "outputs": [],
   "source": [
    "import spacy\n",
    "\n",
    "nlp = spacy.load('en_core_web_sm')"
   ]
  },
  {
   "cell_type": "code",
   "execution_count": 6,
   "id": "44bcc60e",
   "metadata": {},
   "outputs": [
    {
     "name": "stdout",
     "output_type": "stream",
     "text": [
      "a\n",
      "recent\n",
      "environmental\n",
      "inspection\n",
      "along\n",
      "the\n",
      "beijing\n",
      "-\n",
      "guangzhou\n",
      "rail\n",
      "line\n",
      "have\n",
      "show\n",
      "that\n",
      "the\n",
      "`\n",
      "`\n",
      "white\n",
      "garbage\n",
      "''\n",
      "which\n",
      "have\n",
      "seriously\n",
      "pollute\n",
      "the\n",
      "surround\n",
      "region\n",
      "have\n",
      "almost\n",
      "be\n",
      "eliminate\n",
      ".\n"
     ]
    },
    {
     "name": "stderr",
     "output_type": "stream",
     "text": [
      "2025-07-26 23:09:47.742221: I tensorflow/core/framework/local_rendezvous.cc:407] Local rendezvous is aborting with status: OUT_OF_RANGE: End of sequence\n"
     ]
    }
   ],
   "source": [
    "for example in ds.take(1):\n",
    "    doc = nlp(example['document'].numpy().decode('utf-8'))\n",
    "\n",
    "    for token in doc:\n",
    "        print(token.lemma_.lower())"
   ]
  },
  {
   "cell_type": "code",
   "execution_count": 7,
   "id": "4557560e",
   "metadata": {},
   "outputs": [],
   "source": [
    "import tensorflow as tf\n",
    "\n",
    "def py_preprocess(document, summary):\n",
    "    doc = nlp(document.numpy().decode('utf-8'))\n",
    "    sum_doc = nlp(summary.numpy().decode('utf-8'))\n",
    "    doc_lemmas = [token.lemma_ for token in doc if not token.is_stop and not token.is_punct]\n",
    "    sum_lemmas = [token.lemma_ for token in sum_doc if not token.is_stop and not token.is_punct]\n",
    "    return ' '.join(doc_lemmas), ' '.join(sum_lemmas)\n",
    "\n",
    "\n",
    "def preprocess(row):\n",
    "    doc, sum_doc = tf.py_function(\n",
    "        func=py_preprocess,\n",
    "        inp=[row['document'], row['summary']],\n",
    "        Tout=[tf.string, tf.string]\n",
    "    )\n",
    "    return {'document': doc, 'summary': sum_doc}"
   ]
  },
  {
   "cell_type": "code",
   "execution_count": 8,
   "id": "f80be760",
   "metadata": {},
   "outputs": [
    {
     "name": "stdout",
     "output_type": "stream",
     "text": [
      "{'document': <tf.Tensor: shape=(), dtype=string, numpy=b'foreign minister karel de gucht say sunday dalai lama decide delay trip belgium originally schedule june concern visit damage belgian tie china'>, 'summary': <tf.Tensor: shape=(), dtype=string, numpy=b'dalai lama cancel trip belgium'>}\n"
     ]
    },
    {
     "name": "stderr",
     "output_type": "stream",
     "text": [
      "2025-07-27 10:42:20.764304: I tensorflow/core/framework/local_rendezvous.cc:407] Local rendezvous is aborting with status: OUT_OF_RANGE: End of sequence\n"
     ]
    }
   ],
   "source": [
    "preprocessed_dataset = ds.map(preprocess)\n",
    "\n",
    "for example in preprocessed_dataset.take(1): # Take one example to inspect\n",
    "    print(example)"
   ]
  },
  {
   "cell_type": "code",
   "execution_count": null,
   "id": "458c588e",
   "metadata": {},
   "outputs": [],
   "source": [
    "from tensorflow.keras.preprocessing.text import Tokenizer\n",
    "from tensorflow.keras.preprocessing.sequence import pad_sequences"
   ]
  }
 ],
 "metadata": {
  "kernelspec": {
   "display_name": "ia",
   "language": "python",
   "name": "python3"
  },
  "language_info": {
   "codemirror_mode": {
    "name": "ipython",
    "version": 3
   },
   "file_extension": ".py",
   "mimetype": "text/x-python",
   "name": "python",
   "nbconvert_exporter": "python",
   "pygments_lexer": "ipython3",
   "version": "3.10.18"
  }
 },
 "nbformat": 4,
 "nbformat_minor": 5
}
