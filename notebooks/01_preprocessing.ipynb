{
 "cells": [
  {
   "cell_type": "code",
   "execution_count": null,
   "id": "61bf8a44",
   "metadata": {},
   "outputs": [
    {
     "name": "stderr",
     "output_type": "stream",
     "text": [
      "2025-07-28 21:24:40.450027: E external/local_xla/xla/stream_executor/cuda/cuda_fft.cc:467] Unable to register cuFFT factory: Attempting to register factory for plugin cuFFT when one has already been registered\n",
      "WARNING: All log messages before absl::InitializeLog() is called are written to STDERR\n",
      "E0000 00:00:1753748680.463712  124646 cuda_dnn.cc:8579] Unable to register cuDNN factory: Attempting to register factory for plugin cuDNN when one has already been registered\n",
      "E0000 00:00:1753748680.468079  124646 cuda_blas.cc:1407] Unable to register cuBLAS factory: Attempting to register factory for plugin cuBLAS when one has already been registered\n",
      "W0000 00:00:1753748680.480414  124646 computation_placer.cc:177] computation placer already registered. Please check linkage and avoid linking the same target more than once.\n",
      "W0000 00:00:1753748680.480429  124646 computation_placer.cc:177] computation placer already registered. Please check linkage and avoid linking the same target more than once.\n",
      "W0000 00:00:1753748680.480431  124646 computation_placer.cc:177] computation placer already registered. Please check linkage and avoid linking the same target more than once.\n",
      "W0000 00:00:1753748680.480432  124646 computation_placer.cc:177] computation placer already registered. Please check linkage and avoid linking the same target more than once.\n",
      "2025-07-28 21:24:40.484369: I tensorflow/core/platform/cpu_feature_guard.cc:210] This TensorFlow binary is optimized to use available CPU instructions in performance-critical operations.\n",
      "To enable the following instructions: AVX2 FMA, in other operations, rebuild TensorFlow with the appropriate compiler flags.\n"
     ]
    }
   ],
   "source": [
    "import tensorflow_datasets as tfds\n",
    "import tensorflow as tf\n",
    "\n",
    "from tensorflow.keras.layers import TextVectorization\n",
    "\n",
    "# 1) Define as constantes\n",
    "MAXLEN_DOC = 100\n",
    "MAXLEN_SUM = 30\n",
    "VOCAB_IN  = 10_000\n",
    "VOCAB_OUT = 6_000\n",
    "BATCH     = 16_384\n",
    "AUTOTUNE  = tf.data.AUTOTUNE\n"
   ]
  },
  {
   "cell_type": "code",
   "execution_count": 2,
   "id": "a971f100",
   "metadata": {},
   "outputs": [
    {
     "name": "stdout",
     "output_type": "stream",
     "text": [
      "{'document': <tf.Tensor: shape=(), dtype=string, numpy=b'chinese premier wen jiabao met here thursday with visiting international university sports federation -lrb- fisu -rrb- president george e. killian .'>, 'summary': <tf.Tensor: shape=(), dtype=string, numpy=b'chinese premier meets fisu president'>}\n"
     ]
    },
    {
     "name": "stderr",
     "output_type": "stream",
     "text": [
      "I0000 00:00:1753748700.240815  124646 gpu_device.cc:2019] Created device /job:localhost/replica:0/task:0/device:GPU:0 with 1548 MB memory:  -> device: 0, name: NVIDIA GeForce RTX 3050 Laptop GPU, pci bus id: 0000:01:00.0, compute capability: 8.6\n",
      "2025-07-28 21:25:00.332582: I tensorflow/core/kernels/data/tf_record_dataset_op.cc:387] The default buffer size is 262144, which is overridden by the user specified `buffer_size` of 8388608\n",
      "2025-07-28 21:25:00.355820: I tensorflow/core/framework/local_rendezvous.cc:407] Local rendezvous is aborting with status: OUT_OF_RANGE: End of sequence\n"
     ]
    }
   ],
   "source": [
    "# 2) Carrega e pré‑processa textualmente com TFDS\n",
    "ds = tfds.load('Gigaword', split='train', shuffle_files=True, data_dir='../data')\n",
    " \n",
    "for example in ds.take(1): # Take one example to inspect\n",
    "    print(example)"
   ]
  },
  {
   "cell_type": "code",
   "execution_count": 3,
   "id": "065d4504",
   "metadata": {},
   "outputs": [
    {
     "name": "stdout",
     "output_type": "stream",
     "text": [
      "{'document': <tf.Tensor: shape=(), dtype=string, numpy=b\"golf 's major governing bodies have come together to push for their sport to be added to the olympic program in #### .\">, 'summary': <tf.Tensor: shape=(), dtype=string, numpy=b'making a pitch for olympic golf major tours come together to push for inclusion at #### games'>}\n"
     ]
    },
    {
     "name": "stderr",
     "output_type": "stream",
     "text": [
      "2025-07-28 21:25:12.257196: I tensorflow/core/framework/local_rendezvous.cc:407] Local rendezvous is aborting with status: OUT_OF_RANGE: End of sequence\n"
     ]
    }
   ],
   "source": [
    "ds = ds.map(lambda ex: {\n",
    "    'document': tf.strings.regex_replace(ex['document'], r\"\\s+\", \" \"),\n",
    "    'summary' : tf.strings.regex_replace(ex['summary'],  r\"\\s+\", \" \")\n",
    "})\n",
    "\n",
    "for example in ds.take(1): # Take one example to inspect\n",
    "    print(example)"
   ]
  },
  {
   "cell_type": "code",
   "execution_count": 4,
   "id": "9ac53f8d",
   "metadata": {},
   "outputs": [],
   "source": [
    "# 3) Cria camadas TextVectorization\n",
    "tv_doc = TextVectorization(\n",
    "    max_tokens=VOCAB_IN,\n",
    "    output_sequence_length=MAXLEN_DOC,\n",
    "    standardize='lower_and_strip_punctuation'\n",
    ")\n",
    "tv_sum = TextVectorization(\n",
    "    max_tokens=VOCAB_OUT,\n",
    "    output_sequence_length=MAXLEN_SUM,\n",
    "    standardize='lower_and_strip_punctuation'\n",
    ")"
   ]
  },
  {
   "cell_type": "code",
   "execution_count": 5,
   "id": "44bcc60e",
   "metadata": {},
   "outputs": [
    {
     "name": "stderr",
     "output_type": "stream",
     "text": [
      "2025-07-28 21:28:53.254024: I tensorflow/core/framework/local_rendezvous.cc:407] Local rendezvous is aborting with status: OUT_OF_RANGE: End of sequence\n"
     ]
    }
   ],
   "source": [
    "# 4) “Adapta” (treina) o vocabulário nos textos brutos\n",
    "docs_ds = ds.map(lambda ex: ex['document'])\n",
    "sums_ds = ds.map(lambda ex: ex['summary'])\n",
    "tv_doc.adapt(docs_ds.batch(1024))\n",
    "tv_sum.adapt(sums_ds.batch(1024))"
   ]
  },
  {
   "cell_type": "code",
   "execution_count": 6,
   "id": "b4466040",
   "metadata": {},
   "outputs": [],
   "source": [
    "# 5) Pipeline de vetorização puramente em TF\n",
    "def vectorize_tf(ex):\n",
    "    return {\n",
    "        'document': tv_doc(ex['document']),\n",
    "        'summary' : tv_sum(ex['summary'])\n",
    "    }"
   ]
  },
  {
   "cell_type": "code",
   "execution_count": 7,
   "id": "4557560e",
   "metadata": {},
   "outputs": [],
   "source": [
    "vectorized = (\n",
    "    ds\n",
    "    .map(vectorize_tf, num_parallel_calls=AUTOTUNE)\n",
    "    .cache()                             # materializa uma vez em disco\n",
    "    .batch(BATCH)\n",
    "    .prefetch(AUTOTUNE)\n",
    ")"
   ]
  },
  {
   "cell_type": "code",
   "execution_count": 10,
   "id": "0766badb",
   "metadata": {},
   "outputs": [
    {
     "name": "stdout",
     "output_type": "stream",
     "text": [
      "(16384, 100)\n",
      "(16384, 30)\n"
     ]
    },
    {
     "name": "stderr",
     "output_type": "stream",
     "text": [
      "2025-07-28 21:31:27.427389: W tensorflow/core/kernels/data/cache_dataset_ops.cc:916] The calling iterator did not fully read the dataset being cached. In order to avoid unexpected truncation of the dataset, the partially cached contents of the dataset  will be discarded. This can happen if you have an input pipeline similar to `dataset.cache().take(k).repeat()`. You should use `dataset.take(k).cache().repeat()` instead.\n"
     ]
    }
   ],
   "source": [
    "for example in vectorized.take(1):\n",
    "    print(example['document'].shape)\n",
    "    print(example['summary'].shape)"
   ]
  },
  {
   "cell_type": "code",
   "execution_count": 11,
   "id": "f80be760",
   "metadata": {},
   "outputs": [
    {
     "name": "stdout",
     "output_type": "stream",
     "text": [
      "WARNING:tensorflow:From /tmp/ipykernel_124646/2952371426.py:2: save (from tensorflow.python.data.experimental.ops.io) is deprecated and will be removed in a future version.\n",
      "Instructions for updating:\n",
      "Use `tf.data.Dataset.save(...)` instead.\n"
     ]
    },
    {
     "name": "stderr",
     "output_type": "stream",
     "text": [
      "WARNING:tensorflow:From /tmp/ipykernel_124646/2952371426.py:2: save (from tensorflow.python.data.experimental.ops.io) is deprecated and will be removed in a future version.\n",
      "Instructions for updating:\n",
      "Use `tf.data.Dataset.save(...)` instead.\n"
     ]
    }
   ],
   "source": [
    "# 6) Salva em disco de forma nativa (muito rápido, C/C++)\n",
    "tf.data.Dataset.save(\n",
    "    vectorized, \n",
    "    \"vectorized_gigaword_ds\"\n",
    ")"
   ]
  },
  {
   "cell_type": "code",
   "execution_count": null,
   "id": "554d03c7",
   "metadata": {},
   "outputs": [],
   "source": []
  }
 ],
 "metadata": {
  "kernelspec": {
   "display_name": "ia",
   "language": "python",
   "name": "python3"
  },
  "language_info": {
   "codemirror_mode": {
    "name": "ipython",
    "version": 3
   },
   "file_extension": ".py",
   "mimetype": "text/x-python",
   "name": "python",
   "nbconvert_exporter": "python",
   "pygments_lexer": "ipython3",
   "version": "3.10.18"
  }
 },
 "nbformat": 4,
 "nbformat_minor": 5
}
