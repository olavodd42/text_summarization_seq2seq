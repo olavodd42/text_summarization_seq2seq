{
 "cells": [
  {
   "cell_type": "code",
   "execution_count": 1,
   "id": "61bf8a44",
   "metadata": {},
   "outputs": [
    {
     "name": "stderr",
     "output_type": "stream",
     "text": [
      "2025-07-30 13:24:59.854801: E external/local_xla/xla/stream_executor/cuda/cuda_fft.cc:467] Unable to register cuFFT factory: Attempting to register factory for plugin cuFFT when one has already been registered\n",
      "WARNING: All log messages before absl::InitializeLog() is called are written to STDERR\n",
      "E0000 00:00:1753892700.507225    6881 cuda_dnn.cc:8579] Unable to register cuDNN factory: Attempting to register factory for plugin cuDNN when one has already been registered\n",
      "E0000 00:00:1753892700.673501    6881 cuda_blas.cc:1407] Unable to register cuBLAS factory: Attempting to register factory for plugin cuBLAS when one has already been registered\n",
      "W0000 00:00:1753892702.342645    6881 computation_placer.cc:177] computation placer already registered. Please check linkage and avoid linking the same target more than once.\n",
      "W0000 00:00:1753892702.342674    6881 computation_placer.cc:177] computation placer already registered. Please check linkage and avoid linking the same target more than once.\n",
      "W0000 00:00:1753892702.342677    6881 computation_placer.cc:177] computation placer already registered. Please check linkage and avoid linking the same target more than once.\n",
      "W0000 00:00:1753892702.342679    6881 computation_placer.cc:177] computation placer already registered. Please check linkage and avoid linking the same target more than once.\n",
      "2025-07-30 13:25:02.488357: I tensorflow/core/platform/cpu_feature_guard.cc:210] This TensorFlow binary is optimized to use available CPU instructions in performance-critical operations.\n",
      "To enable the following instructions: AVX2 FMA, in other operations, rebuild TensorFlow with the appropriate compiler flags.\n"
     ]
    }
   ],
   "source": [
    "import tensorflow_datasets as tfds\n",
    "import tensorflow as tf\n",
    "\n",
    "from tensorflow.keras.layers import TextVectorization\n",
    "\n",
    "# 1) Define as constantes\n",
    "MAXLEN_DOC = 100\n",
    "MAXLEN_SUM = 30\n",
    "VOCAB_IN  = 10_000\n",
    "VOCAB_OUT = 6_000\n",
    "BATCH     = 16_384\n",
    "AUTOTUNE  = tf.data.AUTOTUNE\n"
   ]
  },
  {
   "cell_type": "code",
   "execution_count": 2,
   "id": "a971f100",
   "metadata": {},
   "outputs": [
    {
     "name": "stderr",
     "output_type": "stream",
     "text": [
      "I0000 00:00:1753892725.383056    6881 gpu_device.cc:2019] Created device /job:localhost/replica:0/task:0/device:GPU:0 with 1814 MB memory:  -> device: 0, name: NVIDIA GeForce RTX 3050 Laptop GPU, pci bus id: 0000:01:00.0, compute capability: 8.6\n",
      "2025-07-30 13:25:25.726559: I tensorflow/core/kernels/data/tf_record_dataset_op.cc:387] The default buffer size is 262144, which is overridden by the user specified `buffer_size` of 8388608\n"
     ]
    },
    {
     "name": "stdout",
     "output_type": "stream",
     "text": [
      "{'document': <tf.Tensor: shape=(), dtype=string, numpy=b'russia and its pro-west neighbor georgia engaged in fierce fighting saturday in the disputed region of south ossetia , reports said , as the international community scrambled to prevent an all-out war .'>, 'summary': <tf.Tensor: shape=(), dtype=string, numpy=b'fierce fighting reported in georgia after russian troop surge'>}\n"
     ]
    },
    {
     "name": "stderr",
     "output_type": "stream",
     "text": [
      "2025-07-30 13:25:28.292124: I tensorflow/core/framework/local_rendezvous.cc:407] Local rendezvous is aborting with status: OUT_OF_RANGE: End of sequence\n"
     ]
    }
   ],
   "source": [
    "# 2) Carrega e pré‑processa textualmente com TFDS\n",
    "ds = tfds.load('Gigaword', split='train', shuffle_files=True, data_dir='../data')\n",
    " \n",
    "for example in ds.take(1): # Take one example to inspect\n",
    "    print(example)"
   ]
  },
  {
   "cell_type": "code",
   "execution_count": 3,
   "id": "065d4504",
   "metadata": {},
   "outputs": [
    {
     "name": "stdout",
     "output_type": "stream",
     "text": [
      "{'document': <tf.Tensor: shape=(), dtype=string, numpy=b\"firemen rescued ## people from a high - rise building fire on thursday afternoon in northeast china 's heilongjiang province .\">, 'summary': <tf.Tensor: shape=(), dtype=string, numpy=b'high-rise in ne china catches fire ## rescued'>}\n"
     ]
    },
    {
     "name": "stderr",
     "output_type": "stream",
     "text": [
      "2025-07-30 13:25:30.291058: I tensorflow/core/framework/local_rendezvous.cc:407] Local rendezvous is aborting with status: OUT_OF_RANGE: End of sequence\n"
     ]
    }
   ],
   "source": [
    "ds = ds.map(lambda ex: {\n",
    "    'document': tf.strings.regex_replace(ex['document'], r\"\\s+\", \" \"),\n",
    "    'summary' : tf.strings.regex_replace(ex['summary'],  r\"\\s+\", \" \")\n",
    "})\n",
    "\n",
    "for example in ds.take(1):\n",
    "    print(example)"
   ]
  },
  {
   "cell_type": "code",
   "execution_count": 4,
   "id": "9ac53f8d",
   "metadata": {},
   "outputs": [],
   "source": [
    "# 3) Cria camadas TextVectorization\n",
    "tv_doc = TextVectorization(\n",
    "    max_tokens=VOCAB_IN,\n",
    "    output_sequence_length=MAXLEN_DOC,\n",
    "    standardize='lower_and_strip_punctuation'\n",
    ")\n",
    "tv_sum = TextVectorization(\n",
    "    max_tokens=VOCAB_OUT,\n",
    "    output_sequence_length=MAXLEN_SUM,\n",
    "    standardize='lower_and_strip_punctuation'\n",
    ")"
   ]
  },
  {
   "cell_type": "code",
   "execution_count": 5,
   "id": "44bcc60e",
   "metadata": {},
   "outputs": [
    {
     "name": "stderr",
     "output_type": "stream",
     "text": [
      "2025-07-30 13:27:01.490027: I tensorflow/core/framework/local_rendezvous.cc:407] Local rendezvous is aborting with status: OUT_OF_RANGE: End of sequence\n"
     ]
    }
   ],
   "source": [
    "# 4) “Adapta” (treina) o vocabulário nos textos brutos\n",
    "docs_ds = ds.map(lambda ex: ex['document'])\n",
    "sums_ds = ds.map(lambda ex: ex['summary'])\n",
    "tv_doc.adapt(docs_ds.batch(1024))\n",
    "tv_sum.adapt(sums_ds.batch(1024))"
   ]
  },
  {
   "cell_type": "code",
   "execution_count": 6,
   "id": "b4466040",
   "metadata": {},
   "outputs": [],
   "source": [
    "# 5) Pipeline de vetorização puramente em TF\n",
    "def vectorize_tf(ex):\n",
    "    return {\n",
    "        'document': tv_doc(ex['document']),\n",
    "        'summary' : tv_sum(ex['summary'])\n",
    "    }"
   ]
  },
  {
   "cell_type": "code",
   "execution_count": 7,
   "id": "4557560e",
   "metadata": {},
   "outputs": [],
   "source": [
    "vectorized = (\n",
    "    ds\n",
    "    .map(vectorize_tf, num_parallel_calls=AUTOTUNE)\n",
    "    .cache()                             # materializa uma vez em disco\n",
    "    .batch(BATCH)\n",
    "    .prefetch(AUTOTUNE)\n",
    ")"
   ]
  },
  {
   "cell_type": "code",
   "execution_count": 10,
   "id": "0766badb",
   "metadata": {},
   "outputs": [
    {
     "name": "stdout",
     "output_type": "stream",
     "text": [
      "(16384, 100)\n",
      "(16384, 30)\n"
     ]
    },
    {
     "name": "stderr",
     "output_type": "stream",
     "text": [
      "2025-07-28 21:31:27.427389: W tensorflow/core/kernels/data/cache_dataset_ops.cc:916] The calling iterator did not fully read the dataset being cached. In order to avoid unexpected truncation of the dataset, the partially cached contents of the dataset  will be discarded. This can happen if you have an input pipeline similar to `dataset.cache().take(k).repeat()`. You should use `dataset.take(k).cache().repeat()` instead.\n"
     ]
    }
   ],
   "source": [
    "for example in vectorized.take(1):\n",
    "    print(example['document'].shape)\n",
    "    print(example['summary'].shape)"
   ]
  },
  {
   "cell_type": "code",
   "execution_count": 11,
   "id": "f80be760",
   "metadata": {},
   "outputs": [
    {
     "name": "stdout",
     "output_type": "stream",
     "text": [
      "WARNING:tensorflow:From /tmp/ipykernel_124646/2952371426.py:2: save (from tensorflow.python.data.experimental.ops.io) is deprecated and will be removed in a future version.\n",
      "Instructions for updating:\n",
      "Use `tf.data.Dataset.save(...)` instead.\n"
     ]
    },
    {
     "name": "stderr",
     "output_type": "stream",
     "text": [
      "WARNING:tensorflow:From /tmp/ipykernel_124646/2952371426.py:2: save (from tensorflow.python.data.experimental.ops.io) is deprecated and will be removed in a future version.\n",
      "Instructions for updating:\n",
      "Use `tf.data.Dataset.save(...)` instead.\n"
     ]
    }
   ],
   "source": [
    "# 6) Salva em disco de forma nativa (muito rápido, C/C++)\n",
    "tf.data.Dataset.save(\n",
    "    vectorized, \n",
    "    \"vectorized_gigaword_ds\"\n",
    ")"
   ]
  },
  {
   "cell_type": "code",
   "execution_count": 13,
   "id": "554d03c7",
   "metadata": {},
   "outputs": [],
   "source": [
    "import numpy as np\n",
    "\n",
    "# Salvar vocabulário\n",
    "vocab_doc = tv_doc.get_vocabulary()\n",
    "np.save(\"/home/olavo-dalberto/models/vocab_doc.npy\", vocab_doc)\n",
    "\n",
    "vocab_sum = tv_sum.get_vocabulary()\n",
    "np.save(\"/home/olavo-dalberto/models/vocab_sum.npy\", vocab_sum)\n",
    "\n",
    "# Carregar vocabulário\n",
    "vocab_doc_loaded = np.load(\"/home/olavo-dalberto/models/vocab_doc.npy\", allow_pickle=True)\n",
    "vocab_sum_loaded = np.load(\"/home/olavo-dalberto/models/vocab_sum.npy\", allow_pickle=True)"
   ]
  },
  {
   "cell_type": "code",
   "execution_count": null,
   "id": "84eff15d",
   "metadata": {},
   "outputs": [],
   "source": [
    "print(vocab_doc_loaded)"
   ]
  },
  {
   "cell_type": "code",
   "execution_count": 14,
   "id": "803ef782",
   "metadata": {},
   "outputs": [
    {
     "name": "stderr",
     "output_type": "stream",
     "text": [
      "/mnt/dados/miniconda3/envs/ia/lib/python3.10/site-packages/keras/src/saving/saving_api.py:107: UserWarning: You are saving a model that has not yet been built. It might not contain any weights yet. Consider building the model first by calling it on some data.\n",
      "  return saving_lib.save_model(model, filepath)\n"
     ]
    }
   ],
   "source": [
    "# Salvar modelo Keras com TextVectorization\n",
    "model_doc = tf.keras.Sequential([tv_doc])  # seu pipeline\n",
    "model_doc.save(\"/home/olavo-dalberto/models/tv_doc_model.keras\")\n",
    "\n",
    "model_sum = tf.keras.Sequential([tv_sum])  # seu pipeline\n",
    "model_sum.save(\"/home/olavo-dalberto/models/tv_sum_model.keras\")\n",
    "\n",
    "# Carregar depois\n",
    "loaded_model = tf.keras.models.load_model(\"/home/olavo-dalberto/models/tv_doc_model.keras\")"
   ]
  },
  {
   "cell_type": "code",
   "execution_count": 15,
   "id": "14180343",
   "metadata": {},
   "outputs": [
    {
     "data": {
      "text/html": [
       "<pre style=\"white-space:pre;overflow-x:auto;line-height:normal;font-family:Menlo,'DejaVu Sans Mono',consolas,'Courier New',monospace\"><span style=\"font-weight: bold\">Model: \"sequential_2\"</span>\n",
       "</pre>\n"
      ],
      "text/plain": [
       "\u001b[1mModel: \"sequential_2\"\u001b[0m\n"
      ]
     },
     "metadata": {},
     "output_type": "display_data"
    },
    {
     "data": {
      "text/html": [
       "<pre style=\"white-space:pre;overflow-x:auto;line-height:normal;font-family:Menlo,'DejaVu Sans Mono',consolas,'Courier New',monospace\">┏━━━━━━━━━━━━━━━━━━━━━━━━━━━━━━━━━┳━━━━━━━━━━━━━━━━━━━━━━━━┳━━━━━━━━━━━━━━━┓\n",
       "┃<span style=\"font-weight: bold\"> Layer (type)                    </span>┃<span style=\"font-weight: bold\"> Output Shape           </span>┃<span style=\"font-weight: bold\">       Param # </span>┃\n",
       "┡━━━━━━━━━━━━━━━━━━━━━━━━━━━━━━━━━╇━━━━━━━━━━━━━━━━━━━━━━━━╇━━━━━━━━━━━━━━━┩\n",
       "│ text_vectorization              │ ?                      │   <span style=\"color: #00af00; text-decoration-color: #00af00\">0</span> (unbuilt) │\n",
       "│ (<span style=\"color: #0087ff; text-decoration-color: #0087ff\">TextVectorization</span>)             │                        │               │\n",
       "└─────────────────────────────────┴────────────────────────┴───────────────┘\n",
       "</pre>\n"
      ],
      "text/plain": [
       "┏━━━━━━━━━━━━━━━━━━━━━━━━━━━━━━━━━┳━━━━━━━━━━━━━━━━━━━━━━━━┳━━━━━━━━━━━━━━━┓\n",
       "┃\u001b[1m \u001b[0m\u001b[1mLayer (type)                   \u001b[0m\u001b[1m \u001b[0m┃\u001b[1m \u001b[0m\u001b[1mOutput Shape          \u001b[0m\u001b[1m \u001b[0m┃\u001b[1m \u001b[0m\u001b[1m      Param #\u001b[0m\u001b[1m \u001b[0m┃\n",
       "┡━━━━━━━━━━━━━━━━━━━━━━━━━━━━━━━━━╇━━━━━━━━━━━━━━━━━━━━━━━━╇━━━━━━━━━━━━━━━┩\n",
       "│ text_vectorization              │ ?                      │   \u001b[38;5;34m0\u001b[0m (unbuilt) │\n",
       "│ (\u001b[38;5;33mTextVectorization\u001b[0m)             │                        │               │\n",
       "└─────────────────────────────────┴────────────────────────┴───────────────┘\n"
      ]
     },
     "metadata": {},
     "output_type": "display_data"
    },
    {
     "data": {
      "text/html": [
       "<pre style=\"white-space:pre;overflow-x:auto;line-height:normal;font-family:Menlo,'DejaVu Sans Mono',consolas,'Courier New',monospace\"><span style=\"font-weight: bold\"> Total params: </span><span style=\"color: #00af00; text-decoration-color: #00af00\">0</span> (0.00 B)\n",
       "</pre>\n"
      ],
      "text/plain": [
       "\u001b[1m Total params: \u001b[0m\u001b[38;5;34m0\u001b[0m (0.00 B)\n"
      ]
     },
     "metadata": {},
     "output_type": "display_data"
    },
    {
     "data": {
      "text/html": [
       "<pre style=\"white-space:pre;overflow-x:auto;line-height:normal;font-family:Menlo,'DejaVu Sans Mono',consolas,'Courier New',monospace\"><span style=\"font-weight: bold\"> Trainable params: </span><span style=\"color: #00af00; text-decoration-color: #00af00\">0</span> (0.00 B)\n",
       "</pre>\n"
      ],
      "text/plain": [
       "\u001b[1m Trainable params: \u001b[0m\u001b[38;5;34m0\u001b[0m (0.00 B)\n"
      ]
     },
     "metadata": {},
     "output_type": "display_data"
    },
    {
     "data": {
      "text/html": [
       "<pre style=\"white-space:pre;overflow-x:auto;line-height:normal;font-family:Menlo,'DejaVu Sans Mono',consolas,'Courier New',monospace\"><span style=\"font-weight: bold\"> Non-trainable params: </span><span style=\"color: #00af00; text-decoration-color: #00af00\">0</span> (0.00 B)\n",
       "</pre>\n"
      ],
      "text/plain": [
       "\u001b[1m Non-trainable params: \u001b[0m\u001b[38;5;34m0\u001b[0m (0.00 B)\n"
      ]
     },
     "metadata": {},
     "output_type": "display_data"
    }
   ],
   "source": [
    "loaded_model.summary()"
   ]
  },
  {
   "cell_type": "code",
   "execution_count": null,
   "id": "350d2ca5",
   "metadata": {},
   "outputs": [],
   "source": []
  }
 ],
 "metadata": {
  "kernelspec": {
   "display_name": "ia",
   "language": "python",
   "name": "python3"
  },
  "language_info": {
   "codemirror_mode": {
    "name": "ipython",
    "version": 3
   },
   "file_extension": ".py",
   "mimetype": "text/x-python",
   "name": "python",
   "nbconvert_exporter": "python",
   "pygments_lexer": "ipython3",
   "version": "3.10.18"
  }
 },
 "nbformat": 4,
 "nbformat_minor": 5
}
