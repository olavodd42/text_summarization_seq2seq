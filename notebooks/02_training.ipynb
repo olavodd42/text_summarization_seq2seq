{
 "cells": [
  {
   "cell_type": "code",
   "execution_count": 1,
   "id": "a658bc1e",
   "metadata": {},
   "outputs": [
    {
     "name": "stderr",
     "output_type": "stream",
     "text": [
      "2025-08-03 09:21:54.397406: E external/local_xla/xla/stream_executor/cuda/cuda_fft.cc:467] Unable to register cuFFT factory: Attempting to register factory for plugin cuFFT when one has already been registered\n",
      "WARNING: All log messages before absl::InitializeLog() is called are written to STDERR\n",
      "E0000 00:00:1754223714.814956  236900 cuda_dnn.cc:8579] Unable to register cuDNN factory: Attempting to register factory for plugin cuDNN when one has already been registered\n",
      "E0000 00:00:1754223714.949828  236900 cuda_blas.cc:1407] Unable to register cuBLAS factory: Attempting to register factory for plugin cuBLAS when one has already been registered\n",
      "W0000 00:00:1754223716.995370  236900 computation_placer.cc:177] computation placer already registered. Please check linkage and avoid linking the same target more than once.\n",
      "W0000 00:00:1754223716.995399  236900 computation_placer.cc:177] computation placer already registered. Please check linkage and avoid linking the same target more than once.\n",
      "W0000 00:00:1754223716.995401  236900 computation_placer.cc:177] computation placer already registered. Please check linkage and avoid linking the same target more than once.\n",
      "W0000 00:00:1754223716.995403  236900 computation_placer.cc:177] computation placer already registered. Please check linkage and avoid linking the same target more than once.\n",
      "2025-08-03 09:21:57.128691: I tensorflow/core/platform/cpu_feature_guard.cc:210] This TensorFlow binary is optimized to use available CPU instructions in performance-critical operations.\n",
      "To enable the following instructions: AVX2 FMA, in other operations, rebuild TensorFlow with the appropriate compiler flags.\n",
      "I0000 00:00:1754223741.530387  236900 gpu_device.cc:2019] Created device /job:localhost/replica:0/task:0/device:GPU:0 with 1798 MB memory:  -> device: 0, name: NVIDIA GeForce RTX 3050 Laptop GPU, pci bus id: 0000:01:00.0, compute capability: 8.6\n"
     ]
    }
   ],
   "source": [
    "import os\n",
    "os.environ['XLA_FLAGS'] = '--xla_gpu_cuda_data_dir=/usr/local/cuda-12.5/nvvm/libdevice'\n",
    "\n",
    "from tensorflow.keras.models import Model, load_model\n",
    "import tensorflow as tf\n",
    "from tensorflow.keras.layers import Input, LSTM, Embedding, Dense, Concatenate, TimeDistributed, Attention\n",
    "from tensorflow.keras import mixed_precision\n",
    "\n",
    "\n",
    "mixed_precision.set_global_policy(\"mixed_float16\")\n",
    "tf.config.optimizer.set_jit(True)\n",
    "\n",
    "# Parâmetros (mesmos usados no preprocessing)\n",
    "MAXLEN_DOC = 100\n",
    "MAXLEN_SUM = 30\n",
    "VOCAB_IN   = 10000\n",
    "VOCAB_OUT  = 6000\n",
    "BATCH_ORIG = 16384\n",
    "AUTOTUNE   = tf.data.AUTOTUNE\n",
    "embedding_dim = 128\n",
    "units=256\n",
    "# embedding_dim = 32\n",
    "# units         = 64\n",
    "\n",
    "# 1) Carregar pipelines de vetorização salvos\n",
    "tv_doc = load_model(\"/home/olavo-dalberto/models/tv_doc_model.keras\")\n",
    "tv_sum = load_model(\"/home/olavo-dalberto/models/tv_sum_model.keras\")\n",
    "vocab_size_input = len(tv_doc.get_layer(index=0).get_vocabulary())\n",
    "vocab_size_output = len(tv_sum.get_layer(index=0).get_vocabulary())"
   ]
  },
  {
   "cell_type": "code",
   "execution_count": 2,
   "id": "9dc21c77",
   "metadata": {},
   "outputs": [],
   "source": [
    "# ENCODER LAYERS\n",
    "encoder_inputs = Input(shape=(100,))\n",
    "enc_emb = Embedding(input_dim=vocab_size_input, output_dim=embedding_dim)(encoder_inputs)\n",
    "\n",
    "encoder_lstm = LSTM(units, return_sequences=True, return_state=True)\n",
    "encoder_output, state_h, state_c = encoder_lstm(enc_emb)\n",
    "\n",
    "# DECODER LAYERS\n",
    "decoder_inputs = Input(shape=(None,))\n",
    "dec_emb_layer = Embedding(vocab_size_output, embedding_dim)\n",
    "dec_emb = dec_emb_layer(decoder_inputs)\n",
    "\n",
    "decoder_lstm = LSTM(units, return_sequences=True, return_state=True)\n",
    "decoder_outputs, _, _ = decoder_lstm(dec_emb, initial_state=[state_h, state_c])\n",
    "\n",
    "# ATTENTION LAYERS\n",
    "attention = Attention()\n",
    "context_vector = attention([decoder_outputs, encoder_output])\n",
    "\n",
    "decoder_concat_input = Concatenate(axis=-1)([decoder_outputs, context_vector])\n",
    "decoder_dense = TimeDistributed(Dense(vocab_size_output, activation='softmax'))\n",
    "final_output = decoder_dense(decoder_concat_input)\n",
    "\n",
    "model = Model([encoder_inputs, decoder_inputs], final_output)"
   ]
  },
  {
   "cell_type": "code",
   "execution_count": 3,
   "id": "dcaf2a99",
   "metadata": {},
   "outputs": [
    {
     "name": "stdout",
     "output_type": "stream",
     "text": [
      "Batch.document shape: (16384, 100)\n",
      "Batch.summary  shape: (16384, 32)\n"
     ]
    }
   ],
   "source": [
    "ds = tf.data.Dataset.load(\n",
    "    \"vectorized_gigaword_ds\",\n",
    "    element_spec={\n",
    "        'document': tf.TensorSpec((BATCH_ORIG, MAXLEN_DOC), tf.int64),\n",
    "        'summary' : tf.TensorSpec((BATCH_ORIG, MAXLEN_SUM+2), tf.int64),\n",
    "    }\n",
    ")\n",
    "# debug_raw = ds.unbatch().take(512)\n",
    "# batch = next(iter(debug_raw))\n",
    "batch = next(iter(ds))\n",
    "print(\"Batch.document shape:\", batch['document'].shape)  # (BATCH_ORIG, 100)\n",
    "print(\"Batch.summary  shape:\", batch['summary'].shape)   # (BATCH_ORIG, 32)"
   ]
  },
  {
   "cell_type": "code",
   "execution_count": 4,
   "id": "9312b699",
   "metadata": {},
   "outputs": [
    {
     "name": "stdout",
     "output_type": "stream",
     "text": [
      "Single.document shape: (100,)\n",
      "Single.summary  shape: (32,)\n"
     ]
    }
   ],
   "source": [
    "raw = ds.unbatch()\n",
    "print(\"Single.document shape:\", next(iter(raw))['document'].shape)  # (100,)\n",
    "print(\"Single.summary  shape:\", next(iter(raw))['summary'].shape)   # (32,)"
   ]
  },
  {
   "cell_type": "code",
   "execution_count": 5,
   "id": "a8356d5f",
   "metadata": {},
   "outputs": [],
   "source": [
    "VALIDATION_SPLIT = 0.2\n",
    "SHUFFLE_BUFFER   = 10000\n",
    "\n",
    "def make_training_example(x):\n",
    "    enc_in = x['document']          # (100,)\n",
    "    summ   = x['summary']           # (32,)\n",
    "    dec_in = summ[:-1]              # (31,) remove <eos>\n",
    "    dec_tr = summ[1:]               # (31,) remove <sos>\n",
    "    return ((enc_in, dec_in), dec_tr)\n",
    "\n",
    "\n",
    "# debug_paired = debug_raw.map(make_training_example, num_parallel_calls=AUTOTUNE)\n",
    "paired = raw.map(make_training_example, num_parallel_calls=AUTOTUNE)\n",
    "N = tf.data.experimental.cardinality(paired).numpy()\n",
    "val_count = int(N * VALIDATION_SPLIT)\n",
    "shuffled = paired.shuffle(SHUFFLE_BUFFER, reshuffle_each_iteration=False)\n",
    "total = tf.data.experimental.cardinality(shuffled).numpy()\n",
    "\n",
    "\n",
    "val_ds = shuffled.take(val_count).cache().batch(64).prefetch(AUTOTUNE)\n",
    "train_ds = shuffled.skip(val_count).cache().batch(64).prefetch(AUTOTUNE)\n",
    "# debug_ds = (\n",
    "#     debug_paired\n",
    "#     .shuffle(512, reshuffle_each_iteration=True)\n",
    "#     .batch(32)             # batch bem pequeno\n",
    "#     .prefetch(AUTOTUNE)\n",
    "# )\n"
   ]
  },
  {
   "cell_type": "code",
   "execution_count": 7,
   "id": "9b09aa14",
   "metadata": {},
   "outputs": [
    {
     "name": "stdout",
     "output_type": "stream",
     "text": [
      "((<tf.Tensor: shape=(128, 100), dtype=int64, numpy=\n",
      "array([[ 1273,   640,     7, ...,     0,     0,     0],\n",
      "       [ 6186, 19183,    26, ...,     0,     0,     0],\n",
      "       [    2,    24,   685, ...,     0,     0,     0],\n",
      "       ...,\n",
      "       [  135,   335,     6, ...,     0,     0,     0],\n",
      "       [  712,    34,  2137, ...,     0,     0,     0],\n",
      "       [16806,  1407,  7263, ...,     0,     0,     0]])>, <tf.Tensor: shape=(128, 31), dtype=int64, numpy=\n",
      "array([[    2,  8722,  4253, ...,     0,     0,     0],\n",
      "       [    2,  4343, 10992, ...,     0,     0,     0],\n",
      "       [    2,    10,    43, ...,     0,     0,     0],\n",
      "       ...,\n",
      "       [    2,    50,  3378, ...,     0,     0,     0],\n",
      "       [    2,  1442,   459, ...,     0,     0,     0],\n",
      "       [    2,  2744,   903, ...,     0,     0,     0]])>), <tf.Tensor: shape=(128, 31), dtype=int64, numpy=\n",
      "array([[ 8722,  4253,   569, ...,     0,     0,     0],\n",
      "       [ 4343, 10992,  7138, ...,     0,     0,     0],\n",
      "       [   10,    43,  1179, ...,     0,     0,     0],\n",
      "       ...,\n",
      "       [   50,  3378,     5, ...,     0,     0,     0],\n",
      "       [ 1442,   459,    35, ...,     0,     0,     0],\n",
      "       [ 2744,   903,     5, ...,     0,     0,     0]])>)\n"
     ]
    },
    {
     "name": "stderr",
     "output_type": "stream",
     "text": [
      "2025-08-02 23:25:53.080445: W tensorflow/core/kernels/data/cache_dataset_ops.cc:916] The calling iterator did not fully read the dataset being cached. In order to avoid unexpected truncation of the dataset, the partially cached contents of the dataset  will be discarded. This can happen if you have an input pipeline similar to `dataset.cache().take(k).repeat()`. You should use `dataset.take(k).cache().repeat()` instead.\n",
      "2025-08-02 23:25:53.096054: I tensorflow/core/framework/local_rendezvous.cc:407] Local rendezvous is aborting with status: OUT_OF_RANGE: End of sequence\n"
     ]
    }
   ],
   "source": [
    "for batch in train_ds.take(1):\n",
    "\tprint(batch)"
   ]
  },
  {
   "cell_type": "code",
   "execution_count": 6,
   "id": "6f55abde",
   "metadata": {},
   "outputs": [],
   "source": [
    "loss_fn = tf.keras.losses.SparseCategoricalCrossentropy(from_logits=False,\n",
    "                                                       reduction='none')\n",
    "\n",
    "def masked_loss(y_true, y_pred):\n",
    "    loss = loss_fn(y_true, y_pred)                   # (batch, seq_len)\n",
    "    mask = tf.cast(tf.not_equal(y_true, 0), tf.float32)\n",
    "    return tf.reduce_sum(loss * mask) / tf.reduce_sum(mask)"
   ]
  },
  {
   "cell_type": "code",
   "execution_count": 7,
   "id": "4369a2d6",
   "metadata": {},
   "outputs": [],
   "source": [
    "model.compile(\n",
    "    optimizer=tf.keras.optimizers.AdamW(1e-3),\n",
    "    loss=masked_loss,\n",
    "    metrics=['sparse_categorical_accuracy']\n",
    ")"
   ]
  },
  {
   "cell_type": "code",
   "execution_count": 8,
   "id": "da8f55f6",
   "metadata": {},
   "outputs": [
    {
     "name": "stdout",
     "output_type": "stream",
     "text": [
      "Epoch 1/30\n"
     ]
    },
    {
     "name": "stderr",
     "output_type": "stream",
     "text": [
      "WARNING: All log messages before absl::InitializeLog() is called are written to STDERR\n",
      "I0000 00:00:1754223749.041206  238000 service.cc:152] XLA service 0x7030540018d0 initialized for platform CUDA (this does not guarantee that XLA will be used). Devices:\n",
      "I0000 00:00:1754223749.041274  238000 service.cc:160]   StreamExecutor device (0): NVIDIA GeForce RTX 3050 Laptop GPU, Compute Capability 8.6\n",
      "I0000 00:00:1754223750.086301  238000 cuda_dnn.cc:529] Loaded cuDNN version 90701\n",
      "I0000 00:00:1754223750.514020  238000 device_compiler.h:188] Compiled cluster using XLA!  This line is logged at most once for the lifetime of the process.\n",
      "2025-08-03 09:22:42.016048: I tensorflow/compiler/mlir/tensorflow/utils/dump_mlir_util.cc:269] disabling MLIR crash reproducer, set env var `MLIR_CRASH_REPRODUCER_DIRECTORY` to enable.\n",
      "2025-08-03 09:22:44.141367: I external/local_xla/xla/stream_executor/cuda/subprocess_compilation.cc:346] ptxas warning : Registers are spilled to local memory in function 'input_reduce_transpose_fusion', 16 bytes spill stores, 16 bytes spill loads\n",
      "\n"
     ]
    },
    {
     "name": "stdout",
     "output_type": "stream",
     "text": [
      "\u001b[1m47508/47719\u001b[0m \u001b[32m━━━━━━━━━━━━━━━━━━━\u001b[0m\u001b[37m━\u001b[0m \u001b[1m10s\u001b[0m 49ms/step - loss: 4.2893 - sparse_categorical_accuracy: 0.0940"
     ]
    },
    {
     "name": "stderr",
     "output_type": "stream",
     "text": [
      "2025-08-03 10:01:46.083616: I tensorflow/core/framework/local_rendezvous.cc:407] Local rendezvous is aborting with status: OUT_OF_RANGE: End of sequence\n",
      "\t [[{{node IteratorGetNext}}]]\n",
      "2025-08-03 10:01:46.083634: I tensorflow/core/framework/local_rendezvous.cc:407] Local rendezvous is aborting with status: OUT_OF_RANGE: End of sequence\n",
      "\t [[{{node IteratorGetNext}}]]\n",
      "\t [[StatefulPartitionedCall/compile_loss/masked_loss/sparse_categorical_crossentropy/SparseSoftmaxCrossEntropyWithLogits/assert_equal_1/Assert/Assert/data_3/_10]]\n",
      "2025-08-03 10:01:46.083643: I tensorflow/core/framework/local_rendezvous.cc:426] Local rendezvous recv item cancelled. Key hash: 17362489797032305050\n",
      "2025-08-03 10:01:46.083650: I tensorflow/core/framework/local_rendezvous.cc:426] Local rendezvous recv item cancelled. Key hash: 6017271411481260721\n",
      "2025-08-03 10:01:46.083659: I tensorflow/core/framework/local_rendezvous.cc:430] Local rendezvous send item cancelled. Key hash: 11205808568531276363\n",
      "2025-08-03 10:01:46.083662: I tensorflow/core/framework/local_rendezvous.cc:426] Local rendezvous recv item cancelled. Key hash: 209703165076108331\n",
      "2025-08-03 10:01:46.083671: I tensorflow/core/framework/local_rendezvous.cc:426] Local rendezvous recv item cancelled. Key hash: 3298193932251162611\n",
      "2025-08-03 10:01:46.083673: I tensorflow/core/framework/local_rendezvous.cc:426] Local rendezvous recv item cancelled. Key hash: 13205672693760957270\n",
      "2025-08-03 10:01:46.083682: I tensorflow/core/framework/local_rendezvous.cc:430] Local rendezvous send item cancelled. Key hash: 11169917153968636994\n",
      "2025-08-03 10:01:46.083685: I tensorflow/core/framework/local_rendezvous.cc:426] Local rendezvous recv item cancelled. Key hash: 10406326558101294011\n",
      "2025-08-03 10:01:46.083689: I tensorflow/core/framework/local_rendezvous.cc:426] Local rendezvous recv item cancelled. Key hash: 3415547259572331962\n",
      "2025-08-03 10:01:46.083699: I tensorflow/core/framework/local_rendezvous.cc:426] Local rendezvous recv item cancelled. Key hash: 2715499535751355505\n",
      "2025-08-03 10:01:46.083707: I tensorflow/core/framework/local_rendezvous.cc:426] Local rendezvous recv item cancelled. Key hash: 14560809008107187635\n",
      "2025-08-03 10:01:46.083712: I tensorflow/core/framework/local_rendezvous.cc:426] Local rendezvous recv item cancelled. Key hash: 679896574015401541\n",
      "/mnt/dados/miniconda3/envs/ia/lib/python3.10/site-packages/keras/src/trainers/epoch_iterator.py:160: UserWarning: Your input ran out of data; interrupting training. Make sure that your dataset or generator can generate at least `steps_per_epoch * epochs` batches. You may need to use the `.repeat()` function when building your dataset.\n",
      "  self._interrupted_warning()\n",
      "2025-08-03 10:01:48.347329: I external/local_xla/xla/stream_executor/cuda/subprocess_compilation.cc:346] ptxas warning : Registers are spilled to local memory in function 'gemm_fusion_dot_30', 400 bytes spill stores, 344 bytes spill loads\n",
      "\n"
     ]
    },
    {
     "name": "stdout",
     "output_type": "stream",
     "text": [
      "\u001b[1m47719/47719\u001b[0m \u001b[32m━━━━━━━━━━━━━━━━━━━━\u001b[0m\u001b[37m\u001b[0m \u001b[1m2481s\u001b[0m 51ms/step - loss: 4.2859 - sparse_categorical_accuracy: 0.0941 - val_loss: 2.9469 - val_sparse_categorical_accuracy: 0.1303 - learning_rate: 0.0010\n",
      "Epoch 2/30\n",
      "\u001b[1m47507/47719\u001b[0m \u001b[32m━━━━━━━━━━━━━━━━━━━\u001b[0m\u001b[37m━\u001b[0m \u001b[1m10s\u001b[0m 48ms/step - loss: 2.8718 - sparse_categorical_accuracy: 0.1322"
     ]
    },
    {
     "name": "stderr",
     "output_type": "stream",
     "text": [
      "2025-08-03 10:42:12.084909: I external/local_xla/xla/stream_executor/cuda/subprocess_compilation.cc:346] ptxas warning : Registers are spilled to local memory in function 'input_reduce_transpose_fusion', 8 bytes spill stores, 8 bytes spill loads\n",
      "\n",
      "2025-08-03 10:42:23.519809: I external/local_xla/xla/stream_executor/cuda/subprocess_compilation.cc:346] ptxas warning : Registers are spilled to local memory in function 'loop_pad_fusion_1', 24 bytes spill stores, 24 bytes spill loads\n",
      "\n"
     ]
    },
    {
     "name": "stdout",
     "output_type": "stream",
     "text": [
      "\u001b[1m47508/47719\u001b[0m \u001b[32m━━━━━━━━━━━━━━━━━━━\u001b[0m\u001b[37m━\u001b[0m \u001b[1m10s\u001b[0m 49ms/step - loss: 2.8718 - sparse_categorical_accuracy: 0.1322"
     ]
    },
    {
     "name": "stderr",
     "output_type": "stream",
     "text": [
      "2025-08-03 10:42:24.844189: I tensorflow/core/framework/local_rendezvous.cc:407] Local rendezvous is aborting with status: OUT_OF_RANGE: End of sequence\n",
      "\t [[{{node IteratorGetNext}}]]\n",
      "\t [[IteratorGetNext/_42]]\n",
      "2025-08-03 10:42:24.844235: I tensorflow/core/framework/local_rendezvous.cc:426] Local rendezvous recv item cancelled. Key hash: 6017271411481260721\n",
      "2025-08-03 10:42:24.844238: I tensorflow/core/framework/local_rendezvous.cc:430] Local rendezvous send item cancelled. Key hash: 11205808568531276363\n",
      "2025-08-03 10:42:24.844243: I tensorflow/core/framework/local_rendezvous.cc:426] Local rendezvous recv item cancelled. Key hash: 209703165076108331\n",
      "2025-08-03 10:42:24.844246: I tensorflow/core/framework/local_rendezvous.cc:426] Local rendezvous recv item cancelled. Key hash: 3298193932251162611\n",
      "2025-08-03 10:42:24.844250: I tensorflow/core/framework/local_rendezvous.cc:426] Local rendezvous recv item cancelled. Key hash: 10406326558101294011\n",
      "2025-08-03 10:42:24.844254: I tensorflow/core/framework/local_rendezvous.cc:426] Local rendezvous recv item cancelled. Key hash: 14560809008107187635\n",
      "2025-08-03 10:42:24.844257: I tensorflow/core/framework/local_rendezvous.cc:426] Local rendezvous recv item cancelled. Key hash: 679896574015401541\n",
      "2025-08-03 10:42:24.844262: I tensorflow/core/framework/local_rendezvous.cc:426] Local rendezvous recv item cancelled. Key hash: 17362489797032305050\n",
      "2025-08-03 10:42:24.844265: I tensorflow/core/framework/local_rendezvous.cc:426] Local rendezvous recv item cancelled. Key hash: 13205672693760957270\n",
      "2025-08-03 10:42:24.844268: I tensorflow/core/framework/local_rendezvous.cc:430] Local rendezvous send item cancelled. Key hash: 11169917153968636994\n",
      "2025-08-03 10:42:24.844271: I tensorflow/core/framework/local_rendezvous.cc:426] Local rendezvous recv item cancelled. Key hash: 3415547259572331962\n",
      "2025-08-03 10:44:22.779255: I external/local_xla/xla/stream_executor/cuda/subprocess_compilation.cc:346] ptxas warning : Registers are spilled to local memory in function 'gemm_fusion_dot_30', 400 bytes spill stores, 344 bytes spill loads\n",
      "\n"
     ]
    },
    {
     "name": "stdout",
     "output_type": "stream",
     "text": [
      "\u001b[1m47719/47719\u001b[0m \u001b[32m━━━━━━━━━━━━━━━━━━━━\u001b[0m\u001b[37m\u001b[0m \u001b[1m2438s\u001b[0m 51ms/step - loss: 2.8716 - sparse_categorical_accuracy: 0.1322 - val_loss: 2.7957 - val_sparse_categorical_accuracy: 0.1348 - learning_rate: 0.0010\n",
      "Epoch 3/30\n",
      "\u001b[1m47507/47719\u001b[0m \u001b[32m━━━━━━━━━━━━━━━━━━━\u001b[0m\u001b[37m━\u001b[0m \u001b[1m10s\u001b[0m 48ms/step - loss: 2.7081 - sparse_categorical_accuracy: 0.1373"
     ]
    },
    {
     "name": "stderr",
     "output_type": "stream",
     "text": [
      "2025-08-03 11:22:41.565441: I tensorflow/core/framework/local_rendezvous.cc:430] Local rendezvous send item cancelled. Key hash: 11205808568531276363\n",
      "2025-08-03 11:22:41.565459: I tensorflow/core/framework/local_rendezvous.cc:426] Local rendezvous recv item cancelled. Key hash: 6017271411481260721\n",
      "2025-08-03 11:22:41.565463: I tensorflow/core/framework/local_rendezvous.cc:426] Local rendezvous recv item cancelled. Key hash: 209703165076108331\n",
      "2025-08-03 11:22:41.565467: I tensorflow/core/framework/local_rendezvous.cc:426] Local rendezvous recv item cancelled. Key hash: 3298193932251162611\n",
      "2025-08-03 11:22:41.565470: I tensorflow/core/framework/local_rendezvous.cc:426] Local rendezvous recv item cancelled. Key hash: 10406326558101294011\n",
      "2025-08-03 11:22:41.565473: I tensorflow/core/framework/local_rendezvous.cc:426] Local rendezvous recv item cancelled. Key hash: 2715499535751355505\n",
      "2025-08-03 11:22:41.565476: I tensorflow/core/framework/local_rendezvous.cc:426] Local rendezvous recv item cancelled. Key hash: 14560809008107187635\n",
      "2025-08-03 11:22:41.565480: I tensorflow/core/framework/local_rendezvous.cc:426] Local rendezvous recv item cancelled. Key hash: 679896574015401541\n",
      "2025-08-03 11:22:41.565484: I tensorflow/core/framework/local_rendezvous.cc:426] Local rendezvous recv item cancelled. Key hash: 17362489797032305050\n",
      "2025-08-03 11:22:41.565488: I tensorflow/core/framework/local_rendezvous.cc:426] Local rendezvous recv item cancelled. Key hash: 13205672693760957270\n",
      "2025-08-03 11:22:41.565490: I tensorflow/core/framework/local_rendezvous.cc:430] Local rendezvous send item cancelled. Key hash: 11169917153968636994\n",
      "2025-08-03 11:22:41.565493: I tensorflow/core/framework/local_rendezvous.cc:426] Local rendezvous recv item cancelled. Key hash: 3415547259572331962\n"
     ]
    },
    {
     "name": "stdout",
     "output_type": "stream",
     "text": [
      "\u001b[1m47719/47719\u001b[0m \u001b[32m━━━━━━━━━━━━━━━━━━━━\u001b[0m\u001b[37m\u001b[0m \u001b[1m2408s\u001b[0m 50ms/step - loss: 2.7080 - sparse_categorical_accuracy: 0.1373 - val_loss: 2.7502 - val_sparse_categorical_accuracy: 0.1363 - learning_rate: 0.0010\n",
      "Epoch 4/30\n",
      "\u001b[1m47507/47719\u001b[0m \u001b[32m━━━━━━━━━━━━━━━━━━━\u001b[0m\u001b[37m━\u001b[0m \u001b[1m10s\u001b[0m 47ms/step - loss: 2.6342 - sparse_categorical_accuracy: 0.1398"
     ]
    },
    {
     "name": "stderr",
     "output_type": "stream",
     "text": [
      "2025-08-03 12:02:10.006734: I tensorflow/core/framework/local_rendezvous.cc:407] Local rendezvous is aborting with status: OUT_OF_RANGE: End of sequence\n",
      "\t [[{{node IteratorGetNext}}]]\n",
      "\t [[IteratorGetNext/_42]]\n",
      "2025-08-03 12:02:10.006756: I tensorflow/core/framework/local_rendezvous.cc:426] Local rendezvous recv item cancelled. Key hash: 6017271411481260721\n",
      "2025-08-03 12:02:10.006759: I tensorflow/core/framework/local_rendezvous.cc:430] Local rendezvous send item cancelled. Key hash: 11205808568531276363\n",
      "2025-08-03 12:02:10.006764: I tensorflow/core/framework/local_rendezvous.cc:426] Local rendezvous recv item cancelled. Key hash: 209703165076108331\n",
      "2025-08-03 12:02:10.006768: I tensorflow/core/framework/local_rendezvous.cc:426] Local rendezvous recv item cancelled. Key hash: 3298193932251162611\n",
      "2025-08-03 12:02:10.006771: I tensorflow/core/framework/local_rendezvous.cc:426] Local rendezvous recv item cancelled. Key hash: 10406326558101294011\n",
      "2025-08-03 12:02:10.006775: I tensorflow/core/framework/local_rendezvous.cc:426] Local rendezvous recv item cancelled. Key hash: 2715499535751355505\n",
      "2025-08-03 12:02:10.006778: I tensorflow/core/framework/local_rendezvous.cc:426] Local rendezvous recv item cancelled. Key hash: 14560809008107187635\n",
      "2025-08-03 12:02:10.006781: I tensorflow/core/framework/local_rendezvous.cc:426] Local rendezvous recv item cancelled. Key hash: 679896574015401541\n",
      "2025-08-03 12:02:10.006786: I tensorflow/core/framework/local_rendezvous.cc:426] Local rendezvous recv item cancelled. Key hash: 17362489797032305050\n",
      "2025-08-03 12:02:10.006789: I tensorflow/core/framework/local_rendezvous.cc:426] Local rendezvous recv item cancelled. Key hash: 13205672693760957270\n",
      "2025-08-03 12:02:10.006791: I tensorflow/core/framework/local_rendezvous.cc:430] Local rendezvous send item cancelled. Key hash: 11169917153968636994\n",
      "2025-08-03 12:02:10.006794: I tensorflow/core/framework/local_rendezvous.cc:426] Local rendezvous recv item cancelled. Key hash: 3415547259572331962\n"
     ]
    },
    {
     "name": "stdout",
     "output_type": "stream",
     "text": [
      "\u001b[1m47719/47719\u001b[0m \u001b[32m━━━━━━━━━━━━━━━━━━━━\u001b[0m\u001b[37m\u001b[0m \u001b[1m2367s\u001b[0m 50ms/step - loss: 2.6342 - sparse_categorical_accuracy: 0.1398 - val_loss: 2.7314 - val_sparse_categorical_accuracy: 0.1369 - learning_rate: 0.0010\n",
      "Epoch 5/30\n",
      "\u001b[1m47508/47719\u001b[0m \u001b[32m━━━━━━━━━━━━━━━━━━━\u001b[0m\u001b[37m━\u001b[0m \u001b[1m10s\u001b[0m 48ms/step - loss: 2.5915 - sparse_categorical_accuracy: 0.1413"
     ]
    },
    {
     "name": "stderr",
     "output_type": "stream",
     "text": [
      "2025-08-03 12:41:58.128709: I tensorflow/core/framework/local_rendezvous.cc:430] Local rendezvous send item cancelled. Key hash: 11205808568531276363\n",
      "2025-08-03 12:41:58.128732: I tensorflow/core/framework/local_rendezvous.cc:426] Local rendezvous recv item cancelled. Key hash: 6017271411481260721\n",
      "2025-08-03 12:41:58.128740: I tensorflow/core/framework/local_rendezvous.cc:426] Local rendezvous recv item cancelled. Key hash: 209703165076108331\n",
      "2025-08-03 12:41:58.128747: I tensorflow/core/framework/local_rendezvous.cc:426] Local rendezvous recv item cancelled. Key hash: 3298193932251162611\n",
      "2025-08-03 12:41:58.128754: I tensorflow/core/framework/local_rendezvous.cc:426] Local rendezvous recv item cancelled. Key hash: 10406326558101294011\n",
      "2025-08-03 12:41:58.128762: I tensorflow/core/framework/local_rendezvous.cc:426] Local rendezvous recv item cancelled. Key hash: 2715499535751355505\n",
      "2025-08-03 12:41:58.128768: I tensorflow/core/framework/local_rendezvous.cc:426] Local rendezvous recv item cancelled. Key hash: 14560809008107187635\n",
      "2025-08-03 12:41:58.128776: I tensorflow/core/framework/local_rendezvous.cc:426] Local rendezvous recv item cancelled. Key hash: 679896574015401541\n",
      "2025-08-03 12:41:58.128784: I tensorflow/core/framework/local_rendezvous.cc:426] Local rendezvous recv item cancelled. Key hash: 17362489797032305050\n",
      "2025-08-03 12:41:58.128790: I tensorflow/core/framework/local_rendezvous.cc:426] Local rendezvous recv item cancelled. Key hash: 13205672693760957270\n",
      "2025-08-03 12:41:58.128795: I tensorflow/core/framework/local_rendezvous.cc:430] Local rendezvous send item cancelled. Key hash: 11169917153968636994\n",
      "2025-08-03 12:41:58.128802: I tensorflow/core/framework/local_rendezvous.cc:426] Local rendezvous recv item cancelled. Key hash: 3415547259572331962\n"
     ]
    },
    {
     "name": "stdout",
     "output_type": "stream",
     "text": [
      "\u001b[1m47719/47719\u001b[0m \u001b[32m━━━━━━━━━━━━━━━━━━━━\u001b[0m\u001b[37m\u001b[0m \u001b[1m2390s\u001b[0m 50ms/step - loss: 2.5915 - sparse_categorical_accuracy: 0.1413 - val_loss: 2.7221 - val_sparse_categorical_accuracy: 0.1373 - learning_rate: 0.0010\n",
      "Epoch 6/30\n",
      "\u001b[1m47508/47719\u001b[0m \u001b[32m━━━━━━━━━━━━━━━━━━━\u001b[0m\u001b[37m━\u001b[0m \u001b[1m10s\u001b[0m 48ms/step - loss: 2.5638 - sparse_categorical_accuracy: 0.1423"
     ]
    },
    {
     "name": "stderr",
     "output_type": "stream",
     "text": [
      "2025-08-03 13:21:49.570577: I tensorflow/core/framework/local_rendezvous.cc:426] Local rendezvous recv item cancelled. Key hash: 6017271411481260721\n",
      "2025-08-03 13:21:49.570598: I tensorflow/core/framework/local_rendezvous.cc:430] Local rendezvous send item cancelled. Key hash: 11205808568531276363\n",
      "2025-08-03 13:21:49.570605: I tensorflow/core/framework/local_rendezvous.cc:426] Local rendezvous recv item cancelled. Key hash: 209703165076108331\n",
      "2025-08-03 13:21:49.570610: I tensorflow/core/framework/local_rendezvous.cc:426] Local rendezvous recv item cancelled. Key hash: 14560809008107187635\n",
      "2025-08-03 13:21:49.570615: I tensorflow/core/framework/local_rendezvous.cc:426] Local rendezvous recv item cancelled. Key hash: 3298193932251162611\n",
      "2025-08-03 13:21:49.570646: I tensorflow/core/framework/local_rendezvous.cc:426] Local rendezvous recv item cancelled. Key hash: 17362489797032305050\n",
      "2025-08-03 13:21:49.570662: I tensorflow/core/framework/local_rendezvous.cc:426] Local rendezvous recv item cancelled. Key hash: 13205672693760957270\n",
      "2025-08-03 13:21:49.570669: I tensorflow/core/framework/local_rendezvous.cc:430] Local rendezvous send item cancelled. Key hash: 11169917153968636994\n",
      "2025-08-03 13:21:49.570675: I tensorflow/core/framework/local_rendezvous.cc:426] Local rendezvous recv item cancelled. Key hash: 3415547259572331962\n"
     ]
    },
    {
     "name": "stdout",
     "output_type": "stream",
     "text": [
      "\u001b[1m47719/47719\u001b[0m \u001b[32m━━━━━━━━━━━━━━━━━━━━\u001b[0m\u001b[37m\u001b[0m \u001b[1m2391s\u001b[0m 50ms/step - loss: 2.5638 - sparse_categorical_accuracy: 0.1423 - val_loss: 2.7176 - val_sparse_categorical_accuracy: 0.1374 - learning_rate: 0.0010\n",
      "Epoch 7/30\n",
      "\u001b[1m47508/47719\u001b[0m \u001b[32m━━━━━━━━━━━━━━━━━━━\u001b[0m\u001b[37m━\u001b[0m \u001b[1m9s\u001b[0m 47ms/step - loss: 2.5443 - sparse_categorical_accuracy: 0.1430 "
     ]
    },
    {
     "name": "stderr",
     "output_type": "stream",
     "text": [
      "2025-08-03 14:01:09.528927: I tensorflow/core/framework/local_rendezvous.cc:426] Local rendezvous recv item cancelled. Key hash: 6017271411481260721\n",
      "2025-08-03 14:01:09.528948: I tensorflow/core/framework/local_rendezvous.cc:426] Local rendezvous recv item cancelled. Key hash: 209703165076108331\n",
      "2025-08-03 14:01:09.528955: I tensorflow/core/framework/local_rendezvous.cc:426] Local rendezvous recv item cancelled. Key hash: 14560809008107187635\n",
      "2025-08-03 14:01:09.528961: I tensorflow/core/framework/local_rendezvous.cc:426] Local rendezvous recv item cancelled. Key hash: 3298193932251162611\n",
      "2025-08-03 14:01:09.528967: I tensorflow/core/framework/local_rendezvous.cc:426] Local rendezvous recv item cancelled. Key hash: 17362489797032305050\n",
      "2025-08-03 14:01:09.528972: I tensorflow/core/framework/local_rendezvous.cc:426] Local rendezvous recv item cancelled. Key hash: 13205672693760957270\n",
      "2025-08-03 14:01:09.528976: I tensorflow/core/framework/local_rendezvous.cc:426] Local rendezvous recv item cancelled. Key hash: 3415547259572331962\n"
     ]
    },
    {
     "name": "stdout",
     "output_type": "stream",
     "text": [
      "\u001b[1m47719/47719\u001b[0m \u001b[32m━━━━━━━━━━━━━━━━━━━━\u001b[0m\u001b[37m\u001b[0m \u001b[1m2360s\u001b[0m 49ms/step - loss: 2.5443 - sparse_categorical_accuracy: 0.1430 - val_loss: 2.7153 - val_sparse_categorical_accuracy: 0.1376 - learning_rate: 0.0010\n",
      "Epoch 8/30\n",
      "\u001b[1m47507/47719\u001b[0m \u001b[32m━━━━━━━━━━━━━━━━━━━\u001b[0m\u001b[37m━\u001b[0m \u001b[1m9s\u001b[0m 46ms/step - loss: 2.5300 - sparse_categorical_accuracy: 0.1435"
     ]
    },
    {
     "name": "stderr",
     "output_type": "stream",
     "text": [
      "2025-08-03 14:39:51.633538: I tensorflow/core/framework/local_rendezvous.cc:407] Local rendezvous is aborting with status: OUT_OF_RANGE: End of sequence\n",
      "\t [[{{node IteratorGetNext}}]]\n",
      "\t [[IteratorGetNext/_42]]\n",
      "2025-08-03 14:39:51.633563: I tensorflow/core/framework/local_rendezvous.cc:426] Local rendezvous recv item cancelled. Key hash: 6017271411481260721\n",
      "2025-08-03 14:39:51.633566: I tensorflow/core/framework/local_rendezvous.cc:430] Local rendezvous send item cancelled. Key hash: 11205808568531276363\n",
      "2025-08-03 14:39:51.633571: I tensorflow/core/framework/local_rendezvous.cc:426] Local rendezvous recv item cancelled. Key hash: 209703165076108331\n",
      "2025-08-03 14:39:51.633575: I tensorflow/core/framework/local_rendezvous.cc:426] Local rendezvous recv item cancelled. Key hash: 3298193932251162611\n",
      "2025-08-03 14:39:51.633579: I tensorflow/core/framework/local_rendezvous.cc:426] Local rendezvous recv item cancelled. Key hash: 10406326558101294011\n",
      "2025-08-03 14:39:51.633583: I tensorflow/core/framework/local_rendezvous.cc:426] Local rendezvous recv item cancelled. Key hash: 2715499535751355505\n",
      "2025-08-03 14:39:51.633587: I tensorflow/core/framework/local_rendezvous.cc:426] Local rendezvous recv item cancelled. Key hash: 14560809008107187635\n",
      "2025-08-03 14:39:51.633591: I tensorflow/core/framework/local_rendezvous.cc:426] Local rendezvous recv item cancelled. Key hash: 679896574015401541\n",
      "2025-08-03 14:39:51.633597: I tensorflow/core/framework/local_rendezvous.cc:426] Local rendezvous recv item cancelled. Key hash: 17362489797032305050\n",
      "2025-08-03 14:39:51.633600: I tensorflow/core/framework/local_rendezvous.cc:426] Local rendezvous recv item cancelled. Key hash: 13205672693760957270\n",
      "2025-08-03 14:39:51.633603: I tensorflow/core/framework/local_rendezvous.cc:430] Local rendezvous send item cancelled. Key hash: 11169917153968636994\n",
      "2025-08-03 14:39:51.633606: I tensorflow/core/framework/local_rendezvous.cc:426] Local rendezvous recv item cancelled. Key hash: 3415547259572331962\n"
     ]
    },
    {
     "name": "stdout",
     "output_type": "stream",
     "text": [
      "\u001b[1m47719/47719\u001b[0m \u001b[32m━━━━━━━━━━━━━━━━━━━━\u001b[0m\u001b[37m\u001b[0m \u001b[1m2322s\u001b[0m 49ms/step - loss: 2.5299 - sparse_categorical_accuracy: 0.1435 - val_loss: 2.7140 - val_sparse_categorical_accuracy: 0.1377 - learning_rate: 0.0010\n",
      "Epoch 9/30\n",
      "\u001b[1m47507/47719\u001b[0m \u001b[32m━━━━━━━━━━━━━━━━━━━\u001b[0m\u001b[37m━\u001b[0m \u001b[1m10s\u001b[0m 48ms/step - loss: 2.5188 - sparse_categorical_accuracy: 0.1439"
     ]
    },
    {
     "name": "stderr",
     "output_type": "stream",
     "text": [
      "2025-08-03 15:19:39.505563: I tensorflow/core/framework/local_rendezvous.cc:430] Local rendezvous send item cancelled. Key hash: 11205808568531276363\n",
      "2025-08-03 15:19:39.505586: I tensorflow/core/framework/local_rendezvous.cc:426] Local rendezvous recv item cancelled. Key hash: 6017271411481260721\n",
      "2025-08-03 15:19:39.505592: I tensorflow/core/framework/local_rendezvous.cc:426] Local rendezvous recv item cancelled. Key hash: 209703165076108331\n",
      "2025-08-03 15:19:39.505598: I tensorflow/core/framework/local_rendezvous.cc:426] Local rendezvous recv item cancelled. Key hash: 3298193932251162611\n",
      "2025-08-03 15:19:39.505604: I tensorflow/core/framework/local_rendezvous.cc:426] Local rendezvous recv item cancelled. Key hash: 10406326558101294011\n",
      "2025-08-03 15:19:39.505609: I tensorflow/core/framework/local_rendezvous.cc:426] Local rendezvous recv item cancelled. Key hash: 2715499535751355505\n",
      "2025-08-03 15:19:39.505614: I tensorflow/core/framework/local_rendezvous.cc:426] Local rendezvous recv item cancelled. Key hash: 14560809008107187635\n",
      "2025-08-03 15:19:39.505619: I tensorflow/core/framework/local_rendezvous.cc:426] Local rendezvous recv item cancelled. Key hash: 679896574015401541\n",
      "2025-08-03 15:19:39.505627: I tensorflow/core/framework/local_rendezvous.cc:426] Local rendezvous recv item cancelled. Key hash: 17362489797032305050\n",
      "2025-08-03 15:19:39.505632: I tensorflow/core/framework/local_rendezvous.cc:426] Local rendezvous recv item cancelled. Key hash: 13205672693760957270\n",
      "2025-08-03 15:19:39.505636: I tensorflow/core/framework/local_rendezvous.cc:430] Local rendezvous send item cancelled. Key hash: 11169917153968636994\n",
      "2025-08-03 15:19:39.505641: I tensorflow/core/framework/local_rendezvous.cc:426] Local rendezvous recv item cancelled. Key hash: 3415547259572331962\n"
     ]
    },
    {
     "name": "stdout",
     "output_type": "stream",
     "text": [
      "\u001b[1m47719/47719\u001b[0m \u001b[32m━━━━━━━━━━━━━━━━━━━━\u001b[0m\u001b[37m\u001b[0m \u001b[1m2386s\u001b[0m 50ms/step - loss: 2.5188 - sparse_categorical_accuracy: 0.1439 - val_loss: 2.7129 - val_sparse_categorical_accuracy: 0.1378 - learning_rate: 0.0010\n",
      "Epoch 10/30\n",
      "\u001b[1m47507/47719\u001b[0m \u001b[32m━━━━━━━━━━━━━━━━━━━\u001b[0m\u001b[37m━\u001b[0m \u001b[1m10s\u001b[0m 47ms/step - loss: 2.5099 - sparse_categorical_accuracy: 0.1443"
     ]
    },
    {
     "name": "stderr",
     "output_type": "stream",
     "text": [
      "2025-08-03 15:59:02.045907: I tensorflow/core/framework/local_rendezvous.cc:430] Local rendezvous send item cancelled. Key hash: 11205808568531276363\n",
      "2025-08-03 15:59:02.045927: I tensorflow/core/framework/local_rendezvous.cc:426] Local rendezvous recv item cancelled. Key hash: 6017271411481260721\n",
      "2025-08-03 15:59:02.045932: I tensorflow/core/framework/local_rendezvous.cc:426] Local rendezvous recv item cancelled. Key hash: 209703165076108331\n",
      "2025-08-03 15:59:02.045936: I tensorflow/core/framework/local_rendezvous.cc:426] Local rendezvous recv item cancelled. Key hash: 3298193932251162611\n",
      "2025-08-03 15:59:02.045939: I tensorflow/core/framework/local_rendezvous.cc:426] Local rendezvous recv item cancelled. Key hash: 10406326558101294011\n",
      "2025-08-03 15:59:02.045942: I tensorflow/core/framework/local_rendezvous.cc:426] Local rendezvous recv item cancelled. Key hash: 2715499535751355505\n",
      "2025-08-03 15:59:02.045946: I tensorflow/core/framework/local_rendezvous.cc:426] Local rendezvous recv item cancelled. Key hash: 14560809008107187635\n",
      "2025-08-03 15:59:02.045949: I tensorflow/core/framework/local_rendezvous.cc:426] Local rendezvous recv item cancelled. Key hash: 679896574015401541\n",
      "2025-08-03 15:59:02.045953: I tensorflow/core/framework/local_rendezvous.cc:426] Local rendezvous recv item cancelled. Key hash: 17362489797032305050\n",
      "2025-08-03 15:59:02.045956: I tensorflow/core/framework/local_rendezvous.cc:426] Local rendezvous recv item cancelled. Key hash: 13205672693760957270\n",
      "2025-08-03 15:59:02.045958: I tensorflow/core/framework/local_rendezvous.cc:430] Local rendezvous send item cancelled. Key hash: 11169917153968636994\n",
      "2025-08-03 15:59:02.045961: I tensorflow/core/framework/local_rendezvous.cc:426] Local rendezvous recv item cancelled. Key hash: 3415547259572331962\n"
     ]
    },
    {
     "name": "stdout",
     "output_type": "stream",
     "text": [
      "\u001b[1m47719/47719\u001b[0m \u001b[32m━━━━━━━━━━━━━━━━━━━━\u001b[0m\u001b[37m\u001b[0m \u001b[1m2363s\u001b[0m 50ms/step - loss: 2.5099 - sparse_categorical_accuracy: 0.1443 - val_loss: 2.7124 - val_sparse_categorical_accuracy: 0.1378 - learning_rate: 0.0010\n",
      "Epoch 11/30\n",
      "\u001b[1m47508/47719\u001b[0m \u001b[32m━━━━━━━━━━━━━━━━━━━\u001b[0m\u001b[37m━\u001b[0m \u001b[1m9s\u001b[0m 46ms/step - loss: 2.5028 - sparse_categorical_accuracy: 0.1445"
     ]
    },
    {
     "name": "stderr",
     "output_type": "stream",
     "text": [
      "2025-08-03 16:37:42.778921: I tensorflow/core/framework/local_rendezvous.cc:426] Local rendezvous recv item cancelled. Key hash: 6017271411481260721\n",
      "2025-08-03 16:37:42.778943: I tensorflow/core/framework/local_rendezvous.cc:430] Local rendezvous send item cancelled. Key hash: 11205808568531276363\n",
      "2025-08-03 16:37:42.778976: I tensorflow/core/framework/local_rendezvous.cc:426] Local rendezvous recv item cancelled. Key hash: 209703165076108331\n",
      "2025-08-03 16:37:42.779031: I tensorflow/core/framework/local_rendezvous.cc:426] Local rendezvous recv item cancelled. Key hash: 3298193932251162611\n",
      "2025-08-03 16:37:42.779047: I tensorflow/core/framework/local_rendezvous.cc:426] Local rendezvous recv item cancelled. Key hash: 10406326558101294011\n",
      "2025-08-03 16:37:42.779054: I tensorflow/core/framework/local_rendezvous.cc:426] Local rendezvous recv item cancelled. Key hash: 2715499535751355505\n",
      "2025-08-03 16:37:42.779059: I tensorflow/core/framework/local_rendezvous.cc:426] Local rendezvous recv item cancelled. Key hash: 14560809008107187635\n",
      "2025-08-03 16:37:42.779064: I tensorflow/core/framework/local_rendezvous.cc:426] Local rendezvous recv item cancelled. Key hash: 679896574015401541\n",
      "2025-08-03 16:37:42.779070: I tensorflow/core/framework/local_rendezvous.cc:426] Local rendezvous recv item cancelled. Key hash: 17362489797032305050\n",
      "2025-08-03 16:37:42.779074: I tensorflow/core/framework/local_rendezvous.cc:426] Local rendezvous recv item cancelled. Key hash: 13205672693760957270\n",
      "2025-08-03 16:37:42.779077: I tensorflow/core/framework/local_rendezvous.cc:430] Local rendezvous send item cancelled. Key hash: 11169917153968636994\n",
      "2025-08-03 16:37:42.779081: I tensorflow/core/framework/local_rendezvous.cc:426] Local rendezvous recv item cancelled. Key hash: 3415547259572331962\n"
     ]
    },
    {
     "name": "stdout",
     "output_type": "stream",
     "text": [
      "\u001b[1m47719/47719\u001b[0m \u001b[32m━━━━━━━━━━━━━━━━━━━━\u001b[0m\u001b[37m\u001b[0m \u001b[1m2322s\u001b[0m 49ms/step - loss: 2.5028 - sparse_categorical_accuracy: 0.1445 - val_loss: 2.7120 - val_sparse_categorical_accuracy: 0.1378 - learning_rate: 0.0010\n",
      "Epoch 12/30\n",
      "\u001b[1m47508/47719\u001b[0m \u001b[32m━━━━━━━━━━━━━━━━━━━\u001b[0m\u001b[37m━\u001b[0m \u001b[1m10s\u001b[0m 48ms/step - loss: 2.4968 - sparse_categorical_accuracy: 0.1448"
     ]
    },
    {
     "name": "stderr",
     "output_type": "stream",
     "text": [
      "2025-08-03 17:17:14.538764: I tensorflow/core/framework/local_rendezvous.cc:426] Local rendezvous recv item cancelled. Key hash: 6017271411481260721\n",
      "2025-08-03 17:17:14.538786: I tensorflow/core/framework/local_rendezvous.cc:430] Local rendezvous send item cancelled. Key hash: 11205808568531276363\n",
      "2025-08-03 17:17:14.538795: I tensorflow/core/framework/local_rendezvous.cc:426] Local rendezvous recv item cancelled. Key hash: 209703165076108331\n",
      "2025-08-03 17:17:14.538803: I tensorflow/core/framework/local_rendezvous.cc:426] Local rendezvous recv item cancelled. Key hash: 3298193932251162611\n",
      "2025-08-03 17:17:14.538811: I tensorflow/core/framework/local_rendezvous.cc:426] Local rendezvous recv item cancelled. Key hash: 10406326558101294011\n",
      "2025-08-03 17:17:14.538818: I tensorflow/core/framework/local_rendezvous.cc:426] Local rendezvous recv item cancelled. Key hash: 2715499535751355505\n",
      "2025-08-03 17:17:14.538826: I tensorflow/core/framework/local_rendezvous.cc:426] Local rendezvous recv item cancelled. Key hash: 14560809008107187635\n",
      "2025-08-03 17:17:14.538833: I tensorflow/core/framework/local_rendezvous.cc:426] Local rendezvous recv item cancelled. Key hash: 679896574015401541\n",
      "2025-08-03 17:17:14.538842: I tensorflow/core/framework/local_rendezvous.cc:426] Local rendezvous recv item cancelled. Key hash: 17362489797032305050\n",
      "2025-08-03 17:17:14.538849: I tensorflow/core/framework/local_rendezvous.cc:426] Local rendezvous recv item cancelled. Key hash: 13205672693760957270\n",
      "2025-08-03 17:17:14.538854: I tensorflow/core/framework/local_rendezvous.cc:430] Local rendezvous send item cancelled. Key hash: 11169917153968636994\n",
      "2025-08-03 17:17:14.538860: I tensorflow/core/framework/local_rendezvous.cc:426] Local rendezvous recv item cancelled. Key hash: 3415547259572331962\n"
     ]
    },
    {
     "name": "stdout",
     "output_type": "stream",
     "text": [
      "\u001b[1m47719/47719\u001b[0m \u001b[32m━━━━━━━━━━━━━━━━━━━━\u001b[0m\u001b[37m\u001b[0m \u001b[1m2372s\u001b[0m 50ms/step - loss: 2.4968 - sparse_categorical_accuracy: 0.1448 - val_loss: 2.7115 - val_sparse_categorical_accuracy: 0.1378 - learning_rate: 0.0010\n",
      "Epoch 13/30\n",
      "\u001b[1m47508/47719\u001b[0m \u001b[32m━━━━━━━━━━━━━━━━━━━\u001b[0m\u001b[37m━\u001b[0m \u001b[1m10s\u001b[0m 48ms/step - loss: 2.4916 - sparse_categorical_accuracy: 0.1449"
     ]
    },
    {
     "name": "stderr",
     "output_type": "stream",
     "text": [
      "2025-08-03 17:57:05.466451: I tensorflow/core/framework/local_rendezvous.cc:426] Local rendezvous recv item cancelled. Key hash: 6017271411481260721\n",
      "2025-08-03 17:57:05.466482: I tensorflow/core/framework/local_rendezvous.cc:426] Local rendezvous recv item cancelled. Key hash: 209703165076108331\n",
      "2025-08-03 17:57:05.466492: I tensorflow/core/framework/local_rendezvous.cc:426] Local rendezvous recv item cancelled. Key hash: 14560809008107187635\n",
      "2025-08-03 17:57:05.466501: I tensorflow/core/framework/local_rendezvous.cc:426] Local rendezvous recv item cancelled. Key hash: 3298193932251162611\n",
      "2025-08-03 17:57:05.466519: I tensorflow/core/framework/local_rendezvous.cc:426] Local rendezvous recv item cancelled. Key hash: 17362489797032305050\n",
      "2025-08-03 17:57:05.466527: I tensorflow/core/framework/local_rendezvous.cc:426] Local rendezvous recv item cancelled. Key hash: 13205672693760957270\n",
      "2025-08-03 17:57:05.466532: I tensorflow/core/framework/local_rendezvous.cc:430] Local rendezvous send item cancelled. Key hash: 11169917153968636994\n",
      "2025-08-03 17:57:05.466540: I tensorflow/core/framework/local_rendezvous.cc:426] Local rendezvous recv item cancelled. Key hash: 3415547259572331962\n",
      "2025-08-03 17:57:05.466546: I tensorflow/core/framework/local_rendezvous.cc:430] Local rendezvous send item cancelled. Key hash: 11205808568531276363\n"
     ]
    },
    {
     "name": "stdout",
     "output_type": "stream",
     "text": [
      "\u001b[1m47719/47719\u001b[0m \u001b[32m━━━━━━━━━━━━━━━━━━━━\u001b[0m\u001b[37m\u001b[0m \u001b[1m2391s\u001b[0m 50ms/step - loss: 2.4916 - sparse_categorical_accuracy: 0.1449 - val_loss: 2.7113 - val_sparse_categorical_accuracy: 0.1378 - learning_rate: 0.0010\n",
      "Epoch 14/30\n",
      "\u001b[1m47507/47719\u001b[0m \u001b[32m━━━━━━━━━━━━━━━━━━━\u001b[0m\u001b[37m━\u001b[0m \u001b[1m9s\u001b[0m 47ms/step - loss: 2.4873 - sparse_categorical_accuracy: 0.1451 "
     ]
    },
    {
     "name": "stderr",
     "output_type": "stream",
     "text": [
      "2025-08-03 18:36:07.255629: I tensorflow/core/framework/local_rendezvous.cc:426] Local rendezvous recv item cancelled. Key hash: 6017271411481260721\n",
      "2025-08-03 18:36:07.255646: I tensorflow/core/framework/local_rendezvous.cc:430] Local rendezvous send item cancelled. Key hash: 11205808568531276363\n",
      "2025-08-03 18:36:07.255652: I tensorflow/core/framework/local_rendezvous.cc:426] Local rendezvous recv item cancelled. Key hash: 209703165076108331\n",
      "2025-08-03 18:36:07.255656: I tensorflow/core/framework/local_rendezvous.cc:426] Local rendezvous recv item cancelled. Key hash: 3298193932251162611\n",
      "2025-08-03 18:36:07.255660: I tensorflow/core/framework/local_rendezvous.cc:426] Local rendezvous recv item cancelled. Key hash: 10406326558101294011\n",
      "2025-08-03 18:36:07.255664: I tensorflow/core/framework/local_rendezvous.cc:426] Local rendezvous recv item cancelled. Key hash: 2715499535751355505\n",
      "2025-08-03 18:36:07.255668: I tensorflow/core/framework/local_rendezvous.cc:426] Local rendezvous recv item cancelled. Key hash: 14560809008107187635\n",
      "2025-08-03 18:36:07.255672: I tensorflow/core/framework/local_rendezvous.cc:426] Local rendezvous recv item cancelled. Key hash: 679896574015401541\n",
      "2025-08-03 18:36:07.255679: I tensorflow/core/framework/local_rendezvous.cc:426] Local rendezvous recv item cancelled. Key hash: 17362489797032305050\n",
      "2025-08-03 18:36:07.255684: I tensorflow/core/framework/local_rendezvous.cc:426] Local rendezvous recv item cancelled. Key hash: 13205672693760957270\n",
      "2025-08-03 18:36:07.255687: I tensorflow/core/framework/local_rendezvous.cc:430] Local rendezvous send item cancelled. Key hash: 11169917153968636994\n",
      "2025-08-03 18:36:07.255692: I tensorflow/core/framework/local_rendezvous.cc:426] Local rendezvous recv item cancelled. Key hash: 3415547259572331962\n"
     ]
    },
    {
     "name": "stdout",
     "output_type": "stream",
     "text": [
      "\u001b[1m47719/47719\u001b[0m \u001b[32m━━━━━━━━━━━━━━━━━━━━\u001b[0m\u001b[37m\u001b[0m \u001b[1m2341s\u001b[0m 49ms/step - loss: 2.4873 - sparse_categorical_accuracy: 0.1451 - val_loss: 2.7109 - val_sparse_categorical_accuracy: 0.1379 - learning_rate: 0.0010\n",
      "Epoch 15/30\n",
      "\u001b[1m47508/47719\u001b[0m \u001b[32m━━━━━━━━━━━━━━━━━━━\u001b[0m\u001b[37m━\u001b[0m \u001b[1m10s\u001b[0m 48ms/step - loss: 2.4835 - sparse_categorical_accuracy: 0.1453"
     ]
    },
    {
     "name": "stderr",
     "output_type": "stream",
     "text": [
      "2025-08-03 19:15:49.074697: I tensorflow/core/framework/local_rendezvous.cc:426] Local rendezvous recv item cancelled. Key hash: 6017271411481260721\n",
      "2025-08-03 19:15:49.074722: I tensorflow/core/framework/local_rendezvous.cc:430] Local rendezvous send item cancelled. Key hash: 11205808568531276363\n",
      "2025-08-03 19:15:49.074733: I tensorflow/core/framework/local_rendezvous.cc:426] Local rendezvous recv item cancelled. Key hash: 209703165076108331\n",
      "2025-08-03 19:15:49.074741: I tensorflow/core/framework/local_rendezvous.cc:426] Local rendezvous recv item cancelled. Key hash: 3298193932251162611\n",
      "2025-08-03 19:15:49.074747: I tensorflow/core/framework/local_rendezvous.cc:426] Local rendezvous recv item cancelled. Key hash: 10406326558101294011\n",
      "2025-08-03 19:15:49.074752: I tensorflow/core/framework/local_rendezvous.cc:426] Local rendezvous recv item cancelled. Key hash: 2715499535751355505\n",
      "2025-08-03 19:15:49.074757: I tensorflow/core/framework/local_rendezvous.cc:426] Local rendezvous recv item cancelled. Key hash: 14560809008107187635\n",
      "2025-08-03 19:15:49.074762: I tensorflow/core/framework/local_rendezvous.cc:426] Local rendezvous recv item cancelled. Key hash: 679896574015401541\n",
      "2025-08-03 19:15:49.074769: I tensorflow/core/framework/local_rendezvous.cc:426] Local rendezvous recv item cancelled. Key hash: 17362489797032305050\n",
      "2025-08-03 19:15:49.074774: I tensorflow/core/framework/local_rendezvous.cc:426] Local rendezvous recv item cancelled. Key hash: 13205672693760957270\n",
      "2025-08-03 19:15:49.074778: I tensorflow/core/framework/local_rendezvous.cc:430] Local rendezvous send item cancelled. Key hash: 11169917153968636994\n",
      "2025-08-03 19:15:49.074782: I tensorflow/core/framework/local_rendezvous.cc:426] Local rendezvous recv item cancelled. Key hash: 3415547259572331962\n"
     ]
    },
    {
     "name": "stdout",
     "output_type": "stream",
     "text": [
      "\u001b[1m47719/47719\u001b[0m \u001b[32m━━━━━━━━━━━━━━━━━━━━\u001b[0m\u001b[37m\u001b[0m \u001b[1m2383s\u001b[0m 50ms/step - loss: 2.4835 - sparse_categorical_accuracy: 0.1453 - val_loss: 2.7104 - val_sparse_categorical_accuracy: 0.1380 - learning_rate: 0.0010\n",
      "Epoch 16/30\n",
      "\u001b[1m47507/47719\u001b[0m \u001b[32m━━━━━━━━━━━━━━━━━━━\u001b[0m\u001b[37m━\u001b[0m \u001b[1m10s\u001b[0m 48ms/step - loss: 2.4802 - sparse_categorical_accuracy: 0.1454"
     ]
    },
    {
     "name": "stderr",
     "output_type": "stream",
     "text": [
      "2025-08-03 19:55:50.910788: I tensorflow/core/framework/local_rendezvous.cc:407] Local rendezvous is aborting with status: OUT_OF_RANGE: End of sequence\n",
      "\t [[{{node IteratorGetNext}}]]\n",
      "\t [[IteratorGetNext/_42]]\n",
      "2025-08-03 19:55:50.910810: I tensorflow/core/framework/local_rendezvous.cc:426] Local rendezvous recv item cancelled. Key hash: 6017271411481260721\n",
      "2025-08-03 19:55:50.910814: I tensorflow/core/framework/local_rendezvous.cc:430] Local rendezvous send item cancelled. Key hash: 11205808568531276363\n",
      "2025-08-03 19:55:50.910818: I tensorflow/core/framework/local_rendezvous.cc:426] Local rendezvous recv item cancelled. Key hash: 209703165076108331\n",
      "2025-08-03 19:55:50.910822: I tensorflow/core/framework/local_rendezvous.cc:426] Local rendezvous recv item cancelled. Key hash: 3298193932251162611\n",
      "2025-08-03 19:55:50.910826: I tensorflow/core/framework/local_rendezvous.cc:426] Local rendezvous recv item cancelled. Key hash: 10406326558101294011\n",
      "2025-08-03 19:55:50.910830: I tensorflow/core/framework/local_rendezvous.cc:426] Local rendezvous recv item cancelled. Key hash: 2715499535751355505\n",
      "2025-08-03 19:55:50.910833: I tensorflow/core/framework/local_rendezvous.cc:426] Local rendezvous recv item cancelled. Key hash: 14560809008107187635\n",
      "2025-08-03 19:55:50.910837: I tensorflow/core/framework/local_rendezvous.cc:426] Local rendezvous recv item cancelled. Key hash: 679896574015401541\n",
      "2025-08-03 19:55:50.910842: I tensorflow/core/framework/local_rendezvous.cc:426] Local rendezvous recv item cancelled. Key hash: 17362489797032305050\n",
      "2025-08-03 19:55:50.910845: I tensorflow/core/framework/local_rendezvous.cc:426] Local rendezvous recv item cancelled. Key hash: 13205672693760957270\n",
      "2025-08-03 19:55:50.910847: I tensorflow/core/framework/local_rendezvous.cc:430] Local rendezvous send item cancelled. Key hash: 11169917153968636994\n",
      "2025-08-03 19:55:50.910851: I tensorflow/core/framework/local_rendezvous.cc:426] Local rendezvous recv item cancelled. Key hash: 3415547259572331962\n"
     ]
    },
    {
     "name": "stdout",
     "output_type": "stream",
     "text": [
      "\u001b[1m47719/47719\u001b[0m \u001b[32m━━━━━━━━━━━━━━━━━━━━\u001b[0m\u001b[37m\u001b[0m \u001b[1m2401s\u001b[0m 50ms/step - loss: 2.4802 - sparse_categorical_accuracy: 0.1454 - val_loss: 2.7094 - val_sparse_categorical_accuracy: 0.1380 - learning_rate: 0.0010\n",
      "Epoch 17/30\n",
      "\u001b[1m47507/47719\u001b[0m \u001b[32m━━━━━━━━━━━━━━━━━━━\u001b[0m\u001b[37m━\u001b[0m \u001b[1m10s\u001b[0m 47ms/step - loss: 2.4772 - sparse_categorical_accuracy: 0.1455"
     ]
    },
    {
     "name": "stderr",
     "output_type": "stream",
     "text": [
      "2025-08-03 20:35:18.089870: I tensorflow/core/framework/local_rendezvous.cc:430] Local rendezvous send item cancelled. Key hash: 11205808568531276363\n",
      "2025-08-03 20:35:18.089888: I tensorflow/core/framework/local_rendezvous.cc:426] Local rendezvous recv item cancelled. Key hash: 6017271411481260721\n",
      "2025-08-03 20:35:18.089892: I tensorflow/core/framework/local_rendezvous.cc:426] Local rendezvous recv item cancelled. Key hash: 209703165076108331\n",
      "2025-08-03 20:35:18.089896: I tensorflow/core/framework/local_rendezvous.cc:426] Local rendezvous recv item cancelled. Key hash: 3298193932251162611\n",
      "2025-08-03 20:35:18.089899: I tensorflow/core/framework/local_rendezvous.cc:426] Local rendezvous recv item cancelled. Key hash: 10406326558101294011\n",
      "2025-08-03 20:35:18.089902: I tensorflow/core/framework/local_rendezvous.cc:426] Local rendezvous recv item cancelled. Key hash: 2715499535751355505\n",
      "2025-08-03 20:35:18.089905: I tensorflow/core/framework/local_rendezvous.cc:426] Local rendezvous recv item cancelled. Key hash: 14560809008107187635\n",
      "2025-08-03 20:35:18.089908: I tensorflow/core/framework/local_rendezvous.cc:426] Local rendezvous recv item cancelled. Key hash: 679896574015401541\n",
      "2025-08-03 20:35:18.089913: I tensorflow/core/framework/local_rendezvous.cc:426] Local rendezvous recv item cancelled. Key hash: 17362489797032305050\n",
      "2025-08-03 20:35:18.089916: I tensorflow/core/framework/local_rendezvous.cc:426] Local rendezvous recv item cancelled. Key hash: 13205672693760957270\n",
      "2025-08-03 20:35:18.089918: I tensorflow/core/framework/local_rendezvous.cc:430] Local rendezvous send item cancelled. Key hash: 11169917153968636994\n",
      "2025-08-03 20:35:18.089921: I tensorflow/core/framework/local_rendezvous.cc:426] Local rendezvous recv item cancelled. Key hash: 3415547259572331962\n"
     ]
    },
    {
     "name": "stdout",
     "output_type": "stream",
     "text": [
      "\u001b[1m47719/47719\u001b[0m \u001b[32m━━━━━━━━━━━━━━━━━━━━\u001b[0m\u001b[37m\u001b[0m \u001b[1m2368s\u001b[0m 50ms/step - loss: 2.4772 - sparse_categorical_accuracy: 0.1455 - val_loss: 2.7085 - val_sparse_categorical_accuracy: 0.1379 - learning_rate: 0.0010\n",
      "Epoch 18/30\n",
      "\u001b[1m47507/47719\u001b[0m \u001b[32m━━━━━━━━━━━━━━━━━━━\u001b[0m\u001b[37m━\u001b[0m \u001b[1m10s\u001b[0m 48ms/step - loss: 2.4746 - sparse_categorical_accuracy: 0.1456"
     ]
    },
    {
     "name": "stderr",
     "output_type": "stream",
     "text": [
      "2025-08-03 21:15:11.030448: I tensorflow/core/framework/local_rendezvous.cc:430] Local rendezvous send item cancelled. Key hash: 11205808568531276363\n",
      "2025-08-03 21:15:11.030466: I tensorflow/core/framework/local_rendezvous.cc:426] Local rendezvous recv item cancelled. Key hash: 6017271411481260721\n",
      "2025-08-03 21:15:11.030471: I tensorflow/core/framework/local_rendezvous.cc:426] Local rendezvous recv item cancelled. Key hash: 209703165076108331\n",
      "2025-08-03 21:15:11.030475: I tensorflow/core/framework/local_rendezvous.cc:426] Local rendezvous recv item cancelled. Key hash: 14560809008107187635\n",
      "2025-08-03 21:15:11.030480: I tensorflow/core/framework/local_rendezvous.cc:426] Local rendezvous recv item cancelled. Key hash: 10406326558101294011\n",
      "2025-08-03 21:15:11.030484: I tensorflow/core/framework/local_rendezvous.cc:426] Local rendezvous recv item cancelled. Key hash: 3298193932251162611\n",
      "2025-08-03 21:15:11.030488: I tensorflow/core/framework/local_rendezvous.cc:426] Local rendezvous recv item cancelled. Key hash: 17362489797032305050\n",
      "2025-08-03 21:15:11.030491: I tensorflow/core/framework/local_rendezvous.cc:426] Local rendezvous recv item cancelled. Key hash: 13205672693760957270\n",
      "2025-08-03 21:15:11.030493: I tensorflow/core/framework/local_rendezvous.cc:430] Local rendezvous send item cancelled. Key hash: 11169917153968636994\n",
      "2025-08-03 21:15:11.030496: I tensorflow/core/framework/local_rendezvous.cc:426] Local rendezvous recv item cancelled. Key hash: 3415547259572331962\n"
     ]
    },
    {
     "name": "stdout",
     "output_type": "stream",
     "text": [
      "\u001b[1m47719/47719\u001b[0m \u001b[32m━━━━━━━━━━━━━━━━━━━━\u001b[0m\u001b[37m\u001b[0m \u001b[1m2393s\u001b[0m 50ms/step - loss: 2.4746 - sparse_categorical_accuracy: 0.1456 - val_loss: 2.7077 - val_sparse_categorical_accuracy: 0.1380 - learning_rate: 0.0010\n",
      "Epoch 19/30\n",
      "\u001b[1m47508/47719\u001b[0m \u001b[32m━━━━━━━━━━━━━━━━━━━\u001b[0m\u001b[37m━\u001b[0m \u001b[1m10s\u001b[0m 48ms/step - loss: 2.4721 - sparse_categorical_accuracy: 0.1457"
     ]
    },
    {
     "name": "stderr",
     "output_type": "stream",
     "text": [
      "2025-08-03 21:55:07.992438: I tensorflow/core/framework/local_rendezvous.cc:426] Local rendezvous recv item cancelled. Key hash: 6017271411481260721\n",
      "2025-08-03 21:55:07.992459: I tensorflow/core/framework/local_rendezvous.cc:430] Local rendezvous send item cancelled. Key hash: 11205808568531276363\n",
      "2025-08-03 21:55:07.992469: I tensorflow/core/framework/local_rendezvous.cc:426] Local rendezvous recv item cancelled. Key hash: 209703165076108331\n",
      "2025-08-03 21:55:07.992474: I tensorflow/core/framework/local_rendezvous.cc:426] Local rendezvous recv item cancelled. Key hash: 3298193932251162611\n",
      "2025-08-03 21:55:07.992481: I tensorflow/core/framework/local_rendezvous.cc:426] Local rendezvous recv item cancelled. Key hash: 10406326558101294011\n",
      "2025-08-03 21:55:07.992486: I tensorflow/core/framework/local_rendezvous.cc:426] Local rendezvous recv item cancelled. Key hash: 2715499535751355505\n",
      "2025-08-03 21:55:07.992493: I tensorflow/core/framework/local_rendezvous.cc:426] Local rendezvous recv item cancelled. Key hash: 14560809008107187635\n",
      "2025-08-03 21:55:07.992500: I tensorflow/core/framework/local_rendezvous.cc:426] Local rendezvous recv item cancelled. Key hash: 679896574015401541\n",
      "2025-08-03 21:55:07.992507: I tensorflow/core/framework/local_rendezvous.cc:426] Local rendezvous recv item cancelled. Key hash: 17362489797032305050\n",
      "2025-08-03 21:55:07.992514: I tensorflow/core/framework/local_rendezvous.cc:426] Local rendezvous recv item cancelled. Key hash: 13205672693760957270\n",
      "2025-08-03 21:55:07.992517: I tensorflow/core/framework/local_rendezvous.cc:430] Local rendezvous send item cancelled. Key hash: 11169917153968636994\n",
      "2025-08-03 21:55:07.992521: I tensorflow/core/framework/local_rendezvous.cc:426] Local rendezvous recv item cancelled. Key hash: 3415547259572331962\n"
     ]
    },
    {
     "name": "stdout",
     "output_type": "stream",
     "text": [
      "\u001b[1m47719/47719\u001b[0m \u001b[32m━━━━━━━━━━━━━━━━━━━━\u001b[0m\u001b[37m\u001b[0m \u001b[1m2397s\u001b[0m 50ms/step - loss: 2.4721 - sparse_categorical_accuracy: 0.1457 - val_loss: 2.7075 - val_sparse_categorical_accuracy: 0.1380 - learning_rate: 0.0010\n",
      "Epoch 20/30\n",
      "\u001b[1m47508/47719\u001b[0m \u001b[32m━━━━━━━━━━━━━━━━━━━\u001b[0m\u001b[37m━\u001b[0m \u001b[1m9s\u001b[0m 47ms/step - loss: 2.4698 - sparse_categorical_accuracy: 0.1458 "
     ]
    },
    {
     "name": "stderr",
     "output_type": "stream",
     "text": [
      "2025-08-03 22:34:31.489992: I tensorflow/core/framework/local_rendezvous.cc:426] Local rendezvous recv item cancelled. Key hash: 6017271411481260721\n",
      "2025-08-03 22:34:31.490014: I tensorflow/core/framework/local_rendezvous.cc:430] Local rendezvous send item cancelled. Key hash: 11205808568531276363\n",
      "2025-08-03 22:34:31.490022: I tensorflow/core/framework/local_rendezvous.cc:426] Local rendezvous recv item cancelled. Key hash: 209703165076108331\n",
      "2025-08-03 22:34:31.490028: I tensorflow/core/framework/local_rendezvous.cc:426] Local rendezvous recv item cancelled. Key hash: 3298193932251162611\n",
      "2025-08-03 22:34:31.490034: I tensorflow/core/framework/local_rendezvous.cc:426] Local rendezvous recv item cancelled. Key hash: 10406326558101294011\n",
      "2025-08-03 22:34:31.490060: I tensorflow/core/framework/local_rendezvous.cc:426] Local rendezvous recv item cancelled. Key hash: 2715499535751355505\n",
      "2025-08-03 22:34:31.490066: I tensorflow/core/framework/local_rendezvous.cc:426] Local rendezvous recv item cancelled. Key hash: 14560809008107187635\n",
      "2025-08-03 22:34:31.490072: I tensorflow/core/framework/local_rendezvous.cc:426] Local rendezvous recv item cancelled. Key hash: 679896574015401541\n",
      "2025-08-03 22:34:31.490080: I tensorflow/core/framework/local_rendezvous.cc:426] Local rendezvous recv item cancelled. Key hash: 17362489797032305050\n",
      "2025-08-03 22:34:31.490085: I tensorflow/core/framework/local_rendezvous.cc:426] Local rendezvous recv item cancelled. Key hash: 13205672693760957270\n",
      "2025-08-03 22:34:31.490089: I tensorflow/core/framework/local_rendezvous.cc:430] Local rendezvous send item cancelled. Key hash: 11169917153968636994\n",
      "2025-08-03 22:34:31.490094: I tensorflow/core/framework/local_rendezvous.cc:426] Local rendezvous recv item cancelled. Key hash: 3415547259572331962\n"
     ]
    },
    {
     "name": "stdout",
     "output_type": "stream",
     "text": [
      "\u001b[1m47719/47719\u001b[0m \u001b[32m━━━━━━━━━━━━━━━━━━━━\u001b[0m\u001b[37m\u001b[0m \u001b[1m2363s\u001b[0m 50ms/step - loss: 2.4698 - sparse_categorical_accuracy: 0.1458 - val_loss: 2.7076 - val_sparse_categorical_accuracy: 0.1380 - learning_rate: 0.0010\n",
      "Epoch 21/30\n",
      "\u001b[1m47507/47719\u001b[0m \u001b[32m━━━━━━━━━━━━━━━━━━━\u001b[0m\u001b[37m━\u001b[0m \u001b[1m9s\u001b[0m 47ms/step - loss: 2.4677 - sparse_categorical_accuracy: 0.1459 "
     ]
    },
    {
     "name": "stderr",
     "output_type": "stream",
     "text": [
      "2025-08-03 23:13:37.195986: I tensorflow/core/framework/local_rendezvous.cc:430] Local rendezvous send item cancelled. Key hash: 11205808568531276363\n",
      "2025-08-03 23:13:37.196004: I tensorflow/core/framework/local_rendezvous.cc:426] Local rendezvous recv item cancelled. Key hash: 6017271411481260721\n",
      "2025-08-03 23:13:37.196009: I tensorflow/core/framework/local_rendezvous.cc:426] Local rendezvous recv item cancelled. Key hash: 209703165076108331\n",
      "2025-08-03 23:13:37.196013: I tensorflow/core/framework/local_rendezvous.cc:426] Local rendezvous recv item cancelled. Key hash: 3298193932251162611\n",
      "2025-08-03 23:13:37.196018: I tensorflow/core/framework/local_rendezvous.cc:426] Local rendezvous recv item cancelled. Key hash: 10406326558101294011\n",
      "2025-08-03 23:13:37.196021: I tensorflow/core/framework/local_rendezvous.cc:426] Local rendezvous recv item cancelled. Key hash: 2715499535751355505\n",
      "2025-08-03 23:13:37.196024: I tensorflow/core/framework/local_rendezvous.cc:426] Local rendezvous recv item cancelled. Key hash: 14560809008107187635\n",
      "2025-08-03 23:13:37.196028: I tensorflow/core/framework/local_rendezvous.cc:426] Local rendezvous recv item cancelled. Key hash: 679896574015401541\n",
      "2025-08-03 23:13:37.196042: I tensorflow/core/framework/local_rendezvous.cc:426] Local rendezvous recv item cancelled. Key hash: 17362489797032305050\n",
      "2025-08-03 23:13:37.196045: I tensorflow/core/framework/local_rendezvous.cc:426] Local rendezvous recv item cancelled. Key hash: 13205672693760957270\n",
      "2025-08-03 23:13:37.196047: I tensorflow/core/framework/local_rendezvous.cc:430] Local rendezvous send item cancelled. Key hash: 11169917153968636994\n",
      "2025-08-03 23:13:37.196051: I tensorflow/core/framework/local_rendezvous.cc:426] Local rendezvous recv item cancelled. Key hash: 3415547259572331962\n"
     ]
    },
    {
     "name": "stdout",
     "output_type": "stream",
     "text": [
      "\u001b[1m47719/47719\u001b[0m \u001b[32m━━━━━━━━━━━━━━━━━━━━\u001b[0m\u001b[37m\u001b[0m \u001b[1m2346s\u001b[0m 49ms/step - loss: 2.4677 - sparse_categorical_accuracy: 0.1459 - val_loss: 2.7078 - val_sparse_categorical_accuracy: 0.1381 - learning_rate: 0.0010\n",
      "Epoch 22/30\n",
      "\u001b[1m47507/47719\u001b[0m \u001b[32m━━━━━━━━━━━━━━━━━━━\u001b[0m\u001b[37m━\u001b[0m \u001b[1m10s\u001b[0m 47ms/step - loss: 2.4657 - sparse_categorical_accuracy: 0.1459"
     ]
    },
    {
     "name": "stderr",
     "output_type": "stream",
     "text": [
      "2025-08-03 23:53:01.612079: I tensorflow/core/framework/local_rendezvous.cc:426] Local rendezvous recv item cancelled. Key hash: 6017271411481260721\n",
      "2025-08-03 23:53:01.612099: I tensorflow/core/framework/local_rendezvous.cc:430] Local rendezvous send item cancelled. Key hash: 11205808568531276363\n",
      "2025-08-03 23:53:01.612106: I tensorflow/core/framework/local_rendezvous.cc:426] Local rendezvous recv item cancelled. Key hash: 209703165076108331\n",
      "2025-08-03 23:53:01.612113: I tensorflow/core/framework/local_rendezvous.cc:426] Local rendezvous recv item cancelled. Key hash: 3298193932251162611\n",
      "2025-08-03 23:53:01.612131: I tensorflow/core/framework/local_rendezvous.cc:426] Local rendezvous recv item cancelled. Key hash: 10406326558101294011\n",
      "2025-08-03 23:53:01.612138: I tensorflow/core/framework/local_rendezvous.cc:426] Local rendezvous recv item cancelled. Key hash: 2715499535751355505\n",
      "2025-08-03 23:53:01.612144: I tensorflow/core/framework/local_rendezvous.cc:426] Local rendezvous recv item cancelled. Key hash: 14560809008107187635\n",
      "2025-08-03 23:53:01.612150: I tensorflow/core/framework/local_rendezvous.cc:426] Local rendezvous recv item cancelled. Key hash: 679896574015401541\n",
      "2025-08-03 23:53:01.612163: I tensorflow/core/framework/local_rendezvous.cc:426] Local rendezvous recv item cancelled. Key hash: 17362489797032305050\n",
      "2025-08-03 23:53:01.612170: I tensorflow/core/framework/local_rendezvous.cc:426] Local rendezvous recv item cancelled. Key hash: 13205672693760957270\n",
      "2025-08-03 23:53:01.612175: I tensorflow/core/framework/local_rendezvous.cc:430] Local rendezvous send item cancelled. Key hash: 11169917153968636994\n",
      "2025-08-03 23:53:01.612180: I tensorflow/core/framework/local_rendezvous.cc:426] Local rendezvous recv item cancelled. Key hash: 3415547259572331962\n"
     ]
    },
    {
     "name": "stdout",
     "output_type": "stream",
     "text": [
      "\u001b[1m47719/47719\u001b[0m \u001b[32m━━━━━━━━━━━━━━━━━━━━\u001b[0m\u001b[37m\u001b[0m \u001b[1m2364s\u001b[0m 50ms/step - loss: 2.4657 - sparse_categorical_accuracy: 0.1459 - val_loss: 2.7065 - val_sparse_categorical_accuracy: 0.1381 - learning_rate: 0.0010\n",
      "Epoch 23/30\n",
      "\u001b[1m47507/47719\u001b[0m \u001b[32m━━━━━━━━━━━━━━━━━━━\u001b[0m\u001b[37m━\u001b[0m \u001b[1m10s\u001b[0m 48ms/step - loss: 2.4639 - sparse_categorical_accuracy: 0.1460"
     ]
    },
    {
     "name": "stderr",
     "output_type": "stream",
     "text": [
      "2025-08-04 00:32:50.398245: I tensorflow/core/framework/local_rendezvous.cc:430] Local rendezvous send item cancelled. Key hash: 16058616346649043098\n",
      "2025-08-04 00:32:50.398264: I tensorflow/core/framework/local_rendezvous.cc:426] Local rendezvous recv item cancelled. Key hash: 13205672693760957270\n",
      "2025-08-04 00:32:50.398267: I tensorflow/core/framework/local_rendezvous.cc:430] Local rendezvous send item cancelled. Key hash: 11169917153968636994\n",
      "2025-08-04 00:32:50.398271: I tensorflow/core/framework/local_rendezvous.cc:426] Local rendezvous recv item cancelled. Key hash: 3415547259572331962\n",
      "2025-08-04 00:32:50.398274: I tensorflow/core/framework/local_rendezvous.cc:430] Local rendezvous send item cancelled. Key hash: 11205808568531276363\n",
      "2025-08-04 00:32:50.398277: I tensorflow/core/framework/local_rendezvous.cc:426] Local rendezvous recv item cancelled. Key hash: 6017271411481260721\n",
      "2025-08-04 00:32:50.398302: I tensorflow/core/framework/local_rendezvous.cc:426] Local rendezvous recv item cancelled. Key hash: 209703165076108331\n",
      "2025-08-04 00:32:50.398306: I tensorflow/core/framework/local_rendezvous.cc:426] Local rendezvous recv item cancelled. Key hash: 14560809008107187635\n",
      "2025-08-04 00:32:50.398309: I tensorflow/core/framework/local_rendezvous.cc:426] Local rendezvous recv item cancelled. Key hash: 3298193932251162611\n"
     ]
    },
    {
     "name": "stdout",
     "output_type": "stream",
     "text": [
      "\u001b[1m47719/47719\u001b[0m \u001b[32m━━━━━━━━━━━━━━━━━━━━\u001b[0m\u001b[37m\u001b[0m \u001b[1m2389s\u001b[0m 50ms/step - loss: 2.4639 - sparse_categorical_accuracy: 0.1460 - val_loss: 2.7058 - val_sparse_categorical_accuracy: 0.1381 - learning_rate: 0.0010\n",
      "Epoch 24/30\n",
      "\u001b[1m47507/47719\u001b[0m \u001b[32m━━━━━━━━━━━━━━━━━━━\u001b[0m\u001b[37m━\u001b[0m \u001b[1m10s\u001b[0m 48ms/step - loss: 2.4622 - sparse_categorical_accuracy: 0.1461"
     ]
    },
    {
     "name": "stderr",
     "output_type": "stream",
     "text": [
      "2025-08-04 01:12:25.269982: I tensorflow/core/framework/local_rendezvous.cc:430] Local rendezvous send item cancelled. Key hash: 11205808568531276363\n",
      "2025-08-04 01:12:25.270004: I tensorflow/core/framework/local_rendezvous.cc:426] Local rendezvous recv item cancelled. Key hash: 6017271411481260721\n",
      "2025-08-04 01:12:25.270009: I tensorflow/core/framework/local_rendezvous.cc:426] Local rendezvous recv item cancelled. Key hash: 209703165076108331\n",
      "2025-08-04 01:12:25.270014: I tensorflow/core/framework/local_rendezvous.cc:426] Local rendezvous recv item cancelled. Key hash: 3298193932251162611\n",
      "2025-08-04 01:12:25.270018: I tensorflow/core/framework/local_rendezvous.cc:426] Local rendezvous recv item cancelled. Key hash: 10406326558101294011\n",
      "2025-08-04 01:12:25.270023: I tensorflow/core/framework/local_rendezvous.cc:426] Local rendezvous recv item cancelled. Key hash: 2715499535751355505\n",
      "2025-08-04 01:12:25.270027: I tensorflow/core/framework/local_rendezvous.cc:426] Local rendezvous recv item cancelled. Key hash: 14560809008107187635\n",
      "2025-08-04 01:12:25.270031: I tensorflow/core/framework/local_rendezvous.cc:426] Local rendezvous recv item cancelled. Key hash: 679896574015401541\n",
      "2025-08-04 01:12:25.270037: I tensorflow/core/framework/local_rendezvous.cc:426] Local rendezvous recv item cancelled. Key hash: 17362489797032305050\n",
      "2025-08-04 01:12:25.270041: I tensorflow/core/framework/local_rendezvous.cc:426] Local rendezvous recv item cancelled. Key hash: 13205672693760957270\n",
      "2025-08-04 01:12:25.270044: I tensorflow/core/framework/local_rendezvous.cc:430] Local rendezvous send item cancelled. Key hash: 11169917153968636994\n",
      "2025-08-04 01:12:25.270049: I tensorflow/core/framework/local_rendezvous.cc:426] Local rendezvous recv item cancelled. Key hash: 3415547259572331962\n"
     ]
    },
    {
     "name": "stdout",
     "output_type": "stream",
     "text": [
      "\u001b[1m47719/47719\u001b[0m \u001b[32m━━━━━━━━━━━━━━━━━━━━\u001b[0m\u001b[37m\u001b[0m \u001b[1m2375s\u001b[0m 50ms/step - loss: 2.4622 - sparse_categorical_accuracy: 0.1461 - val_loss: 2.7057 - val_sparse_categorical_accuracy: 0.1381 - learning_rate: 0.0010\n",
      "Epoch 25/30\n",
      "\u001b[1m47507/47719\u001b[0m \u001b[32m━━━━━━━━━━━━━━━━━━━\u001b[0m\u001b[37m━\u001b[0m \u001b[1m10s\u001b[0m 47ms/step - loss: 2.4606 - sparse_categorical_accuracy: 0.1461"
     ]
    },
    {
     "name": "stderr",
     "output_type": "stream",
     "text": [
      "2025-08-04 01:51:44.683032: I tensorflow/core/framework/local_rendezvous.cc:430] Local rendezvous send item cancelled. Key hash: 11205808568531276363\n",
      "2025-08-04 01:51:44.683053: I tensorflow/core/framework/local_rendezvous.cc:426] Local rendezvous recv item cancelled. Key hash: 6017271411481260721\n",
      "2025-08-04 01:51:44.683058: I tensorflow/core/framework/local_rendezvous.cc:426] Local rendezvous recv item cancelled. Key hash: 209703165076108331\n",
      "2025-08-04 01:51:44.683062: I tensorflow/core/framework/local_rendezvous.cc:426] Local rendezvous recv item cancelled. Key hash: 3298193932251162611\n",
      "2025-08-04 01:51:44.683066: I tensorflow/core/framework/local_rendezvous.cc:426] Local rendezvous recv item cancelled. Key hash: 10406326558101294011\n",
      "2025-08-04 01:51:44.683070: I tensorflow/core/framework/local_rendezvous.cc:426] Local rendezvous recv item cancelled. Key hash: 2715499535751355505\n",
      "2025-08-04 01:51:44.683074: I tensorflow/core/framework/local_rendezvous.cc:426] Local rendezvous recv item cancelled. Key hash: 14560809008107187635\n",
      "2025-08-04 01:51:44.683077: I tensorflow/core/framework/local_rendezvous.cc:426] Local rendezvous recv item cancelled. Key hash: 679896574015401541\n",
      "2025-08-04 01:51:44.683082: I tensorflow/core/framework/local_rendezvous.cc:426] Local rendezvous recv item cancelled. Key hash: 17362489797032305050\n",
      "2025-08-04 01:51:44.683086: I tensorflow/core/framework/local_rendezvous.cc:426] Local rendezvous recv item cancelled. Key hash: 13205672693760957270\n",
      "2025-08-04 01:51:44.683089: I tensorflow/core/framework/local_rendezvous.cc:430] Local rendezvous send item cancelled. Key hash: 11169917153968636994\n",
      "2025-08-04 01:51:44.683093: I tensorflow/core/framework/local_rendezvous.cc:426] Local rendezvous recv item cancelled. Key hash: 3415547259572331962\n"
     ]
    },
    {
     "name": "stdout",
     "output_type": "stream",
     "text": [
      "\u001b[1m47719/47719\u001b[0m \u001b[32m━━━━━━━━━━━━━━━━━━━━\u001b[0m\u001b[37m\u001b[0m \u001b[1m2360s\u001b[0m 49ms/step - loss: 2.4606 - sparse_categorical_accuracy: 0.1461 - val_loss: 2.7052 - val_sparse_categorical_accuracy: 0.1382 - learning_rate: 0.0010\n",
      "Epoch 26/30\n",
      "\u001b[1m47508/47719\u001b[0m \u001b[32m━━━━━━━━━━━━━━━━━━━\u001b[0m\u001b[37m━\u001b[0m \u001b[1m9s\u001b[0m 47ms/step - loss: 2.4591 - sparse_categorical_accuracy: 0.1462 "
     ]
    },
    {
     "name": "stderr",
     "output_type": "stream",
     "text": [
      "2025-08-04 02:30:59.123896: I tensorflow/core/framework/local_rendezvous.cc:426] Local rendezvous recv item cancelled. Key hash: 6017271411481260721\n",
      "2025-08-04 02:30:59.123916: I tensorflow/core/framework/local_rendezvous.cc:430] Local rendezvous send item cancelled. Key hash: 11205808568531276363\n",
      "2025-08-04 02:30:59.123922: I tensorflow/core/framework/local_rendezvous.cc:426] Local rendezvous recv item cancelled. Key hash: 209703165076108331\n",
      "2025-08-04 02:30:59.123927: I tensorflow/core/framework/local_rendezvous.cc:426] Local rendezvous recv item cancelled. Key hash: 3298193932251162611\n",
      "2025-08-04 02:30:59.123932: I tensorflow/core/framework/local_rendezvous.cc:426] Local rendezvous recv item cancelled. Key hash: 10406326558101294011\n",
      "2025-08-04 02:30:59.123936: I tensorflow/core/framework/local_rendezvous.cc:426] Local rendezvous recv item cancelled. Key hash: 14560809008107187635\n",
      "2025-08-04 02:30:59.123941: I tensorflow/core/framework/local_rendezvous.cc:426] Local rendezvous recv item cancelled. Key hash: 679896574015401541\n",
      "2025-08-04 02:30:59.123948: I tensorflow/core/framework/local_rendezvous.cc:426] Local rendezvous recv item cancelled. Key hash: 17362489797032305050\n",
      "2025-08-04 02:30:59.123954: I tensorflow/core/framework/local_rendezvous.cc:426] Local rendezvous recv item cancelled. Key hash: 13205672693760957270\n",
      "2025-08-04 02:30:59.123959: I tensorflow/core/framework/local_rendezvous.cc:430] Local rendezvous send item cancelled. Key hash: 11169917153968636994\n",
      "2025-08-04 02:30:59.123967: I tensorflow/core/framework/local_rendezvous.cc:426] Local rendezvous recv item cancelled. Key hash: 3415547259572331962\n"
     ]
    },
    {
     "name": "stdout",
     "output_type": "stream",
     "text": [
      "\u001b[1m47719/47719\u001b[0m \u001b[32m━━━━━━━━━━━━━━━━━━━━\u001b[0m\u001b[37m\u001b[0m \u001b[1m2355s\u001b[0m 49ms/step - loss: 2.4591 - sparse_categorical_accuracy: 0.1462 - val_loss: 2.7047 - val_sparse_categorical_accuracy: 0.1382 - learning_rate: 0.0010\n",
      "Epoch 27/30\n",
      "\u001b[1m47508/47719\u001b[0m \u001b[32m━━━━━━━━━━━━━━━━━━━\u001b[0m\u001b[37m━\u001b[0m \u001b[1m10s\u001b[0m 48ms/step - loss: 2.4578 - sparse_categorical_accuracy: 0.1462"
     ]
    },
    {
     "name": "stderr",
     "output_type": "stream",
     "text": [
      "2025-08-04 03:10:38.396594: I tensorflow/core/framework/local_rendezvous.cc:426] Local rendezvous recv item cancelled. Key hash: 6017271411481260721\n",
      "2025-08-04 03:10:38.396628: I tensorflow/core/framework/local_rendezvous.cc:430] Local rendezvous send item cancelled. Key hash: 11205808568531276363\n",
      "2025-08-04 03:10:38.396636: I tensorflow/core/framework/local_rendezvous.cc:426] Local rendezvous recv item cancelled. Key hash: 209703165076108331\n",
      "2025-08-04 03:10:38.396642: I tensorflow/core/framework/local_rendezvous.cc:426] Local rendezvous recv item cancelled. Key hash: 3298193932251162611\n",
      "2025-08-04 03:10:38.396648: I tensorflow/core/framework/local_rendezvous.cc:426] Local rendezvous recv item cancelled. Key hash: 10406326558101294011\n",
      "2025-08-04 03:10:38.396652: I tensorflow/core/framework/local_rendezvous.cc:426] Local rendezvous recv item cancelled. Key hash: 2715499535751355505\n",
      "2025-08-04 03:10:38.396656: I tensorflow/core/framework/local_rendezvous.cc:426] Local rendezvous recv item cancelled. Key hash: 14560809008107187635\n",
      "2025-08-04 03:10:38.396660: I tensorflow/core/framework/local_rendezvous.cc:426] Local rendezvous recv item cancelled. Key hash: 679896574015401541\n",
      "2025-08-04 03:10:38.396665: I tensorflow/core/framework/local_rendezvous.cc:426] Local rendezvous recv item cancelled. Key hash: 17362489797032305050\n",
      "2025-08-04 03:10:38.396671: I tensorflow/core/framework/local_rendezvous.cc:426] Local rendezvous recv item cancelled. Key hash: 13205672693760957270\n",
      "2025-08-04 03:10:38.396675: I tensorflow/core/framework/local_rendezvous.cc:430] Local rendezvous send item cancelled. Key hash: 11169917153968636994\n",
      "2025-08-04 03:10:38.396680: I tensorflow/core/framework/local_rendezvous.cc:426] Local rendezvous recv item cancelled. Key hash: 3415547259572331962\n"
     ]
    },
    {
     "name": "stdout",
     "output_type": "stream",
     "text": [
      "\u001b[1m47719/47719\u001b[0m \u001b[32m━━━━━━━━━━━━━━━━━━━━\u001b[0m\u001b[37m\u001b[0m \u001b[1m2379s\u001b[0m 50ms/step - loss: 2.4578 - sparse_categorical_accuracy: 0.1462 - val_loss: 2.7043 - val_sparse_categorical_accuracy: 0.1382 - learning_rate: 0.0010\n",
      "Epoch 28/30\n",
      "\u001b[1m47507/47719\u001b[0m \u001b[32m━━━━━━━━━━━━━━━━━━━\u001b[0m\u001b[37m━\u001b[0m \u001b[1m9s\u001b[0m 47ms/step - loss: 2.4563 - sparse_categorical_accuracy: 0.1463 "
     ]
    },
    {
     "name": "stderr",
     "output_type": "stream",
     "text": [
      "2025-08-04 03:49:43.975510: I tensorflow/core/framework/local_rendezvous.cc:430] Local rendezvous send item cancelled. Key hash: 11205808568531276363\n",
      "2025-08-04 03:49:43.975528: I tensorflow/core/framework/local_rendezvous.cc:426] Local rendezvous recv item cancelled. Key hash: 6017271411481260721\n",
      "2025-08-04 03:49:43.975533: I tensorflow/core/framework/local_rendezvous.cc:426] Local rendezvous recv item cancelled. Key hash: 209703165076108331\n",
      "2025-08-04 03:49:43.975537: I tensorflow/core/framework/local_rendezvous.cc:426] Local rendezvous recv item cancelled. Key hash: 3298193932251162611\n",
      "2025-08-04 03:49:43.975542: I tensorflow/core/framework/local_rendezvous.cc:426] Local rendezvous recv item cancelled. Key hash: 10406326558101294011\n",
      "2025-08-04 03:49:43.975545: I tensorflow/core/framework/local_rendezvous.cc:426] Local rendezvous recv item cancelled. Key hash: 2715499535751355505\n",
      "2025-08-04 03:49:43.975549: I tensorflow/core/framework/local_rendezvous.cc:426] Local rendezvous recv item cancelled. Key hash: 14560809008107187635\n",
      "2025-08-04 03:49:43.975552: I tensorflow/core/framework/local_rendezvous.cc:426] Local rendezvous recv item cancelled. Key hash: 679896574015401541\n",
      "2025-08-04 03:49:43.975556: I tensorflow/core/framework/local_rendezvous.cc:426] Local rendezvous recv item cancelled. Key hash: 17362489797032305050\n",
      "2025-08-04 03:49:43.975559: I tensorflow/core/framework/local_rendezvous.cc:426] Local rendezvous recv item cancelled. Key hash: 13205672693760957270\n",
      "2025-08-04 03:49:43.975561: I tensorflow/core/framework/local_rendezvous.cc:430] Local rendezvous send item cancelled. Key hash: 11169917153968636994\n",
      "2025-08-04 03:49:43.975565: I tensorflow/core/framework/local_rendezvous.cc:426] Local rendezvous recv item cancelled. Key hash: 3415547259572331962\n"
     ]
    },
    {
     "name": "stdout",
     "output_type": "stream",
     "text": [
      "\u001b[1m47719/47719\u001b[0m \u001b[32m━━━━━━━━━━━━━━━━━━━━\u001b[0m\u001b[37m\u001b[0m \u001b[1m2346s\u001b[0m 49ms/step - loss: 2.4563 - sparse_categorical_accuracy: 0.1463 - val_loss: 2.7042 - val_sparse_categorical_accuracy: 0.1382 - learning_rate: 0.0010\n",
      "Epoch 29/30\n",
      "\u001b[1m47508/47719\u001b[0m \u001b[32m━━━━━━━━━━━━━━━━━━━\u001b[0m\u001b[37m━\u001b[0m \u001b[1m9s\u001b[0m 47ms/step - loss: 2.4552 - sparse_categorical_accuracy: 0.1463 "
     ]
    },
    {
     "name": "stderr",
     "output_type": "stream",
     "text": [
      "2025-08-04 04:28:52.696531: I tensorflow/core/framework/local_rendezvous.cc:430] Local rendezvous send item cancelled. Key hash: 16058616346649043098\n",
      "2025-08-04 04:28:52.696558: I tensorflow/core/framework/local_rendezvous.cc:426] Local rendezvous recv item cancelled. Key hash: 17362489797032305050\n",
      "2025-08-04 04:28:52.696570: I tensorflow/core/framework/local_rendezvous.cc:426] Local rendezvous recv item cancelled. Key hash: 13205672693760957270\n",
      "2025-08-04 04:28:52.696575: I tensorflow/core/framework/local_rendezvous.cc:426] Local rendezvous recv item cancelled. Key hash: 6017271411481260721\n",
      "2025-08-04 04:28:52.696592: I tensorflow/core/framework/local_rendezvous.cc:430] Local rendezvous send item cancelled. Key hash: 11205808568531276363\n",
      "2025-08-04 04:28:52.696596: I tensorflow/core/framework/local_rendezvous.cc:430] Local rendezvous send item cancelled. Key hash: 11169917153968636994\n",
      "2025-08-04 04:28:52.696601: I tensorflow/core/framework/local_rendezvous.cc:426] Local rendezvous recv item cancelled. Key hash: 209703165076108331\n",
      "2025-08-04 04:28:52.696611: I tensorflow/core/framework/local_rendezvous.cc:426] Local rendezvous recv item cancelled. Key hash: 14560809008107187635\n",
      "2025-08-04 04:28:52.696617: I tensorflow/core/framework/local_rendezvous.cc:426] Local rendezvous recv item cancelled. Key hash: 3298193932251162611\n",
      "2025-08-04 04:28:52.696620: I tensorflow/core/framework/local_rendezvous.cc:426] Local rendezvous recv item cancelled. Key hash: 3415547259572331962\n"
     ]
    },
    {
     "name": "stdout",
     "output_type": "stream",
     "text": [
      "\u001b[1m47719/47719\u001b[0m \u001b[32m━━━━━━━━━━━━━━━━━━━━\u001b[0m\u001b[37m\u001b[0m \u001b[1m2348s\u001b[0m 49ms/step - loss: 2.4552 - sparse_categorical_accuracy: 0.1463 - val_loss: 2.7042 - val_sparse_categorical_accuracy: 0.1382 - learning_rate: 0.0010\n",
      "Epoch 30/30\n",
      "\u001b[1m47507/47719\u001b[0m \u001b[32m━━━━━━━━━━━━━━━━━━━\u001b[0m\u001b[37m━\u001b[0m \u001b[1m10s\u001b[0m 47ms/step - loss: 2.4538 - sparse_categorical_accuracy: 0.1464"
     ]
    },
    {
     "name": "stderr",
     "output_type": "stream",
     "text": [
      "2025-08-04 05:08:15.016575: I tensorflow/core/framework/local_rendezvous.cc:430] Local rendezvous send item cancelled. Key hash: 11205808568531276363\n",
      "2025-08-04 05:08:15.016594: I tensorflow/core/framework/local_rendezvous.cc:426] Local rendezvous recv item cancelled. Key hash: 6017271411481260721\n",
      "2025-08-04 05:08:15.016598: I tensorflow/core/framework/local_rendezvous.cc:426] Local rendezvous recv item cancelled. Key hash: 209703165076108331\n",
      "2025-08-04 05:08:15.016602: I tensorflow/core/framework/local_rendezvous.cc:426] Local rendezvous recv item cancelled. Key hash: 3298193932251162611\n",
      "2025-08-04 05:08:15.016606: I tensorflow/core/framework/local_rendezvous.cc:426] Local rendezvous recv item cancelled. Key hash: 10406326558101294011\n",
      "2025-08-04 05:08:15.016609: I tensorflow/core/framework/local_rendezvous.cc:426] Local rendezvous recv item cancelled. Key hash: 2715499535751355505\n",
      "2025-08-04 05:08:15.016612: I tensorflow/core/framework/local_rendezvous.cc:426] Local rendezvous recv item cancelled. Key hash: 14560809008107187635\n",
      "2025-08-04 05:08:15.016616: I tensorflow/core/framework/local_rendezvous.cc:426] Local rendezvous recv item cancelled. Key hash: 679896574015401541\n",
      "2025-08-04 05:08:15.016621: I tensorflow/core/framework/local_rendezvous.cc:426] Local rendezvous recv item cancelled. Key hash: 17362489797032305050\n",
      "2025-08-04 05:08:15.016624: I tensorflow/core/framework/local_rendezvous.cc:426] Local rendezvous recv item cancelled. Key hash: 13205672693760957270\n",
      "2025-08-04 05:08:15.016626: I tensorflow/core/framework/local_rendezvous.cc:430] Local rendezvous send item cancelled. Key hash: 11169917153968636994\n",
      "2025-08-04 05:08:15.016629: I tensorflow/core/framework/local_rendezvous.cc:426] Local rendezvous recv item cancelled. Key hash: 3415547259572331962\n"
     ]
    },
    {
     "name": "stdout",
     "output_type": "stream",
     "text": [
      "\u001b[1m47719/47719\u001b[0m \u001b[32m━━━━━━━━━━━━━━━━━━━━\u001b[0m\u001b[37m\u001b[0m \u001b[1m2363s\u001b[0m 50ms/step - loss: 2.4538 - sparse_categorical_accuracy: 0.1464 - val_loss: 2.7036 - val_sparse_categorical_accuracy: 0.1382 - learning_rate: 0.0010\n"
     ]
    }
   ],
   "source": [
    "from tensorflow.keras.callbacks import EarlyStopping, ReduceLROnPlateau\n",
    "callbacks = [\n",
    "    EarlyStopping(monitor='val_loss', patience=5, restore_best_weights=True),\n",
    "    ReduceLROnPlateau(monitor='val_loss', factor=0.5, patience=3)\n",
    "]\n",
    "\n",
    "history = model.fit(\n",
    "    train_ds,\n",
    "    epochs=30,\n",
    "    #steps_per_epoch=10,\n",
    "    # verbose=2,\n",
    "    validation_data=val_ds,\n",
    "    callbacks=callbacks\n",
    ")"
   ]
  },
  {
   "cell_type": "code",
   "execution_count": null,
   "id": "e5806d63",
   "metadata": {},
   "outputs": [
    {
     "name": "stdout",
     "output_type": "stream",
     "text": [
      "Epoch 1/30\n",
      "\u001b[1m10/10\u001b[0m \u001b[32m━━━━━━━━━━━━━━━━━━━━\u001b[0m\u001b[37m\u001b[0m \u001b[1m1s\u001b[0m 58ms/step - loss: 4.9508 - sparse_categorical_accuracy: 0.0468\n",
      "Epoch 2/30\n",
      "\u001b[1m 3/10\u001b[0m \u001b[32m━━━━━━\u001b[0m\u001b[37m━━━━━━━━━━━━━━\u001b[0m \u001b[1m0s\u001b[0m 42ms/step - loss: 4.9228 - sparse_categorical_accuracy: 0.0497"
     ]
    },
    {
     "name": "stderr",
     "output_type": "stream",
     "text": [
      "2025-08-02 23:07:19.683179: I tensorflow/core/framework/local_rendezvous.cc:426] Local rendezvous recv item cancelled. Key hash: 1081768004090644575\n",
      "2025-08-02 23:07:19.683215: I tensorflow/core/framework/local_rendezvous.cc:426] Local rendezvous recv item cancelled. Key hash: 5204528839323699281\n",
      "2025-08-02 23:07:19.683235: I tensorflow/core/framework/local_rendezvous.cc:426] Local rendezvous recv item cancelled. Key hash: 14949832453985974469\n",
      "2025-08-02 23:07:19.683243: I tensorflow/core/framework/local_rendezvous.cc:426] Local rendezvous recv item cancelled. Key hash: 733256767767716498\n",
      "2025-08-02 23:07:19.683277: I tensorflow/core/framework/local_rendezvous.cc:426] Local rendezvous recv item cancelled. Key hash: 8475208587743472188\n"
     ]
    },
    {
     "name": "stdout",
     "output_type": "stream",
     "text": [
      "\u001b[1m10/10\u001b[0m \u001b[32m━━━━━━━━━━━━━━━━━━━━\u001b[0m\u001b[37m\u001b[0m \u001b[1m0s\u001b[0m 38ms/step - loss: 4.9586 - sparse_categorical_accuracy: 0.0506\n",
      "Epoch 3/30\n",
      "\u001b[1m 1/10\u001b[0m \u001b[32m━━\u001b[0m\u001b[37m━━━━━━━━━━━━━━━━━━\u001b[0m \u001b[1m1s\u001b[0m 165ms/step - loss: 4.9186 - sparse_categorical_accuracy: 0.0554"
     ]
    },
    {
     "name": "stderr",
     "output_type": "stream",
     "text": [
      "2025-08-02 23:07:20.070016: I tensorflow/core/framework/local_rendezvous.cc:426] Local rendezvous recv item cancelled. Key hash: 1081768004090644575\n",
      "2025-08-02 23:07:20.070037: I tensorflow/core/framework/local_rendezvous.cc:426] Local rendezvous recv item cancelled. Key hash: 5204528839323699281\n",
      "2025-08-02 23:07:20.070045: I tensorflow/core/framework/local_rendezvous.cc:426] Local rendezvous recv item cancelled. Key hash: 14949832453985974469\n",
      "2025-08-02 23:07:20.070052: I tensorflow/core/framework/local_rendezvous.cc:426] Local rendezvous recv item cancelled. Key hash: 733256767767716498\n",
      "2025-08-02 23:07:20.070074: I tensorflow/core/framework/local_rendezvous.cc:426] Local rendezvous recv item cancelled. Key hash: 8475208587743472188\n"
     ]
    },
    {
     "name": "stdout",
     "output_type": "stream",
     "text": [
      "\u001b[1m10/10\u001b[0m \u001b[32m━━━━━━━━━━━━━━━━━━━━\u001b[0m\u001b[37m\u001b[0m \u001b[1m1s\u001b[0m 56ms/step - loss: 4.7918 - sparse_categorical_accuracy: 0.0509\n",
      "Epoch 4/30\n",
      "\u001b[1m 3/10\u001b[0m \u001b[32m━━━━━━\u001b[0m\u001b[37m━━━━━━━━━━━━━━\u001b[0m \u001b[1m0s\u001b[0m 43ms/step - loss: 4.9254 - sparse_categorical_accuracy: 0.0508"
     ]
    },
    {
     "name": "stderr",
     "output_type": "stream",
     "text": [
      "2025-08-02 23:07:20.739256: I tensorflow/core/framework/local_rendezvous.cc:407] Local rendezvous is aborting with status: OUT_OF_RANGE: End of sequence\n",
      "\t [[{{node IteratorGetNext}}]]\n",
      "2025-08-02 23:07:20.739288: I tensorflow/core/framework/local_rendezvous.cc:426] Local rendezvous recv item cancelled. Key hash: 1081768004090644575\n",
      "2025-08-02 23:07:20.739294: I tensorflow/core/framework/local_rendezvous.cc:426] Local rendezvous recv item cancelled. Key hash: 5204528839323699281\n",
      "2025-08-02 23:07:20.739300: I tensorflow/core/framework/local_rendezvous.cc:426] Local rendezvous recv item cancelled. Key hash: 14949832453985974469\n",
      "2025-08-02 23:07:20.739307: I tensorflow/core/framework/local_rendezvous.cc:426] Local rendezvous recv item cancelled. Key hash: 733256767767716498\n",
      "2025-08-02 23:07:20.739328: I tensorflow/core/framework/local_rendezvous.cc:426] Local rendezvous recv item cancelled. Key hash: 8475208587743472188\n"
     ]
    },
    {
     "name": "stdout",
     "output_type": "stream",
     "text": [
      "\u001b[1m10/10\u001b[0m \u001b[32m━━━━━━━━━━━━━━━━━━━━\u001b[0m\u001b[37m\u001b[0m \u001b[1m0s\u001b[0m 39ms/step - loss: 4.9766 - sparse_categorical_accuracy: 0.0490\n",
      "Epoch 5/30\n",
      "\u001b[1m 1/10\u001b[0m \u001b[32m━━\u001b[0m\u001b[37m━━━━━━━━━━━━━━━━━━\u001b[0m \u001b[1m1s\u001b[0m 158ms/step - loss: 4.7346 - sparse_categorical_accuracy: 0.0494"
     ]
    },
    {
     "name": "stderr",
     "output_type": "stream",
     "text": [
      "2025-08-02 23:07:21.133766: I tensorflow/core/framework/local_rendezvous.cc:426] Local rendezvous recv item cancelled. Key hash: 1081768004090644575\n",
      "2025-08-02 23:07:21.133788: I tensorflow/core/framework/local_rendezvous.cc:426] Local rendezvous recv item cancelled. Key hash: 5204528839323699281\n",
      "2025-08-02 23:07:21.133796: I tensorflow/core/framework/local_rendezvous.cc:426] Local rendezvous recv item cancelled. Key hash: 14949832453985974469\n",
      "2025-08-02 23:07:21.133804: I tensorflow/core/framework/local_rendezvous.cc:426] Local rendezvous recv item cancelled. Key hash: 733256767767716498\n",
      "2025-08-02 23:07:21.133830: I tensorflow/core/framework/local_rendezvous.cc:426] Local rendezvous recv item cancelled. Key hash: 8475208587743472188\n"
     ]
    },
    {
     "name": "stdout",
     "output_type": "stream",
     "text": [
      "\u001b[1m10/10\u001b[0m \u001b[32m━━━━━━━━━━━━━━━━━━━━\u001b[0m\u001b[37m\u001b[0m \u001b[1m1s\u001b[0m 56ms/step - loss: 4.7445 - sparse_categorical_accuracy: 0.0510\n",
      "Epoch 6/30\n",
      "\u001b[1m 3/10\u001b[0m \u001b[32m━━━━━━\u001b[0m\u001b[37m━━━━━━━━━━━━━━\u001b[0m \u001b[1m0s\u001b[0m 41ms/step - loss: 4.9151 - sparse_categorical_accuracy: 0.0454"
     ]
    },
    {
     "name": "stderr",
     "output_type": "stream",
     "text": [
      "2025-08-02 23:07:21.800509: I tensorflow/core/framework/local_rendezvous.cc:426] Local rendezvous recv item cancelled. Key hash: 1081768004090644575\n",
      "2025-08-02 23:07:21.800529: I tensorflow/core/framework/local_rendezvous.cc:426] Local rendezvous recv item cancelled. Key hash: 5204528839323699281\n",
      "2025-08-02 23:07:21.800536: I tensorflow/core/framework/local_rendezvous.cc:426] Local rendezvous recv item cancelled. Key hash: 14949832453985974469\n",
      "2025-08-02 23:07:21.800542: I tensorflow/core/framework/local_rendezvous.cc:426] Local rendezvous recv item cancelled. Key hash: 733256767767716498\n",
      "2025-08-02 23:07:21.800563: I tensorflow/core/framework/local_rendezvous.cc:426] Local rendezvous recv item cancelled. Key hash: 8475208587743472188\n"
     ]
    },
    {
     "name": "stdout",
     "output_type": "stream",
     "text": [
      "\u001b[1m10/10\u001b[0m \u001b[32m━━━━━━━━━━━━━━━━━━━━\u001b[0m\u001b[37m\u001b[0m \u001b[1m0s\u001b[0m 38ms/step - loss: 4.8524 - sparse_categorical_accuracy: 0.0493\n",
      "Epoch 7/30\n",
      "\u001b[1m 1/10\u001b[0m \u001b[32m━━\u001b[0m\u001b[37m━━━━━━━━━━━━━━━━━━\u001b[0m \u001b[1m1s\u001b[0m 166ms/step - loss: 4.6581 - sparse_categorical_accuracy: 0.0534"
     ]
    },
    {
     "name": "stderr",
     "output_type": "stream",
     "text": [
      "2025-08-02 23:07:22.188912: I tensorflow/core/framework/local_rendezvous.cc:426] Local rendezvous recv item cancelled. Key hash: 1081768004090644575\n",
      "2025-08-02 23:07:22.188943: I tensorflow/core/framework/local_rendezvous.cc:426] Local rendezvous recv item cancelled. Key hash: 5204528839323699281\n",
      "2025-08-02 23:07:22.188953: I tensorflow/core/framework/local_rendezvous.cc:426] Local rendezvous recv item cancelled. Key hash: 14949832453985974469\n",
      "2025-08-02 23:07:22.188960: I tensorflow/core/framework/local_rendezvous.cc:426] Local rendezvous recv item cancelled. Key hash: 733256767767716498\n",
      "2025-08-02 23:07:22.188984: I tensorflow/core/framework/local_rendezvous.cc:426] Local rendezvous recv item cancelled. Key hash: 8475208587743472188\n"
     ]
    },
    {
     "name": "stdout",
     "output_type": "stream",
     "text": [
      "\u001b[1m10/10\u001b[0m \u001b[32m━━━━━━━━━━━━━━━━━━━━\u001b[0m\u001b[37m\u001b[0m \u001b[1m1s\u001b[0m 57ms/step - loss: 4.6153 - sparse_categorical_accuracy: 0.0525\n",
      "Epoch 8/30\n",
      "\u001b[1m 3/10\u001b[0m \u001b[32m━━━━━━\u001b[0m\u001b[37m━━━━━━━━━━━━━━\u001b[0m \u001b[1m0s\u001b[0m 43ms/step - loss: 4.6821 - sparse_categorical_accuracy: 0.0520"
     ]
    },
    {
     "name": "stderr",
     "output_type": "stream",
     "text": [
      "2025-08-02 23:07:22.874076: I tensorflow/core/framework/local_rendezvous.cc:426] Local rendezvous recv item cancelled. Key hash: 1081768004090644575\n",
      "2025-08-02 23:07:22.874096: I tensorflow/core/framework/local_rendezvous.cc:426] Local rendezvous recv item cancelled. Key hash: 5204528839323699281\n",
      "2025-08-02 23:07:22.874103: I tensorflow/core/framework/local_rendezvous.cc:426] Local rendezvous recv item cancelled. Key hash: 14949832453985974469\n",
      "2025-08-02 23:07:22.874109: I tensorflow/core/framework/local_rendezvous.cc:426] Local rendezvous recv item cancelled. Key hash: 733256767767716498\n",
      "2025-08-02 23:07:22.874128: I tensorflow/core/framework/local_rendezvous.cc:426] Local rendezvous recv item cancelled. Key hash: 8475208587743472188\n"
     ]
    },
    {
     "name": "stdout",
     "output_type": "stream",
     "text": [
      "\u001b[1m10/10\u001b[0m \u001b[32m━━━━━━━━━━━━━━━━━━━━\u001b[0m\u001b[37m\u001b[0m \u001b[1m0s\u001b[0m 38ms/step - loss: 4.7039 - sparse_categorical_accuracy: 0.0513\n",
      "Epoch 9/30\n",
      "\u001b[1m 1/10\u001b[0m \u001b[32m━━\u001b[0m\u001b[37m━━━━━━━━━━━━━━━━━━\u001b[0m \u001b[1m1s\u001b[0m 166ms/step - loss: 4.3271 - sparse_categorical_accuracy: 0.0625"
     ]
    },
    {
     "name": "stderr",
     "output_type": "stream",
     "text": [
      "2025-08-02 23:07:23.259730: I tensorflow/core/framework/local_rendezvous.cc:426] Local rendezvous recv item cancelled. Key hash: 1081768004090644575\n",
      "2025-08-02 23:07:23.259761: I tensorflow/core/framework/local_rendezvous.cc:426] Local rendezvous recv item cancelled. Key hash: 5204528839323699281\n",
      "2025-08-02 23:07:23.259771: I tensorflow/core/framework/local_rendezvous.cc:426] Local rendezvous recv item cancelled. Key hash: 14949832453985974469\n",
      "2025-08-02 23:07:23.259778: I tensorflow/core/framework/local_rendezvous.cc:426] Local rendezvous recv item cancelled. Key hash: 733256767767716498\n",
      "2025-08-02 23:07:23.259806: I tensorflow/core/framework/local_rendezvous.cc:426] Local rendezvous recv item cancelled. Key hash: 8475208587743472188\n"
     ]
    },
    {
     "name": "stdout",
     "output_type": "stream",
     "text": [
      "\u001b[1m10/10\u001b[0m \u001b[32m━━━━━━━━━━━━━━━━━━━━\u001b[0m\u001b[37m\u001b[0m \u001b[1m1s\u001b[0m 57ms/step - loss: 4.4682 - sparse_categorical_accuracy: 0.0568\n",
      "Epoch 10/30\n",
      "\u001b[1m 3/10\u001b[0m \u001b[32m━━━━━━\u001b[0m\u001b[37m━━━━━━━━━━━━━━\u001b[0m \u001b[1m0s\u001b[0m 42ms/step - loss: 4.5821 - sparse_categorical_accuracy: 0.0444"
     ]
    },
    {
     "name": "stderr",
     "output_type": "stream",
     "text": [
      "2025-08-02 23:07:23.939523: I tensorflow/core/framework/local_rendezvous.cc:426] Local rendezvous recv item cancelled. Key hash: 1081768004090644575\n",
      "2025-08-02 23:07:23.939545: I tensorflow/core/framework/local_rendezvous.cc:426] Local rendezvous recv item cancelled. Key hash: 5204528839323699281\n",
      "2025-08-02 23:07:23.939553: I tensorflow/core/framework/local_rendezvous.cc:426] Local rendezvous recv item cancelled. Key hash: 14949832453985974469\n",
      "2025-08-02 23:07:23.939560: I tensorflow/core/framework/local_rendezvous.cc:426] Local rendezvous recv item cancelled. Key hash: 733256767767716498\n",
      "2025-08-02 23:07:23.939581: I tensorflow/core/framework/local_rendezvous.cc:426] Local rendezvous recv item cancelled. Key hash: 8475208587743472188\n"
     ]
    },
    {
     "name": "stdout",
     "output_type": "stream",
     "text": [
      "\u001b[1m10/10\u001b[0m \u001b[32m━━━━━━━━━━━━━━━━━━━━\u001b[0m\u001b[37m\u001b[0m \u001b[1m0s\u001b[0m 32ms/step - loss: 4.6474 - sparse_categorical_accuracy: 0.0455\n",
      "Epoch 11/30\n",
      "\u001b[1m 1/10\u001b[0m \u001b[32m━━\u001b[0m\u001b[37m━━━━━━━━━━━━━━━━━━\u001b[0m \u001b[1m1s\u001b[0m 161ms/step - loss: 4.4454 - sparse_categorical_accuracy: 0.0534"
     ]
    },
    {
     "name": "stderr",
     "output_type": "stream",
     "text": [
      "2025-08-02 23:07:24.273611: I tensorflow/core/framework/local_rendezvous.cc:426] Local rendezvous recv item cancelled. Key hash: 1081768004090644575\n",
      "2025-08-02 23:07:24.273634: I tensorflow/core/framework/local_rendezvous.cc:426] Local rendezvous recv item cancelled. Key hash: 5204528839323699281\n",
      "2025-08-02 23:07:24.273641: I tensorflow/core/framework/local_rendezvous.cc:426] Local rendezvous recv item cancelled. Key hash: 14949832453985974469\n",
      "2025-08-02 23:07:24.273647: I tensorflow/core/framework/local_rendezvous.cc:426] Local rendezvous recv item cancelled. Key hash: 733256767767716498\n",
      "2025-08-02 23:07:24.273670: I tensorflow/core/framework/local_rendezvous.cc:426] Local rendezvous recv item cancelled. Key hash: 8475208587743472188\n"
     ]
    },
    {
     "name": "stdout",
     "output_type": "stream",
     "text": [
      "\u001b[1m10/10\u001b[0m \u001b[32m━━━━━━━━━━━━━━━━━━━━\u001b[0m\u001b[37m\u001b[0m \u001b[1m1s\u001b[0m 57ms/step - loss: 4.4338 - sparse_categorical_accuracy: 0.0525\n",
      "Epoch 12/30\n",
      "\u001b[1m 3/10\u001b[0m \u001b[32m━━━━━━\u001b[0m\u001b[37m━━━━━━━━━━━━━━\u001b[0m \u001b[1m0s\u001b[0m 42ms/step - loss: 4.5351 - sparse_categorical_accuracy: 0.0545"
     ]
    },
    {
     "name": "stderr",
     "output_type": "stream",
     "text": [
      "2025-08-02 23:07:24.953983: I tensorflow/core/framework/local_rendezvous.cc:407] Local rendezvous is aborting with status: OUT_OF_RANGE: End of sequence\n",
      "\t [[{{node IteratorGetNext}}]]\n",
      "2025-08-02 23:07:24.954017: I tensorflow/core/framework/local_rendezvous.cc:426] Local rendezvous recv item cancelled. Key hash: 1081768004090644575\n",
      "2025-08-02 23:07:24.954025: I tensorflow/core/framework/local_rendezvous.cc:426] Local rendezvous recv item cancelled. Key hash: 5204528839323699281\n",
      "2025-08-02 23:07:24.954031: I tensorflow/core/framework/local_rendezvous.cc:426] Local rendezvous recv item cancelled. Key hash: 14949832453985974469\n",
      "2025-08-02 23:07:24.954040: I tensorflow/core/framework/local_rendezvous.cc:426] Local rendezvous recv item cancelled. Key hash: 733256767767716498\n",
      "2025-08-02 23:07:24.954061: I tensorflow/core/framework/local_rendezvous.cc:426] Local rendezvous recv item cancelled. Key hash: 8475208587743472188\n"
     ]
    },
    {
     "name": "stdout",
     "output_type": "stream",
     "text": [
      "\u001b[1m10/10\u001b[0m \u001b[32m━━━━━━━━━━━━━━━━━━━━\u001b[0m\u001b[37m\u001b[0m \u001b[1m0s\u001b[0m 37ms/step - loss: 4.5211 - sparse_categorical_accuracy: 0.0534\n",
      "Epoch 13/30\n",
      "\u001b[1m 1/10\u001b[0m \u001b[32m━━\u001b[0m\u001b[37m━━━━━━━━━━━━━━━━━━\u001b[0m \u001b[1m1s\u001b[0m 166ms/step - loss: 4.2844 - sparse_categorical_accuracy: 0.0635"
     ]
    },
    {
     "name": "stderr",
     "output_type": "stream",
     "text": [
      "2025-08-02 23:07:25.336415: I tensorflow/core/framework/local_rendezvous.cc:426] Local rendezvous recv item cancelled. Key hash: 1081768004090644575\n",
      "2025-08-02 23:07:25.336437: I tensorflow/core/framework/local_rendezvous.cc:426] Local rendezvous recv item cancelled. Key hash: 5204528839323699281\n",
      "2025-08-02 23:07:25.336446: I tensorflow/core/framework/local_rendezvous.cc:426] Local rendezvous recv item cancelled. Key hash: 14949832453985974469\n",
      "2025-08-02 23:07:25.336452: I tensorflow/core/framework/local_rendezvous.cc:426] Local rendezvous recv item cancelled. Key hash: 733256767767716498\n",
      "2025-08-02 23:07:25.336474: I tensorflow/core/framework/local_rendezvous.cc:426] Local rendezvous recv item cancelled. Key hash: 8475208587743472188\n"
     ]
    },
    {
     "name": "stdout",
     "output_type": "stream",
     "text": [
      "\u001b[1m10/10\u001b[0m \u001b[32m━━━━━━━━━━━━━━━━━━━━\u001b[0m\u001b[37m\u001b[0m \u001b[1m1s\u001b[0m 57ms/step - loss: 4.2987 - sparse_categorical_accuracy: 0.0577\n",
      "Epoch 14/30\n",
      "\u001b[1m 3/10\u001b[0m \u001b[32m━━━━━━\u001b[0m\u001b[37m━━━━━━━━━━━━━━\u001b[0m \u001b[1m0s\u001b[0m 42ms/step - loss: 4.3722 - sparse_categorical_accuracy: 0.0551"
     ]
    },
    {
     "name": "stderr",
     "output_type": "stream",
     "text": [
      "2025-08-02 23:07:26.010260: I tensorflow/core/framework/local_rendezvous.cc:426] Local rendezvous recv item cancelled. Key hash: 1081768004090644575\n",
      "2025-08-02 23:07:26.010279: I tensorflow/core/framework/local_rendezvous.cc:426] Local rendezvous recv item cancelled. Key hash: 5204528839323699281\n",
      "2025-08-02 23:07:26.010286: I tensorflow/core/framework/local_rendezvous.cc:426] Local rendezvous recv item cancelled. Key hash: 14949832453985974469\n",
      "2025-08-02 23:07:26.010292: I tensorflow/core/framework/local_rendezvous.cc:426] Local rendezvous recv item cancelled. Key hash: 733256767767716498\n",
      "2025-08-02 23:07:26.010311: I tensorflow/core/framework/local_rendezvous.cc:426] Local rendezvous recv item cancelled. Key hash: 8475208587743472188\n"
     ]
    },
    {
     "name": "stdout",
     "output_type": "stream",
     "text": [
      "\u001b[1m10/10\u001b[0m \u001b[32m━━━━━━━━━━━━━━━━━━━━\u001b[0m\u001b[37m\u001b[0m \u001b[1m0s\u001b[0m 40ms/step - loss: 4.4274 - sparse_categorical_accuracy: 0.0539\n",
      "Epoch 15/30\n",
      "\u001b[1m 1/10\u001b[0m \u001b[32m━━\u001b[0m\u001b[37m━━━━━━━━━━━━━━━━━━\u001b[0m \u001b[1m1s\u001b[0m 172ms/step - loss: 4.1704 - sparse_categorical_accuracy: 0.0544"
     ]
    },
    {
     "name": "stderr",
     "output_type": "stream",
     "text": [
      "2025-08-02 23:07:26.420719: I tensorflow/core/framework/local_rendezvous.cc:426] Local rendezvous recv item cancelled. Key hash: 1081768004090644575\n",
      "2025-08-02 23:07:26.420753: I tensorflow/core/framework/local_rendezvous.cc:426] Local rendezvous recv item cancelled. Key hash: 5204528839323699281\n",
      "2025-08-02 23:07:26.420769: I tensorflow/core/framework/local_rendezvous.cc:426] Local rendezvous recv item cancelled. Key hash: 14949832453985974469\n",
      "2025-08-02 23:07:26.420780: I tensorflow/core/framework/local_rendezvous.cc:426] Local rendezvous recv item cancelled. Key hash: 733256767767716498\n",
      "2025-08-02 23:07:26.420812: I tensorflow/core/framework/local_rendezvous.cc:426] Local rendezvous recv item cancelled. Key hash: 8475208587743472188\n"
     ]
    },
    {
     "name": "stdout",
     "output_type": "stream",
     "text": [
      "\u001b[1m10/10\u001b[0m \u001b[32m━━━━━━━━━━━━━━━━━━━━\u001b[0m\u001b[37m\u001b[0m \u001b[1m1s\u001b[0m 56ms/step - loss: 4.2059 - sparse_categorical_accuracy: 0.0567\n",
      "Epoch 16/30\n",
      "\u001b[1m 3/10\u001b[0m \u001b[32m━━━━━━\u001b[0m\u001b[37m━━━━━━━━━━━━━━\u001b[0m \u001b[1m0s\u001b[0m 42ms/step - loss: 4.3605 - sparse_categorical_accuracy: 0.0536"
     ]
    },
    {
     "name": "stderr",
     "output_type": "stream",
     "text": [
      "2025-08-02 23:07:27.102529: I tensorflow/core/framework/local_rendezvous.cc:426] Local rendezvous recv item cancelled. Key hash: 1081768004090644575\n",
      "2025-08-02 23:07:27.102558: I tensorflow/core/framework/local_rendezvous.cc:426] Local rendezvous recv item cancelled. Key hash: 5204528839323699281\n",
      "2025-08-02 23:07:27.102569: I tensorflow/core/framework/local_rendezvous.cc:426] Local rendezvous recv item cancelled. Key hash: 14949832453985974469\n",
      "2025-08-02 23:07:27.102577: I tensorflow/core/framework/local_rendezvous.cc:426] Local rendezvous recv item cancelled. Key hash: 733256767767716498\n",
      "2025-08-02 23:07:27.102609: I tensorflow/core/framework/local_rendezvous.cc:426] Local rendezvous recv item cancelled. Key hash: 8475208587743472188\n"
     ]
    },
    {
     "name": "stdout",
     "output_type": "stream",
     "text": [
      "\u001b[1m10/10\u001b[0m \u001b[32m━━━━━━━━━━━━━━━━━━━━\u001b[0m\u001b[37m\u001b[0m \u001b[1m0s\u001b[0m 38ms/step - loss: 4.3551 - sparse_categorical_accuracy: 0.0559\n",
      "Epoch 17/30\n",
      "\u001b[1m 1/10\u001b[0m \u001b[32m━━\u001b[0m\u001b[37m━━━━━━━━━━━━━━━━━━\u001b[0m \u001b[1m1s\u001b[0m 158ms/step - loss: 4.1016 - sparse_categorical_accuracy: 0.0575"
     ]
    },
    {
     "name": "stderr",
     "output_type": "stream",
     "text": [
      "2025-08-02 23:07:27.483854: I tensorflow/core/framework/local_rendezvous.cc:426] Local rendezvous recv item cancelled. Key hash: 1081768004090644575\n",
      "2025-08-02 23:07:27.483876: I tensorflow/core/framework/local_rendezvous.cc:426] Local rendezvous recv item cancelled. Key hash: 5204528839323699281\n",
      "2025-08-02 23:07:27.483884: I tensorflow/core/framework/local_rendezvous.cc:426] Local rendezvous recv item cancelled. Key hash: 14949832453985974469\n",
      "2025-08-02 23:07:27.483892: I tensorflow/core/framework/local_rendezvous.cc:426] Local rendezvous recv item cancelled. Key hash: 733256767767716498\n",
      "2025-08-02 23:07:27.483914: I tensorflow/core/framework/local_rendezvous.cc:426] Local rendezvous recv item cancelled. Key hash: 8475208587743472188\n"
     ]
    },
    {
     "name": "stdout",
     "output_type": "stream",
     "text": [
      "\u001b[1m10/10\u001b[0m \u001b[32m━━━━━━━━━━━━━━━━━━━━\u001b[0m\u001b[37m\u001b[0m \u001b[1m1s\u001b[0m 57ms/step - loss: 4.1130 - sparse_categorical_accuracy: 0.0600\n",
      "Epoch 18/30\n",
      "\u001b[1m 3/10\u001b[0m \u001b[32m━━━━━━\u001b[0m\u001b[37m━━━━━━━━━━━━━━\u001b[0m \u001b[1m0s\u001b[0m 41ms/step - loss: 4.2282 - sparse_categorical_accuracy: 0.0640"
     ]
    },
    {
     "name": "stderr",
     "output_type": "stream",
     "text": [
      "2025-08-02 23:07:28.164819: I tensorflow/core/framework/local_rendezvous.cc:426] Local rendezvous recv item cancelled. Key hash: 1081768004090644575\n",
      "2025-08-02 23:07:28.164841: I tensorflow/core/framework/local_rendezvous.cc:426] Local rendezvous recv item cancelled. Key hash: 5204528839323699281\n",
      "2025-08-02 23:07:28.164850: I tensorflow/core/framework/local_rendezvous.cc:426] Local rendezvous recv item cancelled. Key hash: 14949832453985974469\n",
      "2025-08-02 23:07:28.164857: I tensorflow/core/framework/local_rendezvous.cc:426] Local rendezvous recv item cancelled. Key hash: 733256767767716498\n",
      "2025-08-02 23:07:28.164878: I tensorflow/core/framework/local_rendezvous.cc:426] Local rendezvous recv item cancelled. Key hash: 8475208587743472188\n"
     ]
    },
    {
     "name": "stdout",
     "output_type": "stream",
     "text": [
      "\u001b[1m10/10\u001b[0m \u001b[32m━━━━━━━━━━━━━━━━━━━━\u001b[0m\u001b[37m\u001b[0m \u001b[1m0s\u001b[0m 36ms/step - loss: 4.2656 - sparse_categorical_accuracy: 0.0610\n",
      "Epoch 19/30\n",
      "\u001b[1m 1/10\u001b[0m \u001b[32m━━\u001b[0m\u001b[37m━━━━━━━━━━━━━━━━━━\u001b[0m \u001b[1m1s\u001b[0m 158ms/step - loss: 4.1038 - sparse_categorical_accuracy: 0.0595"
     ]
    },
    {
     "name": "stderr",
     "output_type": "stream",
     "text": [
      "2025-08-02 23:07:28.537474: I tensorflow/core/framework/local_rendezvous.cc:426] Local rendezvous recv item cancelled. Key hash: 1081768004090644575\n",
      "2025-08-02 23:07:28.537496: I tensorflow/core/framework/local_rendezvous.cc:426] Local rendezvous recv item cancelled. Key hash: 5204528839323699281\n",
      "2025-08-02 23:07:28.537505: I tensorflow/core/framework/local_rendezvous.cc:426] Local rendezvous recv item cancelled. Key hash: 14949832453985974469\n",
      "2025-08-02 23:07:28.537511: I tensorflow/core/framework/local_rendezvous.cc:426] Local rendezvous recv item cancelled. Key hash: 733256767767716498\n",
      "2025-08-02 23:07:28.537533: I tensorflow/core/framework/local_rendezvous.cc:426] Local rendezvous recv item cancelled. Key hash: 8475208587743472188\n"
     ]
    },
    {
     "name": "stdout",
     "output_type": "stream",
     "text": [
      "\u001b[1m10/10\u001b[0m \u001b[32m━━━━━━━━━━━━━━━━━━━━\u001b[0m\u001b[37m\u001b[0m \u001b[1m1s\u001b[0m 58ms/step - loss: 4.0671 - sparse_categorical_accuracy: 0.0598\n",
      "Epoch 20/30\n",
      "\u001b[1m 3/10\u001b[0m \u001b[32m━━━━━━\u001b[0m\u001b[37m━━━━━━━━━━━━━━\u001b[0m \u001b[1m0s\u001b[0m 41ms/step - loss: 4.1880 - sparse_categorical_accuracy: 0.0553"
     ]
    },
    {
     "name": "stderr",
     "output_type": "stream",
     "text": [
      "2025-08-02 23:07:29.215889: I tensorflow/core/framework/local_rendezvous.cc:426] Local rendezvous recv item cancelled. Key hash: 1081768004090644575\n",
      "2025-08-02 23:07:29.215920: I tensorflow/core/framework/local_rendezvous.cc:426] Local rendezvous recv item cancelled. Key hash: 14949832453985974469\n",
      "2025-08-02 23:07:29.215931: I tensorflow/core/framework/local_rendezvous.cc:426] Local rendezvous recv item cancelled. Key hash: 5204528839323699281\n",
      "2025-08-02 23:07:29.215938: I tensorflow/core/framework/local_rendezvous.cc:426] Local rendezvous recv item cancelled. Key hash: 733256767767716498\n",
      "2025-08-02 23:07:29.215970: I tensorflow/core/framework/local_rendezvous.cc:426] Local rendezvous recv item cancelled. Key hash: 8475208587743472188\n"
     ]
    },
    {
     "name": "stdout",
     "output_type": "stream",
     "text": [
      "\u001b[1m10/10\u001b[0m \u001b[32m━━━━━━━━━━━━━━━━━━━━\u001b[0m\u001b[37m\u001b[0m \u001b[1m0s\u001b[0m 37ms/step - loss: 4.1891 - sparse_categorical_accuracy: 0.0587\n",
      "Epoch 21/30\n",
      "\u001b[1m 1/10\u001b[0m \u001b[32m━━\u001b[0m\u001b[37m━━━━━━━━━━━━━━━━━━\u001b[0m \u001b[1m1s\u001b[0m 161ms/step - loss: 3.9288 - sparse_categorical_accuracy: 0.0716"
     ]
    },
    {
     "name": "stderr",
     "output_type": "stream",
     "text": [
      "2025-08-02 23:07:29.600096: I tensorflow/core/framework/local_rendezvous.cc:426] Local rendezvous recv item cancelled. Key hash: 1081768004090644575\n",
      "2025-08-02 23:07:29.600119: I tensorflow/core/framework/local_rendezvous.cc:426] Local rendezvous recv item cancelled. Key hash: 5204528839323699281\n",
      "2025-08-02 23:07:29.600128: I tensorflow/core/framework/local_rendezvous.cc:426] Local rendezvous recv item cancelled. Key hash: 14949832453985974469\n",
      "2025-08-02 23:07:29.600135: I tensorflow/core/framework/local_rendezvous.cc:426] Local rendezvous recv item cancelled. Key hash: 733256767767716498\n",
      "2025-08-02 23:07:29.600159: I tensorflow/core/framework/local_rendezvous.cc:426] Local rendezvous recv item cancelled. Key hash: 8475208587743472188\n"
     ]
    },
    {
     "name": "stdout",
     "output_type": "stream",
     "text": [
      "\u001b[1m10/10\u001b[0m \u001b[32m━━━━━━━━━━━━━━━━━━━━\u001b[0m\u001b[37m\u001b[0m \u001b[1m1s\u001b[0m 55ms/step - loss: 3.9660 - sparse_categorical_accuracy: 0.0655\n",
      "Epoch 22/30\n",
      "\u001b[1m 3/10\u001b[0m \u001b[32m━━━━━━\u001b[0m\u001b[37m━━━━━━━━━━━━━━\u001b[0m \u001b[1m0s\u001b[0m 42ms/step - loss: 4.1448 - sparse_categorical_accuracy: 0.0600"
     ]
    },
    {
     "name": "stderr",
     "output_type": "stream",
     "text": [
      "2025-08-02 23:07:30.262855: I tensorflow/core/framework/local_rendezvous.cc:426] Local rendezvous recv item cancelled. Key hash: 1081768004090644575\n",
      "2025-08-02 23:07:30.262877: I tensorflow/core/framework/local_rendezvous.cc:426] Local rendezvous recv item cancelled. Key hash: 5204528839323699281\n",
      "2025-08-02 23:07:30.262887: I tensorflow/core/framework/local_rendezvous.cc:426] Local rendezvous recv item cancelled. Key hash: 14949832453985974469\n",
      "2025-08-02 23:07:30.262896: I tensorflow/core/framework/local_rendezvous.cc:426] Local rendezvous recv item cancelled. Key hash: 733256767767716498\n",
      "2025-08-02 23:07:30.262920: I tensorflow/core/framework/local_rendezvous.cc:426] Local rendezvous recv item cancelled. Key hash: 8475208587743472188\n"
     ]
    },
    {
     "name": "stdout",
     "output_type": "stream",
     "text": [
      "\u001b[1m10/10\u001b[0m \u001b[32m━━━━━━━━━━━━━━━━━━━━\u001b[0m\u001b[37m\u001b[0m \u001b[1m0s\u001b[0m 37ms/step - loss: 4.1442 - sparse_categorical_accuracy: 0.0594\n",
      "Epoch 23/30\n",
      "\u001b[1m 1/10\u001b[0m \u001b[32m━━\u001b[0m\u001b[37m━━━━━━━━━━━━━━━━━━\u001b[0m \u001b[1m1s\u001b[0m 166ms/step - loss: 3.8054 - sparse_categorical_accuracy: 0.0746"
     ]
    },
    {
     "name": "stderr",
     "output_type": "stream",
     "text": [
      "2025-08-02 23:07:30.644365: I tensorflow/core/framework/local_rendezvous.cc:426] Local rendezvous recv item cancelled. Key hash: 1081768004090644575\n",
      "2025-08-02 23:07:30.644387: I tensorflow/core/framework/local_rendezvous.cc:426] Local rendezvous recv item cancelled. Key hash: 5204528839323699281\n",
      "2025-08-02 23:07:30.644396: I tensorflow/core/framework/local_rendezvous.cc:426] Local rendezvous recv item cancelled. Key hash: 14949832453985974469\n",
      "2025-08-02 23:07:30.644402: I tensorflow/core/framework/local_rendezvous.cc:426] Local rendezvous recv item cancelled. Key hash: 733256767767716498\n",
      "2025-08-02 23:07:30.644424: I tensorflow/core/framework/local_rendezvous.cc:426] Local rendezvous recv item cancelled. Key hash: 8475208587743472188\n"
     ]
    },
    {
     "name": "stdout",
     "output_type": "stream",
     "text": [
      "\u001b[1m10/10\u001b[0m \u001b[32m━━━━━━━━━━━━━━━━━━━━\u001b[0m\u001b[37m\u001b[0m \u001b[1m1s\u001b[0m 56ms/step - loss: 3.9034 - sparse_categorical_accuracy: 0.0673\n",
      "Epoch 24/30\n",
      "\u001b[1m 3/10\u001b[0m \u001b[32m━━━━━━\u001b[0m\u001b[37m━━━━━━━━━━━━━━\u001b[0m \u001b[1m0s\u001b[0m 42ms/step - loss: 3.9919 - sparse_categorical_accuracy: 0.0649"
     ]
    },
    {
     "name": "stderr",
     "output_type": "stream",
     "text": [
      "2025-08-02 23:07:31.324102: I tensorflow/core/framework/local_rendezvous.cc:426] Local rendezvous recv item cancelled. Key hash: 1081768004090644575\n",
      "2025-08-02 23:07:31.324124: I tensorflow/core/framework/local_rendezvous.cc:426] Local rendezvous recv item cancelled. Key hash: 5204528839323699281\n",
      "2025-08-02 23:07:31.324132: I tensorflow/core/framework/local_rendezvous.cc:426] Local rendezvous recv item cancelled. Key hash: 14949832453985974469\n",
      "2025-08-02 23:07:31.324139: I tensorflow/core/framework/local_rendezvous.cc:426] Local rendezvous recv item cancelled. Key hash: 733256767767716498\n",
      "2025-08-02 23:07:31.324159: I tensorflow/core/framework/local_rendezvous.cc:426] Local rendezvous recv item cancelled. Key hash: 8475208587743472188\n"
     ]
    },
    {
     "name": "stdout",
     "output_type": "stream",
     "text": [
      "\u001b[1m10/10\u001b[0m \u001b[32m━━━━━━━━━━━━━━━━━━━━\u001b[0m\u001b[37m\u001b[0m \u001b[1m0s\u001b[0m 38ms/step - loss: 4.0644 - sparse_categorical_accuracy: 0.0622\n",
      "Epoch 25/30\n",
      "\u001b[1m 1/10\u001b[0m \u001b[32m━━\u001b[0m\u001b[37m━━━━━━━━━━━━━━━━━━\u001b[0m \u001b[1m1s\u001b[0m 141ms/step - loss: 3.9262 - sparse_categorical_accuracy: 0.0645"
     ]
    },
    {
     "name": "stderr",
     "output_type": "stream",
     "text": [
      "2025-08-02 23:07:31.713355: I tensorflow/core/framework/local_rendezvous.cc:426] Local rendezvous recv item cancelled. Key hash: 1081768004090644575\n",
      "2025-08-02 23:07:31.713375: I tensorflow/core/framework/local_rendezvous.cc:426] Local rendezvous recv item cancelled. Key hash: 5204528839323699281\n",
      "2025-08-02 23:07:31.713383: I tensorflow/core/framework/local_rendezvous.cc:426] Local rendezvous recv item cancelled. Key hash: 14949832453985974469\n",
      "2025-08-02 23:07:31.713390: I tensorflow/core/framework/local_rendezvous.cc:426] Local rendezvous recv item cancelled. Key hash: 733256767767716498\n",
      "2025-08-02 23:07:31.713411: I tensorflow/core/framework/local_rendezvous.cc:426] Local rendezvous recv item cancelled. Key hash: 8475208587743472188\n"
     ]
    },
    {
     "name": "stdout",
     "output_type": "stream",
     "text": [
      "\u001b[1m10/10\u001b[0m \u001b[32m━━━━━━━━━━━━━━━━━━━━\u001b[0m\u001b[37m\u001b[0m \u001b[1m1s\u001b[0m 58ms/step - loss: 3.8787 - sparse_categorical_accuracy: 0.0666\n",
      "Epoch 26/30\n",
      "\u001b[1m 3/10\u001b[0m \u001b[32m━━━━━━\u001b[0m\u001b[37m━━━━━━━━━━━━━━\u001b[0m \u001b[1m0s\u001b[0m 42ms/step - loss: 3.9245 - sparse_categorical_accuracy: 0.0621"
     ]
    },
    {
     "name": "stderr",
     "output_type": "stream",
     "text": [
      "2025-08-02 23:07:32.374616: I tensorflow/core/framework/local_rendezvous.cc:426] Local rendezvous recv item cancelled. Key hash: 1081768004090644575\n",
      "2025-08-02 23:07:32.374638: I tensorflow/core/framework/local_rendezvous.cc:426] Local rendezvous recv item cancelled. Key hash: 5204528839323699281\n",
      "2025-08-02 23:07:32.374645: I tensorflow/core/framework/local_rendezvous.cc:426] Local rendezvous recv item cancelled. Key hash: 14949832453985974469\n",
      "2025-08-02 23:07:32.374652: I tensorflow/core/framework/local_rendezvous.cc:426] Local rendezvous recv item cancelled. Key hash: 733256767767716498\n",
      "2025-08-02 23:07:32.374675: I tensorflow/core/framework/local_rendezvous.cc:426] Local rendezvous recv item cancelled. Key hash: 8475208587743472188\n"
     ]
    },
    {
     "name": "stdout",
     "output_type": "stream",
     "text": [
      "\u001b[1m10/10\u001b[0m \u001b[32m━━━━━━━━━━━━━━━━━━━━\u001b[0m\u001b[37m\u001b[0m \u001b[1m0s\u001b[0m 37ms/step - loss: 3.9745 - sparse_categorical_accuracy: 0.0620\n",
      "Epoch 27/30\n",
      "\u001b[1m 1/10\u001b[0m \u001b[32m━━\u001b[0m\u001b[37m━━━━━━━━━━━━━━━━━━\u001b[0m \u001b[1m1s\u001b[0m 169ms/step - loss: 3.8951 - sparse_categorical_accuracy: 0.0696"
     ]
    },
    {
     "name": "stderr",
     "output_type": "stream",
     "text": [
      "2025-08-02 23:07:32.745844: I tensorflow/core/framework/local_rendezvous.cc:426] Local rendezvous recv item cancelled. Key hash: 1081768004090644575\n",
      "2025-08-02 23:07:32.745863: I tensorflow/core/framework/local_rendezvous.cc:426] Local rendezvous recv item cancelled. Key hash: 5204528839323699281\n",
      "2025-08-02 23:07:32.745869: I tensorflow/core/framework/local_rendezvous.cc:426] Local rendezvous recv item cancelled. Key hash: 14949832453985974469\n",
      "2025-08-02 23:07:32.745874: I tensorflow/core/framework/local_rendezvous.cc:426] Local rendezvous recv item cancelled. Key hash: 733256767767716498\n",
      "2025-08-02 23:07:32.745892: I tensorflow/core/framework/local_rendezvous.cc:426] Local rendezvous recv item cancelled. Key hash: 8475208587743472188\n"
     ]
    },
    {
     "name": "stdout",
     "output_type": "stream",
     "text": [
      "\u001b[1m10/10\u001b[0m \u001b[32m━━━━━━━━━━━━━━━━━━━━\u001b[0m\u001b[37m\u001b[0m \u001b[1m1s\u001b[0m 57ms/step - loss: 3.8033 - sparse_categorical_accuracy: 0.0711\n",
      "Epoch 28/30\n",
      "\u001b[1m 3/10\u001b[0m \u001b[32m━━━━━━\u001b[0m\u001b[37m━━━━━━━━━━━━━━\u001b[0m \u001b[1m0s\u001b[0m 43ms/step - loss: 3.8268 - sparse_categorical_accuracy: 0.0679"
     ]
    },
    {
     "name": "stderr",
     "output_type": "stream",
     "text": [
      "2025-08-02 23:07:33.428827: I tensorflow/core/framework/local_rendezvous.cc:407] Local rendezvous is aborting with status: OUT_OF_RANGE: End of sequence\n",
      "\t [[{{node IteratorGetNext}}]]\n",
      "2025-08-02 23:07:33.428858: I tensorflow/core/framework/local_rendezvous.cc:426] Local rendezvous recv item cancelled. Key hash: 1081768004090644575\n",
      "2025-08-02 23:07:33.428864: I tensorflow/core/framework/local_rendezvous.cc:426] Local rendezvous recv item cancelled. Key hash: 5204528839323699281\n",
      "2025-08-02 23:07:33.428871: I tensorflow/core/framework/local_rendezvous.cc:426] Local rendezvous recv item cancelled. Key hash: 14949832453985974469\n",
      "2025-08-02 23:07:33.428877: I tensorflow/core/framework/local_rendezvous.cc:426] Local rendezvous recv item cancelled. Key hash: 733256767767716498\n",
      "2025-08-02 23:07:33.428898: I tensorflow/core/framework/local_rendezvous.cc:426] Local rendezvous recv item cancelled. Key hash: 8475208587743472188\n"
     ]
    },
    {
     "name": "stdout",
     "output_type": "stream",
     "text": [
      "\u001b[1m10/10\u001b[0m \u001b[32m━━━━━━━━━━━━━━━━━━━━\u001b[0m\u001b[37m\u001b[0m \u001b[1m0s\u001b[0m 41ms/step - loss: 3.8809 - sparse_categorical_accuracy: 0.0657\n",
      "Epoch 29/30\n",
      "\u001b[1m 1/10\u001b[0m \u001b[32m━━\u001b[0m\u001b[37m━━━━━━━━━━━━━━━━━━\u001b[0m \u001b[1m1s\u001b[0m 162ms/step - loss: 3.6946 - sparse_categorical_accuracy: 0.0837"
     ]
    },
    {
     "name": "stderr",
     "output_type": "stream",
     "text": [
      "2025-08-02 23:07:33.838541: I tensorflow/core/framework/local_rendezvous.cc:426] Local rendezvous recv item cancelled. Key hash: 1081768004090644575\n",
      "2025-08-02 23:07:33.838575: I tensorflow/core/framework/local_rendezvous.cc:426] Local rendezvous recv item cancelled. Key hash: 5204528839323699281\n",
      "2025-08-02 23:07:33.838586: I tensorflow/core/framework/local_rendezvous.cc:426] Local rendezvous recv item cancelled. Key hash: 14949832453985974469\n",
      "2025-08-02 23:07:33.838596: I tensorflow/core/framework/local_rendezvous.cc:426] Local rendezvous recv item cancelled. Key hash: 733256767767716498\n",
      "2025-08-02 23:07:33.838628: I tensorflow/core/framework/local_rendezvous.cc:426] Local rendezvous recv item cancelled. Key hash: 8475208587743472188\n"
     ]
    },
    {
     "name": "stdout",
     "output_type": "stream",
     "text": [
      "\u001b[1m10/10\u001b[0m \u001b[32m━━━━━━━━━━━━━━━━━━━━\u001b[0m\u001b[37m\u001b[0m \u001b[1m1s\u001b[0m 56ms/step - loss: 3.6581 - sparse_categorical_accuracy: 0.0787\n",
      "Epoch 30/30\n",
      "\u001b[1m 3/10\u001b[0m \u001b[32m━━━━━━\u001b[0m\u001b[37m━━━━━━━━━━━━━━\u001b[0m \u001b[1m0s\u001b[0m 42ms/step - loss: 3.7683 - sparse_categorical_accuracy: 0.0715"
     ]
    },
    {
     "name": "stderr",
     "output_type": "stream",
     "text": [
      "2025-08-02 23:07:34.514836: I tensorflow/core/framework/local_rendezvous.cc:426] Local rendezvous recv item cancelled. Key hash: 1081768004090644575\n",
      "2025-08-02 23:07:34.514858: I tensorflow/core/framework/local_rendezvous.cc:426] Local rendezvous recv item cancelled. Key hash: 5204528839323699281\n",
      "2025-08-02 23:07:34.514866: I tensorflow/core/framework/local_rendezvous.cc:426] Local rendezvous recv item cancelled. Key hash: 14949832453985974469\n",
      "2025-08-02 23:07:34.514873: I tensorflow/core/framework/local_rendezvous.cc:426] Local rendezvous recv item cancelled. Key hash: 733256767767716498\n",
      "2025-08-02 23:07:34.514895: I tensorflow/core/framework/local_rendezvous.cc:426] Local rendezvous recv item cancelled. Key hash: 8475208587743472188\n"
     ]
    },
    {
     "name": "stdout",
     "output_type": "stream",
     "text": [
      "\u001b[1m10/10\u001b[0m \u001b[32m━━━━━━━━━━━━━━━━━━━━\u001b[0m\u001b[37m\u001b[0m \u001b[1m0s\u001b[0m 38ms/step - loss: 3.8106 - sparse_categorical_accuracy: 0.0682\n"
     ]
    },
    {
     "name": "stderr",
     "output_type": "stream",
     "text": [
      "2025-08-02 23:07:34.904210: I tensorflow/core/framework/local_rendezvous.cc:426] Local rendezvous recv item cancelled. Key hash: 1081768004090644575\n",
      "2025-08-02 23:07:34.904268: I tensorflow/core/framework/local_rendezvous.cc:426] Local rendezvous recv item cancelled. Key hash: 5204528839323699281\n",
      "2025-08-02 23:07:34.904282: I tensorflow/core/framework/local_rendezvous.cc:426] Local rendezvous recv item cancelled. Key hash: 14949832453985974469\n",
      "2025-08-02 23:07:34.904290: I tensorflow/core/framework/local_rendezvous.cc:426] Local rendezvous recv item cancelled. Key hash: 733256767767716498\n",
      "2025-08-02 23:07:34.904312: I tensorflow/core/framework/local_rendezvous.cc:426] Local rendezvous recv item cancelled. Key hash: 8475208587743472188\n"
     ]
    },
    {
     "data": {
      "text/plain": [
       "<keras.src.callbacks.history.History at 0x71733c15fd90>"
      ]
     },
     "execution_count": 12,
     "metadata": {},
     "output_type": "execute_result"
    }
   ],
   "source": [
    "# debug_val = debug_paired.skip(512).take(128).batch(16)\n",
    "\n",
    "# model.fit(\n",
    "#     debug_ds,\n",
    "#     validation_data=debug_val,\n",
    "#     epochs=30,\n",
    "#     steps_per_epoch=10,\n",
    "#     validation_steps=5,\n",
    "# )"
   ]
  },
  {
   "cell_type": "code",
   "execution_count": 9,
   "id": "ca26ed65",
   "metadata": {},
   "outputs": [
    {
     "data": {
      "text/html": [
       "<pre style=\"white-space:pre;overflow-x:auto;line-height:normal;font-family:Menlo,'DejaVu Sans Mono',consolas,'Courier New',monospace\"><span style=\"font-weight: bold\">Model: \"functional\"</span>\n",
       "</pre>\n"
      ],
      "text/plain": [
       "\u001b[1mModel: \"functional\"\u001b[0m\n"
      ]
     },
     "metadata": {},
     "output_type": "display_data"
    },
    {
     "data": {
      "text/html": [
       "<pre style=\"white-space:pre;overflow-x:auto;line-height:normal;font-family:Menlo,'DejaVu Sans Mono',consolas,'Courier New',monospace\">┏━━━━━━━━━━━━━━━━━━━━━┳━━━━━━━━━━━━━━━━━━━┳━━━━━━━━━━━━┳━━━━━━━━━━━━━━━━━━━┓\n",
       "┃<span style=\"font-weight: bold\"> Layer (type)        </span>┃<span style=\"font-weight: bold\"> Output Shape      </span>┃<span style=\"font-weight: bold\">    Param # </span>┃<span style=\"font-weight: bold\"> Connected to      </span>┃\n",
       "┡━━━━━━━━━━━━━━━━━━━━━╇━━━━━━━━━━━━━━━━━━━╇━━━━━━━━━━━━╇━━━━━━━━━━━━━━━━━━━┩\n",
       "│ input_layer         │ (<span style=\"color: #00d7ff; text-decoration-color: #00d7ff\">None</span>, <span style=\"color: #00af00; text-decoration-color: #00af00\">100</span>)       │          <span style=\"color: #00af00; text-decoration-color: #00af00\">0</span> │ -                 │\n",
       "│ (<span style=\"color: #0087ff; text-decoration-color: #0087ff\">InputLayer</span>)        │                   │            │                   │\n",
       "├─────────────────────┼───────────────────┼────────────┼───────────────────┤\n",
       "│ input_layer_1       │ (<span style=\"color: #00d7ff; text-decoration-color: #00d7ff\">None</span>, <span style=\"color: #00d7ff; text-decoration-color: #00d7ff\">None</span>)      │          <span style=\"color: #00af00; text-decoration-color: #00af00\">0</span> │ -                 │\n",
       "│ (<span style=\"color: #0087ff; text-decoration-color: #0087ff\">InputLayer</span>)        │                   │            │                   │\n",
       "├─────────────────────┼───────────────────┼────────────┼───────────────────┤\n",
       "│ embedding           │ (<span style=\"color: #00d7ff; text-decoration-color: #00d7ff\">None</span>, <span style=\"color: #00af00; text-decoration-color: #00af00\">100</span>, <span style=\"color: #00af00; text-decoration-color: #00af00\">128</span>)  │  <span style=\"color: #00af00; text-decoration-color: #00af00\">2,560,000</span> │ input_layer[<span style=\"color: #00af00; text-decoration-color: #00af00\">0</span>][<span style=\"color: #00af00; text-decoration-color: #00af00\">0</span>] │\n",
       "│ (<span style=\"color: #0087ff; text-decoration-color: #0087ff\">Embedding</span>)         │                   │            │                   │\n",
       "├─────────────────────┼───────────────────┼────────────┼───────────────────┤\n",
       "│ embedding_1         │ (<span style=\"color: #00d7ff; text-decoration-color: #00d7ff\">None</span>, <span style=\"color: #00d7ff; text-decoration-color: #00d7ff\">None</span>, <span style=\"color: #00af00; text-decoration-color: #00af00\">128</span>) │  <span style=\"color: #00af00; text-decoration-color: #00af00\">1,536,000</span> │ input_layer_1[<span style=\"color: #00af00; text-decoration-color: #00af00\">0</span>]… │\n",
       "│ (<span style=\"color: #0087ff; text-decoration-color: #0087ff\">Embedding</span>)         │                   │            │                   │\n",
       "├─────────────────────┼───────────────────┼────────────┼───────────────────┤\n",
       "│ lstm (<span style=\"color: #0087ff; text-decoration-color: #0087ff\">LSTM</span>)         │ [(<span style=\"color: #00d7ff; text-decoration-color: #00d7ff\">None</span>, <span style=\"color: #00af00; text-decoration-color: #00af00\">100</span>,      │    <span style=\"color: #00af00; text-decoration-color: #00af00\">394,240</span> │ embedding[<span style=\"color: #00af00; text-decoration-color: #00af00\">0</span>][<span style=\"color: #00af00; text-decoration-color: #00af00\">0</span>]   │\n",
       "│                     │ <span style=\"color: #00af00; text-decoration-color: #00af00\">256</span>), (<span style=\"color: #00d7ff; text-decoration-color: #00d7ff\">None</span>,      │            │                   │\n",
       "│                     │ <span style=\"color: #00af00; text-decoration-color: #00af00\">256</span>), (<span style=\"color: #00d7ff; text-decoration-color: #00d7ff\">None</span>,      │            │                   │\n",
       "│                     │ <span style=\"color: #00af00; text-decoration-color: #00af00\">256</span>)]             │            │                   │\n",
       "├─────────────────────┼───────────────────┼────────────┼───────────────────┤\n",
       "│ lstm_1 (<span style=\"color: #0087ff; text-decoration-color: #0087ff\">LSTM</span>)       │ [(<span style=\"color: #00d7ff; text-decoration-color: #00d7ff\">None</span>, <span style=\"color: #00d7ff; text-decoration-color: #00d7ff\">None</span>,     │    <span style=\"color: #00af00; text-decoration-color: #00af00\">394,240</span> │ embedding_1[<span style=\"color: #00af00; text-decoration-color: #00af00\">0</span>][<span style=\"color: #00af00; text-decoration-color: #00af00\">0</span>… │\n",
       "│                     │ <span style=\"color: #00af00; text-decoration-color: #00af00\">256</span>), (<span style=\"color: #00d7ff; text-decoration-color: #00d7ff\">None</span>,      │            │ lstm[<span style=\"color: #00af00; text-decoration-color: #00af00\">0</span>][<span style=\"color: #00af00; text-decoration-color: #00af00\">1</span>],       │\n",
       "│                     │ <span style=\"color: #00af00; text-decoration-color: #00af00\">256</span>), (<span style=\"color: #00d7ff; text-decoration-color: #00d7ff\">None</span>,      │            │ lstm[<span style=\"color: #00af00; text-decoration-color: #00af00\">0</span>][<span style=\"color: #00af00; text-decoration-color: #00af00\">2</span>]        │\n",
       "│                     │ <span style=\"color: #00af00; text-decoration-color: #00af00\">256</span>)]             │            │                   │\n",
       "├─────────────────────┼───────────────────┼────────────┼───────────────────┤\n",
       "│ attention           │ (<span style=\"color: #00d7ff; text-decoration-color: #00d7ff\">None</span>, <span style=\"color: #00d7ff; text-decoration-color: #00d7ff\">None</span>, <span style=\"color: #00af00; text-decoration-color: #00af00\">256</span>) │          <span style=\"color: #00af00; text-decoration-color: #00af00\">0</span> │ lstm_1[<span style=\"color: #00af00; text-decoration-color: #00af00\">0</span>][<span style=\"color: #00af00; text-decoration-color: #00af00\">0</span>],     │\n",
       "│ (<span style=\"color: #0087ff; text-decoration-color: #0087ff\">Attention</span>)         │                   │            │ lstm[<span style=\"color: #00af00; text-decoration-color: #00af00\">0</span>][<span style=\"color: #00af00; text-decoration-color: #00af00\">0</span>]        │\n",
       "├─────────────────────┼───────────────────┼────────────┼───────────────────┤\n",
       "│ concatenate         │ (<span style=\"color: #00d7ff; text-decoration-color: #00d7ff\">None</span>, <span style=\"color: #00d7ff; text-decoration-color: #00d7ff\">None</span>, <span style=\"color: #00af00; text-decoration-color: #00af00\">512</span>) │          <span style=\"color: #00af00; text-decoration-color: #00af00\">0</span> │ lstm_1[<span style=\"color: #00af00; text-decoration-color: #00af00\">0</span>][<span style=\"color: #00af00; text-decoration-color: #00af00\">0</span>],     │\n",
       "│ (<span style=\"color: #0087ff; text-decoration-color: #0087ff\">Concatenate</span>)       │                   │            │ attention[<span style=\"color: #00af00; text-decoration-color: #00af00\">0</span>][<span style=\"color: #00af00; text-decoration-color: #00af00\">0</span>]   │\n",
       "├─────────────────────┼───────────────────┼────────────┼───────────────────┤\n",
       "│ time_distributed    │ (<span style=\"color: #00d7ff; text-decoration-color: #00d7ff\">None</span>, <span style=\"color: #00d7ff; text-decoration-color: #00d7ff\">None</span>,      │  <span style=\"color: #00af00; text-decoration-color: #00af00\">6,156,000</span> │ concatenate[<span style=\"color: #00af00; text-decoration-color: #00af00\">0</span>][<span style=\"color: #00af00; text-decoration-color: #00af00\">0</span>] │\n",
       "│ (<span style=\"color: #0087ff; text-decoration-color: #0087ff\">TimeDistributed</span>)   │ <span style=\"color: #00af00; text-decoration-color: #00af00\">12000</span>)            │            │                   │\n",
       "└─────────────────────┴───────────────────┴────────────┴───────────────────┘\n",
       "</pre>\n"
      ],
      "text/plain": [
       "┏━━━━━━━━━━━━━━━━━━━━━┳━━━━━━━━━━━━━━━━━━━┳━━━━━━━━━━━━┳━━━━━━━━━━━━━━━━━━━┓\n",
       "┃\u001b[1m \u001b[0m\u001b[1mLayer (type)       \u001b[0m\u001b[1m \u001b[0m┃\u001b[1m \u001b[0m\u001b[1mOutput Shape     \u001b[0m\u001b[1m \u001b[0m┃\u001b[1m \u001b[0m\u001b[1m   Param #\u001b[0m\u001b[1m \u001b[0m┃\u001b[1m \u001b[0m\u001b[1mConnected to     \u001b[0m\u001b[1m \u001b[0m┃\n",
       "┡━━━━━━━━━━━━━━━━━━━━━╇━━━━━━━━━━━━━━━━━━━╇━━━━━━━━━━━━╇━━━━━━━━━━━━━━━━━━━┩\n",
       "│ input_layer         │ (\u001b[38;5;45mNone\u001b[0m, \u001b[38;5;34m100\u001b[0m)       │          \u001b[38;5;34m0\u001b[0m │ -                 │\n",
       "│ (\u001b[38;5;33mInputLayer\u001b[0m)        │                   │            │                   │\n",
       "├─────────────────────┼───────────────────┼────────────┼───────────────────┤\n",
       "│ input_layer_1       │ (\u001b[38;5;45mNone\u001b[0m, \u001b[38;5;45mNone\u001b[0m)      │          \u001b[38;5;34m0\u001b[0m │ -                 │\n",
       "│ (\u001b[38;5;33mInputLayer\u001b[0m)        │                   │            │                   │\n",
       "├─────────────────────┼───────────────────┼────────────┼───────────────────┤\n",
       "│ embedding           │ (\u001b[38;5;45mNone\u001b[0m, \u001b[38;5;34m100\u001b[0m, \u001b[38;5;34m128\u001b[0m)  │  \u001b[38;5;34m2,560,000\u001b[0m │ input_layer[\u001b[38;5;34m0\u001b[0m][\u001b[38;5;34m0\u001b[0m] │\n",
       "│ (\u001b[38;5;33mEmbedding\u001b[0m)         │                   │            │                   │\n",
       "├─────────────────────┼───────────────────┼────────────┼───────────────────┤\n",
       "│ embedding_1         │ (\u001b[38;5;45mNone\u001b[0m, \u001b[38;5;45mNone\u001b[0m, \u001b[38;5;34m128\u001b[0m) │  \u001b[38;5;34m1,536,000\u001b[0m │ input_layer_1[\u001b[38;5;34m0\u001b[0m]… │\n",
       "│ (\u001b[38;5;33mEmbedding\u001b[0m)         │                   │            │                   │\n",
       "├─────────────────────┼───────────────────┼────────────┼───────────────────┤\n",
       "│ lstm (\u001b[38;5;33mLSTM\u001b[0m)         │ [(\u001b[38;5;45mNone\u001b[0m, \u001b[38;5;34m100\u001b[0m,      │    \u001b[38;5;34m394,240\u001b[0m │ embedding[\u001b[38;5;34m0\u001b[0m][\u001b[38;5;34m0\u001b[0m]   │\n",
       "│                     │ \u001b[38;5;34m256\u001b[0m), (\u001b[38;5;45mNone\u001b[0m,      │            │                   │\n",
       "│                     │ \u001b[38;5;34m256\u001b[0m), (\u001b[38;5;45mNone\u001b[0m,      │            │                   │\n",
       "│                     │ \u001b[38;5;34m256\u001b[0m)]             │            │                   │\n",
       "├─────────────────────┼───────────────────┼────────────┼───────────────────┤\n",
       "│ lstm_1 (\u001b[38;5;33mLSTM\u001b[0m)       │ [(\u001b[38;5;45mNone\u001b[0m, \u001b[38;5;45mNone\u001b[0m,     │    \u001b[38;5;34m394,240\u001b[0m │ embedding_1[\u001b[38;5;34m0\u001b[0m][\u001b[38;5;34m0\u001b[0m… │\n",
       "│                     │ \u001b[38;5;34m256\u001b[0m), (\u001b[38;5;45mNone\u001b[0m,      │            │ lstm[\u001b[38;5;34m0\u001b[0m][\u001b[38;5;34m1\u001b[0m],       │\n",
       "│                     │ \u001b[38;5;34m256\u001b[0m), (\u001b[38;5;45mNone\u001b[0m,      │            │ lstm[\u001b[38;5;34m0\u001b[0m][\u001b[38;5;34m2\u001b[0m]        │\n",
       "│                     │ \u001b[38;5;34m256\u001b[0m)]             │            │                   │\n",
       "├─────────────────────┼───────────────────┼────────────┼───────────────────┤\n",
       "│ attention           │ (\u001b[38;5;45mNone\u001b[0m, \u001b[38;5;45mNone\u001b[0m, \u001b[38;5;34m256\u001b[0m) │          \u001b[38;5;34m0\u001b[0m │ lstm_1[\u001b[38;5;34m0\u001b[0m][\u001b[38;5;34m0\u001b[0m],     │\n",
       "│ (\u001b[38;5;33mAttention\u001b[0m)         │                   │            │ lstm[\u001b[38;5;34m0\u001b[0m][\u001b[38;5;34m0\u001b[0m]        │\n",
       "├─────────────────────┼───────────────────┼────────────┼───────────────────┤\n",
       "│ concatenate         │ (\u001b[38;5;45mNone\u001b[0m, \u001b[38;5;45mNone\u001b[0m, \u001b[38;5;34m512\u001b[0m) │          \u001b[38;5;34m0\u001b[0m │ lstm_1[\u001b[38;5;34m0\u001b[0m][\u001b[38;5;34m0\u001b[0m],     │\n",
       "│ (\u001b[38;5;33mConcatenate\u001b[0m)       │                   │            │ attention[\u001b[38;5;34m0\u001b[0m][\u001b[38;5;34m0\u001b[0m]   │\n",
       "├─────────────────────┼───────────────────┼────────────┼───────────────────┤\n",
       "│ time_distributed    │ (\u001b[38;5;45mNone\u001b[0m, \u001b[38;5;45mNone\u001b[0m,      │  \u001b[38;5;34m6,156,000\u001b[0m │ concatenate[\u001b[38;5;34m0\u001b[0m][\u001b[38;5;34m0\u001b[0m] │\n",
       "│ (\u001b[38;5;33mTimeDistributed\u001b[0m)   │ \u001b[38;5;34m12000\u001b[0m)            │            │                   │\n",
       "└─────────────────────┴───────────────────┴────────────┴───────────────────┘\n"
      ]
     },
     "metadata": {},
     "output_type": "display_data"
    },
    {
     "data": {
      "text/html": [
       "<pre style=\"white-space:pre;overflow-x:auto;line-height:normal;font-family:Menlo,'DejaVu Sans Mono',consolas,'Courier New',monospace\"><span style=\"font-weight: bold\"> Total params: </span><span style=\"color: #00af00; text-decoration-color: #00af00\">33,121,446</span> (126.35 MB)\n",
       "</pre>\n"
      ],
      "text/plain": [
       "\u001b[1m Total params: \u001b[0m\u001b[38;5;34m33,121,446\u001b[0m (126.35 MB)\n"
      ]
     },
     "metadata": {},
     "output_type": "display_data"
    },
    {
     "data": {
      "text/html": [
       "<pre style=\"white-space:pre;overflow-x:auto;line-height:normal;font-family:Menlo,'DejaVu Sans Mono',consolas,'Courier New',monospace\"><span style=\"font-weight: bold\"> Trainable params: </span><span style=\"color: #00af00; text-decoration-color: #00af00\">11,040,480</span> (42.12 MB)\n",
       "</pre>\n"
      ],
      "text/plain": [
       "\u001b[1m Trainable params: \u001b[0m\u001b[38;5;34m11,040,480\u001b[0m (42.12 MB)\n"
      ]
     },
     "metadata": {},
     "output_type": "display_data"
    },
    {
     "data": {
      "text/html": [
       "<pre style=\"white-space:pre;overflow-x:auto;line-height:normal;font-family:Menlo,'DejaVu Sans Mono',consolas,'Courier New',monospace\"><span style=\"font-weight: bold\"> Non-trainable params: </span><span style=\"color: #00af00; text-decoration-color: #00af00\">0</span> (0.00 B)\n",
       "</pre>\n"
      ],
      "text/plain": [
       "\u001b[1m Non-trainable params: \u001b[0m\u001b[38;5;34m0\u001b[0m (0.00 B)\n"
      ]
     },
     "metadata": {},
     "output_type": "display_data"
    },
    {
     "data": {
      "text/html": [
       "<pre style=\"white-space:pre;overflow-x:auto;line-height:normal;font-family:Menlo,'DejaVu Sans Mono',consolas,'Courier New',monospace\"><span style=\"font-weight: bold\"> Optimizer params: </span><span style=\"color: #00af00; text-decoration-color: #00af00\">22,080,966</span> (84.23 MB)\n",
       "</pre>\n"
      ],
      "text/plain": [
       "\u001b[1m Optimizer params: \u001b[0m\u001b[38;5;34m22,080,966\u001b[0m (84.23 MB)\n"
      ]
     },
     "metadata": {},
     "output_type": "display_data"
    }
   ],
   "source": [
    "model.summary()"
   ]
  },
  {
   "cell_type": "code",
   "execution_count": 10,
   "id": "cdb9a909",
   "metadata": {},
   "outputs": [],
   "source": [
    "import numpy as np\n",
    "\n",
    "vocab_doc = np.load(\"/home/olavo-dalberto/models/vocab_doc.npy\", allow_pickle=True)\n",
    "vocab_sum = np.load(\"/home/olavo-dalberto/models/vocab_sum.npy\", allow_pickle=True)\n",
    "tv_doc = tf.keras.models.load_model(\"/home/olavo-dalberto/models/tv_doc_model.keras\")\n",
    "tv_sum = tf.keras.models.load_model(\"/home/olavo-dalberto/models/tv_sum_model.keras\")"
   ]
  },
  {
   "cell_type": "code",
   "execution_count": 11,
   "id": "c1538bed",
   "metadata": {},
   "outputs": [
    {
     "data": {
      "text/plain": [
       "array(['', '[UNK]', 'sos', ..., 'likud', 'lacks', 'hat'], dtype='<U18')"
      ]
     },
     "execution_count": 11,
     "metadata": {},
     "output_type": "execute_result"
    }
   ],
   "source": [
    "vocab_sum"
   ]
  },
  {
   "cell_type": "code",
   "execution_count": 11,
   "id": "3a7bb2a7",
   "metadata": {},
   "outputs": [],
   "source": [
    "# ENCODER MODEL\n",
    "\n",
    "# 1. Inputs\n",
    "encoder_inputs = model.input[0]  # equivale a layer 0\n",
    "\n",
    "# 2. Camadas do encoder\n",
    "enc_emb_layer = model.get_layer(index=2)  # index 2\n",
    "enc_lstm_layer = model.get_layer(index=4)      # index 4\n",
    "\n",
    "# 3. Reconstrói fluxo\n",
    "enc_emb = enc_emb_layer(encoder_inputs)\n",
    "encoder_outputs, state_h_enc, state_c_enc = enc_lstm_layer(enc_emb)\n",
    "\n",
    "# 4. Cria o model\n",
    "encoder_model = Model(\n",
    "    inputs=encoder_inputs,\n",
    "    outputs=[encoder_outputs, state_h_enc, state_c_enc]\n",
    ")\n",
    "\n",
    "# DECODER MODEL\n",
    "\n",
    "\n",
    "# Parâmetros\n",
    "units = enc_lstm_layer.units\n",
    "vocab_size_output = model.get_layer(index=3).input_dim\n",
    "\n",
    "# 1. Inputs de inference\n",
    "decoder_input_token = Input(shape=(1,),            name='decoder_input')     # one token\n",
    "decoder_state_h_in  = Input(shape=(units,),        name='decoder_state_h')\n",
    "decoder_state_c_in  = Input(shape=(units,),        name='decoder_state_c')\n",
    "encoder_outputs_in  = Input(shape=(None, units),    name='encoder_outputs')\n",
    "\n",
    "# 2. Camadas do decoder (reutilizando pesos)\n",
    "dec_emb_layer  = model.get_layer(index=3)     # index 3\n",
    "dec_lstm_layer = model.get_layer(index=5)          # index 5\n",
    "attn_layer     = model.get_layer(index=6)       # index 6\n",
    "concat_layer   = model.get_layer(index=7)     # index 7\n",
    "proj_layer     = model.get_layer(index=8)# index 8\n",
    "\n",
    "# 3. Fluxo passo‑a‑passo\n",
    "dec_emb_inf = dec_emb_layer(decoder_input_token)  \n",
    "dec_outs, state_h_dec, state_c_dec = dec_lstm_layer(\n",
    "    dec_emb_inf, initial_state=[decoder_state_h_in, decoder_state_c_in]\n",
    ")\n",
    "context_vector = attn_layer([dec_outs, encoder_outputs_in])\n",
    "dec_concat = concat_layer([dec_outs, context_vector])\n",
    "dec_logits = proj_layer(dec_concat)\n",
    "\n",
    "# 4. Modelo de inference do decoder\n",
    "decoder_model = Model(\n",
    "    inputs=[decoder_input_token, encoder_outputs_in, decoder_state_h_in, decoder_state_c_in],\n",
    "    outputs=[dec_logits, state_h_dec, state_c_dec]\n",
    ")"
   ]
  },
  {
   "cell_type": "code",
   "execution_count": 12,
   "id": "c0c24279",
   "metadata": {},
   "outputs": [
    {
     "data": {
      "text/html": [
       "<pre style=\"white-space:pre;overflow-x:auto;line-height:normal;font-family:Menlo,'DejaVu Sans Mono',consolas,'Courier New',monospace\"><span style=\"font-weight: bold\">Model: \"functional_1\"</span>\n",
       "</pre>\n"
      ],
      "text/plain": [
       "\u001b[1mModel: \"functional_1\"\u001b[0m\n"
      ]
     },
     "metadata": {},
     "output_type": "display_data"
    },
    {
     "data": {
      "text/html": [
       "<pre style=\"white-space:pre;overflow-x:auto;line-height:normal;font-family:Menlo,'DejaVu Sans Mono',consolas,'Courier New',monospace\">┏━━━━━━━━━━━━━━━━━━━━━━━━━━━━━━━━━┳━━━━━━━━━━━━━━━━━━━━━━━━┳━━━━━━━━━━━━━━━┓\n",
       "┃<span style=\"font-weight: bold\"> Layer (type)                    </span>┃<span style=\"font-weight: bold\"> Output Shape           </span>┃<span style=\"font-weight: bold\">       Param # </span>┃\n",
       "┡━━━━━━━━━━━━━━━━━━━━━━━━━━━━━━━━━╇━━━━━━━━━━━━━━━━━━━━━━━━╇━━━━━━━━━━━━━━━┩\n",
       "│ input_layer (<span style=\"color: #0087ff; text-decoration-color: #0087ff\">InputLayer</span>)        │ (<span style=\"color: #00d7ff; text-decoration-color: #00d7ff\">None</span>, <span style=\"color: #00af00; text-decoration-color: #00af00\">100</span>)            │             <span style=\"color: #00af00; text-decoration-color: #00af00\">0</span> │\n",
       "├─────────────────────────────────┼────────────────────────┼───────────────┤\n",
       "│ embedding (<span style=\"color: #0087ff; text-decoration-color: #0087ff\">Embedding</span>)           │ (<span style=\"color: #00d7ff; text-decoration-color: #00d7ff\">None</span>, <span style=\"color: #00af00; text-decoration-color: #00af00\">100</span>, <span style=\"color: #00af00; text-decoration-color: #00af00\">128</span>)       │     <span style=\"color: #00af00; text-decoration-color: #00af00\">2,560,000</span> │\n",
       "├─────────────────────────────────┼────────────────────────┼───────────────┤\n",
       "│ lstm (<span style=\"color: #0087ff; text-decoration-color: #0087ff\">LSTM</span>)                     │ [(<span style=\"color: #00d7ff; text-decoration-color: #00d7ff\">None</span>, <span style=\"color: #00af00; text-decoration-color: #00af00\">100</span>, <span style=\"color: #00af00; text-decoration-color: #00af00\">256</span>),     │       <span style=\"color: #00af00; text-decoration-color: #00af00\">394,240</span> │\n",
       "│                                 │ (<span style=\"color: #00d7ff; text-decoration-color: #00d7ff\">None</span>, <span style=\"color: #00af00; text-decoration-color: #00af00\">256</span>), (<span style=\"color: #00d7ff; text-decoration-color: #00d7ff\">None</span>,    │               │\n",
       "│                                 │ <span style=\"color: #00af00; text-decoration-color: #00af00\">256</span>)]                  │               │\n",
       "└─────────────────────────────────┴────────────────────────┴───────────────┘\n",
       "</pre>\n"
      ],
      "text/plain": [
       "┏━━━━━━━━━━━━━━━━━━━━━━━━━━━━━━━━━┳━━━━━━━━━━━━━━━━━━━━━━━━┳━━━━━━━━━━━━━━━┓\n",
       "┃\u001b[1m \u001b[0m\u001b[1mLayer (type)                   \u001b[0m\u001b[1m \u001b[0m┃\u001b[1m \u001b[0m\u001b[1mOutput Shape          \u001b[0m\u001b[1m \u001b[0m┃\u001b[1m \u001b[0m\u001b[1m      Param #\u001b[0m\u001b[1m \u001b[0m┃\n",
       "┡━━━━━━━━━━━━━━━━━━━━━━━━━━━━━━━━━╇━━━━━━━━━━━━━━━━━━━━━━━━╇━━━━━━━━━━━━━━━┩\n",
       "│ input_layer (\u001b[38;5;33mInputLayer\u001b[0m)        │ (\u001b[38;5;45mNone\u001b[0m, \u001b[38;5;34m100\u001b[0m)            │             \u001b[38;5;34m0\u001b[0m │\n",
       "├─────────────────────────────────┼────────────────────────┼───────────────┤\n",
       "│ embedding (\u001b[38;5;33mEmbedding\u001b[0m)           │ (\u001b[38;5;45mNone\u001b[0m, \u001b[38;5;34m100\u001b[0m, \u001b[38;5;34m128\u001b[0m)       │     \u001b[38;5;34m2,560,000\u001b[0m │\n",
       "├─────────────────────────────────┼────────────────────────┼───────────────┤\n",
       "│ lstm (\u001b[38;5;33mLSTM\u001b[0m)                     │ [(\u001b[38;5;45mNone\u001b[0m, \u001b[38;5;34m100\u001b[0m, \u001b[38;5;34m256\u001b[0m),     │       \u001b[38;5;34m394,240\u001b[0m │\n",
       "│                                 │ (\u001b[38;5;45mNone\u001b[0m, \u001b[38;5;34m256\u001b[0m), (\u001b[38;5;45mNone\u001b[0m,    │               │\n",
       "│                                 │ \u001b[38;5;34m256\u001b[0m)]                  │               │\n",
       "└─────────────────────────────────┴────────────────────────┴───────────────┘\n"
      ]
     },
     "metadata": {},
     "output_type": "display_data"
    },
    {
     "data": {
      "text/html": [
       "<pre style=\"white-space:pre;overflow-x:auto;line-height:normal;font-family:Menlo,'DejaVu Sans Mono',consolas,'Courier New',monospace\"><span style=\"font-weight: bold\"> Total params: </span><span style=\"color: #00af00; text-decoration-color: #00af00\">2,954,240</span> (11.27 MB)\n",
       "</pre>\n"
      ],
      "text/plain": [
       "\u001b[1m Total params: \u001b[0m\u001b[38;5;34m2,954,240\u001b[0m (11.27 MB)\n"
      ]
     },
     "metadata": {},
     "output_type": "display_data"
    },
    {
     "data": {
      "text/html": [
       "<pre style=\"white-space:pre;overflow-x:auto;line-height:normal;font-family:Menlo,'DejaVu Sans Mono',consolas,'Courier New',monospace\"><span style=\"font-weight: bold\"> Trainable params: </span><span style=\"color: #00af00; text-decoration-color: #00af00\">2,954,240</span> (11.27 MB)\n",
       "</pre>\n"
      ],
      "text/plain": [
       "\u001b[1m Trainable params: \u001b[0m\u001b[38;5;34m2,954,240\u001b[0m (11.27 MB)\n"
      ]
     },
     "metadata": {},
     "output_type": "display_data"
    },
    {
     "data": {
      "text/html": [
       "<pre style=\"white-space:pre;overflow-x:auto;line-height:normal;font-family:Menlo,'DejaVu Sans Mono',consolas,'Courier New',monospace\"><span style=\"font-weight: bold\"> Non-trainable params: </span><span style=\"color: #00af00; text-decoration-color: #00af00\">0</span> (0.00 B)\n",
       "</pre>\n"
      ],
      "text/plain": [
       "\u001b[1m Non-trainable params: \u001b[0m\u001b[38;5;34m0\u001b[0m (0.00 B)\n"
      ]
     },
     "metadata": {},
     "output_type": "display_data"
    }
   ],
   "source": [
    "encoder_model.summary()"
   ]
  },
  {
   "cell_type": "code",
   "execution_count": 13,
   "id": "d2b8f1b4",
   "metadata": {},
   "outputs": [
    {
     "data": {
      "text/html": [
       "<pre style=\"white-space:pre;overflow-x:auto;line-height:normal;font-family:Menlo,'DejaVu Sans Mono',consolas,'Courier New',monospace\"><span style=\"font-weight: bold\">Model: \"functional_2\"</span>\n",
       "</pre>\n"
      ],
      "text/plain": [
       "\u001b[1mModel: \"functional_2\"\u001b[0m\n"
      ]
     },
     "metadata": {},
     "output_type": "display_data"
    },
    {
     "data": {
      "text/html": [
       "<pre style=\"white-space:pre;overflow-x:auto;line-height:normal;font-family:Menlo,'DejaVu Sans Mono',consolas,'Courier New',monospace\">┏━━━━━━━━━━━━━━━━━━━━━┳━━━━━━━━━━━━━━━━━━━┳━━━━━━━━━━━━┳━━━━━━━━━━━━━━━━━━━┓\n",
       "┃<span style=\"font-weight: bold\"> Layer (type)        </span>┃<span style=\"font-weight: bold\"> Output Shape      </span>┃<span style=\"font-weight: bold\">    Param # </span>┃<span style=\"font-weight: bold\"> Connected to      </span>┃\n",
       "┡━━━━━━━━━━━━━━━━━━━━━╇━━━━━━━━━━━━━━━━━━━╇━━━━━━━━━━━━╇━━━━━━━━━━━━━━━━━━━┩\n",
       "│ decoder_input       │ (<span style=\"color: #00d7ff; text-decoration-color: #00d7ff\">None</span>, <span style=\"color: #00af00; text-decoration-color: #00af00\">1</span>)         │          <span style=\"color: #00af00; text-decoration-color: #00af00\">0</span> │ -                 │\n",
       "│ (<span style=\"color: #0087ff; text-decoration-color: #0087ff\">InputLayer</span>)        │                   │            │                   │\n",
       "├─────────────────────┼───────────────────┼────────────┼───────────────────┤\n",
       "│ embedding_1         │ (<span style=\"color: #00d7ff; text-decoration-color: #00d7ff\">None</span>, <span style=\"color: #00af00; text-decoration-color: #00af00\">1</span>, <span style=\"color: #00af00; text-decoration-color: #00af00\">128</span>)    │  <span style=\"color: #00af00; text-decoration-color: #00af00\">1,536,000</span> │ decoder_input[<span style=\"color: #00af00; text-decoration-color: #00af00\">0</span>]… │\n",
       "│ (<span style=\"color: #0087ff; text-decoration-color: #0087ff\">Embedding</span>)         │                   │            │                   │\n",
       "├─────────────────────┼───────────────────┼────────────┼───────────────────┤\n",
       "│ decoder_state_h     │ (<span style=\"color: #00d7ff; text-decoration-color: #00d7ff\">None</span>, <span style=\"color: #00af00; text-decoration-color: #00af00\">256</span>)       │          <span style=\"color: #00af00; text-decoration-color: #00af00\">0</span> │ -                 │\n",
       "│ (<span style=\"color: #0087ff; text-decoration-color: #0087ff\">InputLayer</span>)        │                   │            │                   │\n",
       "├─────────────────────┼───────────────────┼────────────┼───────────────────┤\n",
       "│ decoder_state_c     │ (<span style=\"color: #00d7ff; text-decoration-color: #00d7ff\">None</span>, <span style=\"color: #00af00; text-decoration-color: #00af00\">256</span>)       │          <span style=\"color: #00af00; text-decoration-color: #00af00\">0</span> │ -                 │\n",
       "│ (<span style=\"color: #0087ff; text-decoration-color: #0087ff\">InputLayer</span>)        │                   │            │                   │\n",
       "├─────────────────────┼───────────────────┼────────────┼───────────────────┤\n",
       "│ lstm_1 (<span style=\"color: #0087ff; text-decoration-color: #0087ff\">LSTM</span>)       │ [(<span style=\"color: #00d7ff; text-decoration-color: #00d7ff\">None</span>, <span style=\"color: #00af00; text-decoration-color: #00af00\">1</span>, <span style=\"color: #00af00; text-decoration-color: #00af00\">256</span>),  │    <span style=\"color: #00af00; text-decoration-color: #00af00\">394,240</span> │ embedding_1[<span style=\"color: #00af00; text-decoration-color: #00af00\">1</span>][<span style=\"color: #00af00; text-decoration-color: #00af00\">0</span>… │\n",
       "│                     │ (<span style=\"color: #00d7ff; text-decoration-color: #00d7ff\">None</span>, <span style=\"color: #00af00; text-decoration-color: #00af00\">256</span>),      │            │ decoder_state_h[<span style=\"color: #00af00; text-decoration-color: #00af00\">…</span> │\n",
       "│                     │ (<span style=\"color: #00d7ff; text-decoration-color: #00d7ff\">None</span>, <span style=\"color: #00af00; text-decoration-color: #00af00\">256</span>)]      │            │ decoder_state_c[<span style=\"color: #00af00; text-decoration-color: #00af00\">…</span> │\n",
       "├─────────────────────┼───────────────────┼────────────┼───────────────────┤\n",
       "│ encoder_outputs     │ (<span style=\"color: #00d7ff; text-decoration-color: #00d7ff\">None</span>, <span style=\"color: #00d7ff; text-decoration-color: #00d7ff\">None</span>, <span style=\"color: #00af00; text-decoration-color: #00af00\">256</span>) │          <span style=\"color: #00af00; text-decoration-color: #00af00\">0</span> │ -                 │\n",
       "│ (<span style=\"color: #0087ff; text-decoration-color: #0087ff\">InputLayer</span>)        │                   │            │                   │\n",
       "├─────────────────────┼───────────────────┼────────────┼───────────────────┤\n",
       "│ attention           │ (<span style=\"color: #00d7ff; text-decoration-color: #00d7ff\">None</span>, <span style=\"color: #00af00; text-decoration-color: #00af00\">1</span>, <span style=\"color: #00af00; text-decoration-color: #00af00\">256</span>)    │          <span style=\"color: #00af00; text-decoration-color: #00af00\">0</span> │ lstm_1[<span style=\"color: #00af00; text-decoration-color: #00af00\">1</span>][<span style=\"color: #00af00; text-decoration-color: #00af00\">0</span>],     │\n",
       "│ (<span style=\"color: #0087ff; text-decoration-color: #0087ff\">Attention</span>)         │                   │            │ encoder_outputs[<span style=\"color: #00af00; text-decoration-color: #00af00\">…</span> │\n",
       "├─────────────────────┼───────────────────┼────────────┼───────────────────┤\n",
       "│ concatenate         │ (<span style=\"color: #00d7ff; text-decoration-color: #00d7ff\">None</span>, <span style=\"color: #00af00; text-decoration-color: #00af00\">1</span>, <span style=\"color: #00af00; text-decoration-color: #00af00\">512</span>)    │          <span style=\"color: #00af00; text-decoration-color: #00af00\">0</span> │ lstm_1[<span style=\"color: #00af00; text-decoration-color: #00af00\">1</span>][<span style=\"color: #00af00; text-decoration-color: #00af00\">0</span>],     │\n",
       "│ (<span style=\"color: #0087ff; text-decoration-color: #0087ff\">Concatenate</span>)       │                   │            │ attention[<span style=\"color: #00af00; text-decoration-color: #00af00\">1</span>][<span style=\"color: #00af00; text-decoration-color: #00af00\">0</span>]   │\n",
       "├─────────────────────┼───────────────────┼────────────┼───────────────────┤\n",
       "│ time_distributed    │ (<span style=\"color: #00d7ff; text-decoration-color: #00d7ff\">None</span>, <span style=\"color: #00af00; text-decoration-color: #00af00\">1</span>, <span style=\"color: #00af00; text-decoration-color: #00af00\">12000</span>)  │  <span style=\"color: #00af00; text-decoration-color: #00af00\">6,156,000</span> │ concatenate[<span style=\"color: #00af00; text-decoration-color: #00af00\">1</span>][<span style=\"color: #00af00; text-decoration-color: #00af00\">0</span>] │\n",
       "│ (<span style=\"color: #0087ff; text-decoration-color: #0087ff\">TimeDistributed</span>)   │                   │            │                   │\n",
       "└─────────────────────┴───────────────────┴────────────┴───────────────────┘\n",
       "</pre>\n"
      ],
      "text/plain": [
       "┏━━━━━━━━━━━━━━━━━━━━━┳━━━━━━━━━━━━━━━━━━━┳━━━━━━━━━━━━┳━━━━━━━━━━━━━━━━━━━┓\n",
       "┃\u001b[1m \u001b[0m\u001b[1mLayer (type)       \u001b[0m\u001b[1m \u001b[0m┃\u001b[1m \u001b[0m\u001b[1mOutput Shape     \u001b[0m\u001b[1m \u001b[0m┃\u001b[1m \u001b[0m\u001b[1m   Param #\u001b[0m\u001b[1m \u001b[0m┃\u001b[1m \u001b[0m\u001b[1mConnected to     \u001b[0m\u001b[1m \u001b[0m┃\n",
       "┡━━━━━━━━━━━━━━━━━━━━━╇━━━━━━━━━━━━━━━━━━━╇━━━━━━━━━━━━╇━━━━━━━━━━━━━━━━━━━┩\n",
       "│ decoder_input       │ (\u001b[38;5;45mNone\u001b[0m, \u001b[38;5;34m1\u001b[0m)         │          \u001b[38;5;34m0\u001b[0m │ -                 │\n",
       "│ (\u001b[38;5;33mInputLayer\u001b[0m)        │                   │            │                   │\n",
       "├─────────────────────┼───────────────────┼────────────┼───────────────────┤\n",
       "│ embedding_1         │ (\u001b[38;5;45mNone\u001b[0m, \u001b[38;5;34m1\u001b[0m, \u001b[38;5;34m128\u001b[0m)    │  \u001b[38;5;34m1,536,000\u001b[0m │ decoder_input[\u001b[38;5;34m0\u001b[0m]… │\n",
       "│ (\u001b[38;5;33mEmbedding\u001b[0m)         │                   │            │                   │\n",
       "├─────────────────────┼───────────────────┼────────────┼───────────────────┤\n",
       "│ decoder_state_h     │ (\u001b[38;5;45mNone\u001b[0m, \u001b[38;5;34m256\u001b[0m)       │          \u001b[38;5;34m0\u001b[0m │ -                 │\n",
       "│ (\u001b[38;5;33mInputLayer\u001b[0m)        │                   │            │                   │\n",
       "├─────────────────────┼───────────────────┼────────────┼───────────────────┤\n",
       "│ decoder_state_c     │ (\u001b[38;5;45mNone\u001b[0m, \u001b[38;5;34m256\u001b[0m)       │          \u001b[38;5;34m0\u001b[0m │ -                 │\n",
       "│ (\u001b[38;5;33mInputLayer\u001b[0m)        │                   │            │                   │\n",
       "├─────────────────────┼───────────────────┼────────────┼───────────────────┤\n",
       "│ lstm_1 (\u001b[38;5;33mLSTM\u001b[0m)       │ [(\u001b[38;5;45mNone\u001b[0m, \u001b[38;5;34m1\u001b[0m, \u001b[38;5;34m256\u001b[0m),  │    \u001b[38;5;34m394,240\u001b[0m │ embedding_1[\u001b[38;5;34m1\u001b[0m][\u001b[38;5;34m0\u001b[0m… │\n",
       "│                     │ (\u001b[38;5;45mNone\u001b[0m, \u001b[38;5;34m256\u001b[0m),      │            │ decoder_state_h[\u001b[38;5;34m…\u001b[0m │\n",
       "│                     │ (\u001b[38;5;45mNone\u001b[0m, \u001b[38;5;34m256\u001b[0m)]      │            │ decoder_state_c[\u001b[38;5;34m…\u001b[0m │\n",
       "├─────────────────────┼───────────────────┼────────────┼───────────────────┤\n",
       "│ encoder_outputs     │ (\u001b[38;5;45mNone\u001b[0m, \u001b[38;5;45mNone\u001b[0m, \u001b[38;5;34m256\u001b[0m) │          \u001b[38;5;34m0\u001b[0m │ -                 │\n",
       "│ (\u001b[38;5;33mInputLayer\u001b[0m)        │                   │            │                   │\n",
       "├─────────────────────┼───────────────────┼────────────┼───────────────────┤\n",
       "│ attention           │ (\u001b[38;5;45mNone\u001b[0m, \u001b[38;5;34m1\u001b[0m, \u001b[38;5;34m256\u001b[0m)    │          \u001b[38;5;34m0\u001b[0m │ lstm_1[\u001b[38;5;34m1\u001b[0m][\u001b[38;5;34m0\u001b[0m],     │\n",
       "│ (\u001b[38;5;33mAttention\u001b[0m)         │                   │            │ encoder_outputs[\u001b[38;5;34m…\u001b[0m │\n",
       "├─────────────────────┼───────────────────┼────────────┼───────────────────┤\n",
       "│ concatenate         │ (\u001b[38;5;45mNone\u001b[0m, \u001b[38;5;34m1\u001b[0m, \u001b[38;5;34m512\u001b[0m)    │          \u001b[38;5;34m0\u001b[0m │ lstm_1[\u001b[38;5;34m1\u001b[0m][\u001b[38;5;34m0\u001b[0m],     │\n",
       "│ (\u001b[38;5;33mConcatenate\u001b[0m)       │                   │            │ attention[\u001b[38;5;34m1\u001b[0m][\u001b[38;5;34m0\u001b[0m]   │\n",
       "├─────────────────────┼───────────────────┼────────────┼───────────────────┤\n",
       "│ time_distributed    │ (\u001b[38;5;45mNone\u001b[0m, \u001b[38;5;34m1\u001b[0m, \u001b[38;5;34m12000\u001b[0m)  │  \u001b[38;5;34m6,156,000\u001b[0m │ concatenate[\u001b[38;5;34m1\u001b[0m][\u001b[38;5;34m0\u001b[0m] │\n",
       "│ (\u001b[38;5;33mTimeDistributed\u001b[0m)   │                   │            │                   │\n",
       "└─────────────────────┴───────────────────┴────────────┴───────────────────┘\n"
      ]
     },
     "metadata": {},
     "output_type": "display_data"
    },
    {
     "data": {
      "text/html": [
       "<pre style=\"white-space:pre;overflow-x:auto;line-height:normal;font-family:Menlo,'DejaVu Sans Mono',consolas,'Courier New',monospace\"><span style=\"font-weight: bold\"> Total params: </span><span style=\"color: #00af00; text-decoration-color: #00af00\">8,086,240</span> (30.85 MB)\n",
       "</pre>\n"
      ],
      "text/plain": [
       "\u001b[1m Total params: \u001b[0m\u001b[38;5;34m8,086,240\u001b[0m (30.85 MB)\n"
      ]
     },
     "metadata": {},
     "output_type": "display_data"
    },
    {
     "data": {
      "text/html": [
       "<pre style=\"white-space:pre;overflow-x:auto;line-height:normal;font-family:Menlo,'DejaVu Sans Mono',consolas,'Courier New',monospace\"><span style=\"font-weight: bold\"> Trainable params: </span><span style=\"color: #00af00; text-decoration-color: #00af00\">8,086,240</span> (30.85 MB)\n",
       "</pre>\n"
      ],
      "text/plain": [
       "\u001b[1m Trainable params: \u001b[0m\u001b[38;5;34m8,086,240\u001b[0m (30.85 MB)\n"
      ]
     },
     "metadata": {},
     "output_type": "display_data"
    },
    {
     "data": {
      "text/html": [
       "<pre style=\"white-space:pre;overflow-x:auto;line-height:normal;font-family:Menlo,'DejaVu Sans Mono',consolas,'Courier New',monospace\"><span style=\"font-weight: bold\"> Non-trainable params: </span><span style=\"color: #00af00; text-decoration-color: #00af00\">0</span> (0.00 B)\n",
       "</pre>\n"
      ],
      "text/plain": [
       "\u001b[1m Non-trainable params: \u001b[0m\u001b[38;5;34m0\u001b[0m (0.00 B)\n"
      ]
     },
     "metadata": {},
     "output_type": "display_data"
    }
   ],
   "source": [
    "decoder_model.summary()"
   ]
  },
  {
   "cell_type": "code",
   "execution_count": 14,
   "id": "9abbea42",
   "metadata": {},
   "outputs": [],
   "source": [
    "# import numpy as np\n",
    "\n",
    "# # 1) Acha os índices de <sos> e <eos>\n",
    "sum_vocab = tv_sum.get_layer(index=0).get_vocabulary()\n",
    "sos_id = sum_vocab.index('sos')\n",
    "eos_id = sum_vocab.index('eos')\n",
    "\n",
    "# def decode_sequence(raw_text, max_len=MAXLEN_SUM+2):\n",
    "#     # 1) Vetoriza o documento\n",
    "#     doc_input = tf.constant([[raw_text]], dtype=tf.string)  # shape (1,1)\n",
    "#     doc_vector = tv_doc.predict(doc_input, verbose=0)       # (1, MAXLEN_DOC)\n",
    "\n",
    "#     # 2) Passa pelo encoder\n",
    "#     enc_outs, h, c = encoder_model.predict(doc_vector, verbose=0)\n",
    "\n",
    "#     # 3) Inicia o decoder com <sos>\n",
    "#     target_seq = np.array([[sos_id]], dtype=np.int32)\n",
    "#     decoded_ids = []\n",
    "\n",
    "#     # 4) Geração de tokens\n",
    "#     for _ in range(max_len):\n",
    "#         logits, h, c = decoder_model.predict([target_seq, enc_outs, h, c], verbose=0)\n",
    "#         next_id = int(np.argmax(logits[0, -1, :]))\n",
    "\n",
    "#         # Se <eos>, param o loop\n",
    "#         if next_id == eos_id:\n",
    "#             break\n",
    "\n",
    "#         # Atualiza o target_seq para o próximo passo\n",
    "#         target_seq = np.array([[next_id]], dtype=np.int32)\n",
    "\n",
    "#         # Só adiciona se for um token real (> eos_id)\n",
    "#         if next_id > eos_id:\n",
    "#             decoded_ids.append(next_id)\n",
    "\n",
    "#     # 5) Converte índices em tokens (pulando PAD/UNK)\n",
    "#     decoded_tokens = []\n",
    "#     for idx in decoded_ids:\n",
    "#         token = sum_vocab[idx]\n",
    "#         if token in ['', '[UNK]']:\n",
    "#             continue\n",
    "#         decoded_tokens.append(token)\n",
    "\n",
    "#     return ' '.join(decoded_tokens)"
   ]
  },
  {
   "cell_type": "code",
   "execution_count": 15,
   "id": "032c48e3",
   "metadata": {},
   "outputs": [],
   "source": [
    "import tensorflow as tf\n",
    "\n",
    "def sample_with_temperature(logits, temperature=1.5):\n",
    "    # logits: array shape (vocab,)\n",
    "    probs = tf.nn.softmax(logits / temperature).numpy()\n",
    "    return np.random.choice(len(probs), p=probs)\n",
    "\n",
    "def decode_with_sampling(raw_text, temperature=1.5, max_len=MAXLEN_SUM+2):\n",
    "    doc_input  = tf.constant([[raw_text]])\n",
    "    doc_vector = tv_doc.predict(doc_input, verbose=0)\n",
    "    enc_outs, h, c = encoder_model.predict(doc_vector, verbose=0)\n",
    "\n",
    "    sos_id = sum_vocab.index('sos')\n",
    "    eos_id = sum_vocab.index('eos')\n",
    "    target_seq = np.array([[sos_id]], dtype=np.int32)\n",
    "    decoded_ids = []\n",
    "\n",
    "    for step in range(max_len):\n",
    "        logits, h, c = decoder_model.predict([target_seq, enc_outs, h, c], verbose=0)\n",
    "        next_id = sample_with_temperature(logits[0,0,:], temperature)\n",
    "        if next_id == eos_id:\n",
    "            break\n",
    "        decoded_ids.append(next_id)\n",
    "        target_seq = np.array([[next_id]], dtype=np.int32)\n",
    "\n",
    "    return [sum_vocab[i] for i in decoded_ids if i > eos_id]"
   ]
  },
  {
   "cell_type": "code",
   "execution_count": 18,
   "id": "fdae0e47",
   "metadata": {},
   "outputs": [
    {
     "data": {
      "text/plain": [
       "'grilled ilo breakaway waste nalbandian author jon soviet organizing sore national faster runup drugs hotels builder uranium resurgence boat chen garbage wheel wesley analysts civilian editor cyprus dossier kenya obligations incursion existing'"
      ]
     },
     "execution_count": 18,
     "metadata": {},
     "output_type": "execute_result"
    }
   ],
   "source": [
    "# print(decode_sequence(\"Este é um texto de teste para sumarização.\"))\n",
    "raw_text = \"\"\"The government said Monday it has concluded  \n",
    "talks with the Walt Disney Co. about building a theme park here, \n",
    "and an official said the two sides had reached a deal.\n",
    "</P>\"\"\"\n",
    "\n",
    "' '.join(decode_with_sampling(raw_text))"
   ]
  },
  {
   "cell_type": "code",
   "execution_count": 26,
   "id": "a4474bc6",
   "metadata": {},
   "outputs": [
    {
     "name": "stdout",
     "output_type": "stream",
     "text": [
      "Resumos com eos na posição 1: 0 / 512\n",
      "Distribuição de lengths: [ 0  0  0  0  2 22 59 84 83 78]\n"
     ]
    }
   ],
   "source": [
    "import numpy as np\n",
    "\n",
    "lengths = []\n",
    "for example in debug_raw:\n",
    "    summ_vec = example['summary'].numpy()\n",
    "    eos_pos = np.where(summ_vec == sum_vocab.index('eos'))[0]\n",
    "    if len(eos_pos):\n",
    "        lengths.append(eos_pos[0])\n",
    "    else:\n",
    "        lengths.append(len(summ_vec))\n",
    "\n",
    "print(\"Resumos com eos na posição 1:\", sum(np.array(lengths)==1), \"/\", len(lengths))\n",
    "print(\"Distribuição de lengths:\", np.bincount(lengths)[:10])"
   ]
  },
  {
   "cell_type": "code",
   "execution_count": 21,
   "id": "c7d1784d",
   "metadata": {},
   "outputs": [
    {
     "data": {
      "text/plain": [
       "''"
      ]
     },
     "execution_count": 21,
     "metadata": {},
     "output_type": "execute_result"
    }
   ],
   "source": [
    "decode_sequence(\"This is a text for summarization.\")"
   ]
  },
  {
   "cell_type": "code",
   "execution_count": 39,
   "id": "f9fc2fe4",
   "metadata": {},
   "outputs": [
    {
     "name": "stdout",
     "output_type": "stream",
     "text": [
      "0 ''\n",
      "1 '[UNK]'\n",
      "2 'sos'\n",
      "3 'eos'\n",
      "4 'to'\n",
      "5 'in'\n",
      "6 'of'\n",
      "7 'for'\n",
      "8 's'\n",
      "9 'on'\n",
      "10 'us'\n",
      "11 'unk'\n",
      "12 'with'\n",
      "13 'at'\n",
      "14 'says'\n",
      "15 'new'\n",
      "16 'china'\n",
      "17 'as'\n",
      "18 'the'\n",
      "19 'a'\n"
     ]
    }
   ],
   "source": [
    "# Se tv_sum for um Model, o layer de Vectorization é o segundo:\n",
    "vec_layer = tv_sum.layers[0]\n",
    "# Pega a lista de tokens\n",
    "sum_vocab = vec_layer.get_vocabulary()\n",
    "\n",
    "# Veja os primeiros 20 tokens\n",
    "for idx, token in enumerate(sum_vocab[:20]):\n",
    "    print(idx, repr(token))\n"
   ]
  },
  {
   "cell_type": "code",
   "execution_count": 22,
   "id": "feaf3aaa",
   "metadata": {},
   "outputs": [
    {
     "data": {
      "image/png": "[encoded data removed]",
      "text/plain": [
       "<Figure size 1200x400 with 2 Axes>"
      ]
     },
     "metadata": {},
     "output_type": "display_data"
    }
   ],
   "source": [
    "import matplotlib.pyplot as plt\n",
    "\n",
    "plt.figure(figsize=(12, 4))\n",
    "plt.subplot(1, 2, 1)\n",
    "plt.plot(history.history['loss'], label='Training Loss')\n",
    "plt.plot(history.history['val_loss'], label='Validation Loss')\n",
    "plt.legend()\n",
    "plt.subplot(1, 2, 2)\n",
    "plt.plot(history.history['sparse_categorical_accuracy'], label='Training Accuracy')\n",
    "plt.plot(history.history['val_sparse_categorical_accuracy'], label='Validation Accuracy')\n",
    "plt.legend()\n",
    "plt.show()"
   ]
  },
  {
   "cell_type": "code",
   "execution_count": null,
   "id": "41eb5045",
   "metadata": {},
   "outputs": [],
   "source": []
  }
 ],
 "metadata": {
  "kernelspec": {
   "display_name": "ia",
   "language": "python",
   "name": "python3"
  },
  "language_info": {
   "codemirror_mode": {
    "name": "ipython",
    "version": 3
   },
   "file_extension": ".py",
   "mimetype": "text/x-python",
   "name": "python",
   "nbconvert_exporter": "python",
   "pygments_lexer": "ipython3",
   "version": "3.10.18"
  }
 },
 "nbformat": 4,
 "nbformat_minor": 5
}
