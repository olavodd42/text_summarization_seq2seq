{
 "cells": [
  {
   "cell_type": "code",
   "execution_count": 1,
   "id": "a658bc1e",
   "metadata": {},
   "outputs": [
    {
     "name": "stderr",
     "output_type": "stream",
     "text": [
      "2025-07-30 20:49:59.149667: E external/local_xla/xla/stream_executor/cuda/cuda_fft.cc:467] Unable to register cuFFT factory: Attempting to register factory for plugin cuFFT when one has already been registered\n",
      "WARNING: All log messages before absl::InitializeLog() is called are written to STDERR\n",
      "E0000 00:00:1753919399.813130    7135 cuda_dnn.cc:8579] Unable to register cuDNN factory: Attempting to register factory for plugin cuDNN when one has already been registered\n",
      "E0000 00:00:1753919399.979435    7135 cuda_blas.cc:1407] Unable to register cuBLAS factory: Attempting to register factory for plugin cuBLAS when one has already been registered\n",
      "W0000 00:00:1753919401.515748    7135 computation_placer.cc:177] computation placer already registered. Please check linkage and avoid linking the same target more than once.\n",
      "W0000 00:00:1753919401.515775    7135 computation_placer.cc:177] computation placer already registered. Please check linkage and avoid linking the same target more than once.\n",
      "W0000 00:00:1753919401.515777    7135 computation_placer.cc:177] computation placer already registered. Please check linkage and avoid linking the same target more than once.\n",
      "W0000 00:00:1753919401.515779    7135 computation_placer.cc:177] computation placer already registered. Please check linkage and avoid linking the same target more than once.\n",
      "2025-07-30 20:50:01.661346: I tensorflow/core/platform/cpu_feature_guard.cc:210] This TensorFlow binary is optimized to use available CPU instructions in performance-critical operations.\n",
      "To enable the following instructions: AVX2 FMA, in other operations, rebuild TensorFlow with the appropriate compiler flags.\n"
     ]
    }
   ],
   "source": [
    "from tensorflow.keras.models import Model\n",
    "import tensorflow as tf\n",
    "from tensorflow.keras.layers import Input, LSTM, Embedding, Dense, Concatenate, TimeDistributed, Attention\n",
    "from tensorflow.keras import mixed_precision\n",
    "\n",
    "mixed_precision.set_global_policy(\"mixed_float16\")\n",
    "tf.config.optimizer.set_jit(True)\n",
    "\n",
    "vocab_size_input = 10000 + 1\n",
    "vocab_size_output = 6000 + 1\n",
    "embedding_dim = 64\n",
    "units=256\n",
    "BATCH = 16384\n",
    "MAXLEN_DOC = 100      # comprimento da sequência do document\n",
    "MAXLEN_SUM = 30       # comprimento da sequência do summary"
   ]
  },
  {
   "cell_type": "code",
   "execution_count": 2,
   "id": "9dc21c77",
   "metadata": {},
   "outputs": [
    {
     "name": "stderr",
     "output_type": "stream",
     "text": [
      "I0000 00:00:1753919427.080113    7135 gpu_device.cc:2019] Created device /job:localhost/replica:0/task:0/device:GPU:0 with 1738 MB memory:  -> device: 0, name: NVIDIA GeForce RTX 3050 Laptop GPU, pci bus id: 0000:01:00.0, compute capability: 8.6\n"
     ]
    }
   ],
   "source": [
    "# ENCODER LAYERS\n",
    "encoder_inputs = Input(shape=(100,))\n",
    "enc_emb = Embedding(input_dim=vocab_size_input, output_dim=embedding_dim)(encoder_inputs)\n",
    "\n",
    "encoder_lstm = LSTM(units, return_sequences=True, return_state=True)\n",
    "encoder_output, state_h, state_c = encoder_lstm(enc_emb)\n",
    "\n",
    "# DECODER LAYERS\n",
    "decoder_inputs = Input(shape=(None,))\n",
    "dec_emb_layer = Embedding(vocab_size_output, embedding_dim)\n",
    "dec_emb = dec_emb_layer(decoder_inputs)\n",
    "\n",
    "decoder_lstm = LSTM(units, return_sequences=True, return_state=True)\n",
    "decoder_outputs, _, _ = decoder_lstm(dec_emb, initial_state=[state_h, state_c])\n",
    "\n",
    "# ATTENTION LAYERS\n",
    "attention = Attention()\n",
    "context_vector = attention([decoder_outputs, encoder_output])\n",
    "\n",
    "decoder_concat_input = Concatenate(axis=-1)([decoder_outputs, context_vector])\n",
    "decoder_dense = TimeDistributed(Dense(vocab_size_output, activation='softmax'))\n",
    "final_output = decoder_dense(decoder_concat_input)\n",
    "\n",
    "model = Model([encoder_inputs, decoder_inputs], final_output)"
   ]
  },
  {
   "cell_type": "code",
   "execution_count": 3,
   "id": "bb2d8e25",
   "metadata": {},
   "outputs": [],
   "source": [
    "model.compile(\n",
    "    optimizer=tf.keras.optimizers.AdamW(learning_rate=1e-3),\n",
    "    loss=tf.keras.losses.SparseCategoricalCrossentropy(),\n",
    "    metrics=['sparse_categorical_accuracy']\n",
    ")"
   ]
  },
  {
   "cell_type": "code",
   "execution_count": 4,
   "id": "86b75ff6",
   "metadata": {},
   "outputs": [],
   "source": [
    "# Reconstrua o element_spec manualmente:\n",
    "element_spec = {\n",
    "    'document': tf.TensorSpec(shape=(BATCH, MAXLEN_DOC), dtype=tf.int64),\n",
    "    'summary' : tf.TensorSpec(shape=(BATCH, MAXLEN_SUM),  dtype=tf.int64),\n",
    "}\n"
   ]
  },
  {
   "cell_type": "code",
   "execution_count": 5,
   "id": "dcaf2a99",
   "metadata": {},
   "outputs": [],
   "source": [
    "ds = tf.data.Dataset.load(\n",
    "    \"vectorized_gigaword_ds\",\n",
    "    element_spec=element_spec\n",
    ")\n",
    "ds = ds.unbatch()"
   ]
  },
  {
   "cell_type": "code",
   "execution_count": 6,
   "id": "9312b699",
   "metadata": {},
   "outputs": [
    {
     "name": "stdout",
     "output_type": "stream",
     "text": [
      "<_UnbatchDataset element_spec={'document': TensorSpec(shape=(100,), dtype=tf.int64, name=None), 'summary': TensorSpec(shape=(30,), dtype=tf.int64, name=None)}>\n"
     ]
    }
   ],
   "source": [
    "print(ds)"
   ]
  },
  {
   "cell_type": "code",
   "execution_count": 7,
   "id": "a8356d5f",
   "metadata": {},
   "outputs": [],
   "source": [
    "VALIDATION_SPLIT = 0.2\n",
    "SHUFFLE_BUFFER   = 10000\n",
    "BATCH_SIZE       = 128\n",
    "\n",
    "def make_training_example(x):\n",
    "    enc_in = x['document']                         # (MAXLEN_DOC,)\n",
    "    dec_in = x['summary'][:-1]                     # (MAXLEN_SUM-1,)\n",
    "    dec_tr = x['summary'][1:]                      # (MAXLEN_SUM-1,)\n",
    "    return ( (enc_in, dec_in), dec_tr )\n",
    "\n",
    "paired = ds.map(make_training_example, num_parallel_calls=tf.data.AUTOTUNE)\n",
    "shuffled = paired.shuffle(SHUFFLE_BUFFER, reshuffle_each_iteration=False)\n",
    "total = tf.data.experimental.cardinality(shuffled).numpy()\n",
    "val_count = int(total * VALIDATION_SPLIT)\n",
    "\n",
    "val_ds = (\n",
    "    shuffled\n",
    "    .take(val_count)\n",
    "    .batch(BATCH_SIZE)\n",
    "    .prefetch(tf.data.AUTOTUNE)\n",
    ")\n",
    "\n",
    "train_ds = (\n",
    "    shuffled\n",
    "    .skip(val_count)\n",
    "    .batch(BATCH_SIZE)\n",
    "    .prefetch(tf.data.AUTOTUNE)\n",
    "    .cache()\n",
    ")\n"
   ]
  },
  {
   "cell_type": "code",
   "execution_count": 8,
   "id": "9b09aa14",
   "metadata": {},
   "outputs": [
    {
     "name": "stdout",
     "output_type": "stream",
     "text": [
      "(100,)\n"
     ]
    },
    {
     "name": "stderr",
     "output_type": "stream",
     "text": [
      "2025-07-30 20:50:33.033973: I tensorflow/core/framework/local_rendezvous.cc:407] Local rendezvous is aborting with status: OUT_OF_RANGE: End of sequence\n"
     ]
    }
   ],
   "source": [
    "for batch in ds.take(1):\n",
    "\tprint(batch['document'].shape)"
   ]
  },
  {
   "cell_type": "code",
   "execution_count": null,
   "id": "da8f55f6",
   "metadata": {},
   "outputs": [
    {
     "name": "stdout",
     "output_type": "stream",
     "text": [
      "Epoch 1/30\n"
     ]
    },
    {
     "name": "stderr",
     "output_type": "stream",
     "text": [
      "WARNING: All log messages before absl::InitializeLog() is called are written to STDERR\n",
      "I0000 00:00:1753919434.292626    8674 service.cc:152] XLA service 0x28e80ec0 initialized for platform CUDA (this does not guarantee that XLA will be used). Devices:\n",
      "I0000 00:00:1753919434.292646    8674 service.cc:160]   StreamExecutor device (0): NVIDIA GeForce RTX 3050 Laptop GPU, Compute Capability 8.6\n",
      "I0000 00:00:1753919434.516635    8674 cuda_dnn.cc:529] Loaded cuDNN version 90701\n",
      "I0000 00:00:1753919435.133351    8674 device_compiler.h:188] Compiled cluster using XLA!  This line is logged at most once for the lifetime of the process.\n",
      "2025-07-30 20:50:47.572142: I tensorflow/compiler/mlir/tensorflow/utils/dump_mlir_util.cc:269] disabling MLIR crash reproducer, set env var `MLIR_CRASH_REPRODUCER_DIRECTORY` to enable.\n"
     ]
    },
    {
     "name": "stdout",
     "output_type": "stream",
     "text": [
      "\u001b[1m23754/23860\u001b[0m \u001b[32m━━━━━━━━━━━━━━━━━━━\u001b[0m\u001b[37m━\u001b[0m \u001b[1m5s\u001b[0m 51ms/step - loss: 1.2555 - sparse_categorical_accuracy: 0.8047"
     ]
    },
    {
     "name": "stderr",
     "output_type": "stream",
     "text": [
      "2025-07-30 21:11:16.099557: I tensorflow/core/framework/local_rendezvous.cc:407] Local rendezvous is aborting with status: OUT_OF_RANGE: End of sequence\n",
      "\t [[{{node IteratorGetNext}}]]\n",
      "2025-07-30 21:11:16.099574: I tensorflow/core/framework/local_rendezvous.cc:430] Local rendezvous send item cancelled. Key hash: 15893612600084131667\n",
      "2025-07-30 21:11:16.099577: I tensorflow/core/framework/local_rendezvous.cc:426] Local rendezvous recv item cancelled. Key hash: 9791375644313731186\n",
      "2025-07-30 21:11:16.099585: I tensorflow/core/framework/local_rendezvous.cc:430] Local rendezvous send item cancelled. Key hash: 2949710951153607702\n",
      "2025-07-30 21:11:16.099590: I tensorflow/core/framework/local_rendezvous.cc:426] Local rendezvous recv item cancelled. Key hash: 14182270168113043710\n",
      "2025-07-30 21:11:16.099593: I tensorflow/core/framework/local_rendezvous.cc:426] Local rendezvous recv item cancelled. Key hash: 16691385704716065394\n",
      "2025-07-30 21:11:16.099596: I tensorflow/core/framework/local_rendezvous.cc:426] Local rendezvous recv item cancelled. Key hash: 2453962834174639252\n",
      "2025-07-30 21:11:16.099599: I tensorflow/core/framework/local_rendezvous.cc:426] Local rendezvous recv item cancelled. Key hash: 12814437477796408856\n",
      "2025-07-30 21:11:16.099621: I tensorflow/core/framework/local_rendezvous.cc:426] Local rendezvous recv item cancelled. Key hash: 1453179846934580812\n",
      "/mnt/dados/miniconda3/envs/ia/lib/python3.10/site-packages/keras/src/trainers/epoch_iterator.py:160: UserWarning: Your input ran out of data; interrupting training. Make sure that your dataset or generator can generate at least `steps_per_epoch * epochs` batches. You may need to use the `.repeat()` function when building your dataset.\n",
      "  self._interrupted_warning()\n",
      "2025-07-30 21:11:17.918184: I external/local_xla/xla/stream_executor/cuda/subprocess_compilation.cc:346] ptxas warning : Registers are spilled to local memory in function 'gemm_fusion_dot_28', 272 bytes spill stores, 272 bytes spill loads\n",
      "\n",
      "2025-07-30 21:11:18.162552: I external/local_xla/xla/stream_executor/cuda/subprocess_compilation.cc:346] ptxas warning : Registers are spilled to local memory in function 'gemm_fusion_dot_28', 32 bytes spill stores, 32 bytes spill loads\n",
      "\n",
      "2025-07-30 21:11:18.342202: I external/local_xla/xla/stream_executor/cuda/subprocess_compilation.cc:346] ptxas warning : Registers are spilled to local memory in function 'gemm_fusion_dot_28', 236 bytes spill stores, 236 bytes spill loads\n",
      "\n",
      "2025-07-30 21:11:18.531910: I external/local_xla/xla/stream_executor/cuda/subprocess_compilation.cc:346] ptxas warning : Registers are spilled to local memory in function 'gemm_fusion_dot_28', 216 bytes spill stores, 216 bytes spill loads\n",
      "\n",
      "2025-07-30 21:11:18.619577: I external/local_xla/xla/stream_executor/cuda/subprocess_compilation.cc:346] ptxas warning : Registers are spilled to local memory in function 'gemm_fusion_dot_28', 164 bytes spill stores, 164 bytes spill loads\n",
      "\n"
     ]
    },
    {
     "name": "stdout",
     "output_type": "stream",
     "text": [
      "\u001b[1m23860/23860\u001b[0m \u001b[32m━━━━━━━━━━━━━━━━━━━━\u001b[0m\u001b[37m\u001b[0m \u001b[1m1321s\u001b[0m 54ms/step - loss: 1.2544 - sparse_categorical_accuracy: 0.8048 - val_loss: 0.8277 - val_sparse_categorical_accuracy: 0.8425\n",
      "Epoch 2/30\n",
      "\u001b[1m23754/23860\u001b[0m \u001b[32m━━━━━━━━━━━━━━━━━━━\u001b[0m\u001b[37m━\u001b[0m \u001b[1m5s\u001b[0m 51ms/step - loss: 0.8044 - sparse_categorical_accuracy: 0.8451"
     ]
    },
    {
     "name": "stderr",
     "output_type": "stream",
     "text": [
      "2025-07-30 21:32:50.364917: I tensorflow/core/framework/local_rendezvous.cc:407] Local rendezvous is aborting with status: OUT_OF_RANGE: End of sequence\n",
      "\t [[{{node IteratorGetNext}}]]\n",
      "2025-07-30 21:32:50.364943: I tensorflow/core/framework/local_rendezvous.cc:426] Local rendezvous recv item cancelled. Key hash: 9791375644313731186\n",
      "2025-07-30 21:32:50.364946: I tensorflow/core/framework/local_rendezvous.cc:430] Local rendezvous send item cancelled. Key hash: 2949710951153607702\n",
      "2025-07-30 21:32:50.364950: I tensorflow/core/framework/local_rendezvous.cc:426] Local rendezvous recv item cancelled. Key hash: 14182270168113043710\n",
      "2025-07-30 21:32:50.364953: I tensorflow/core/framework/local_rendezvous.cc:426] Local rendezvous recv item cancelled. Key hash: 16691385704716065394\n",
      "2025-07-30 21:32:50.364957: I tensorflow/core/framework/local_rendezvous.cc:426] Local rendezvous recv item cancelled. Key hash: 2453962834174639252\n",
      "2025-07-30 21:32:50.364960: I tensorflow/core/framework/local_rendezvous.cc:426] Local rendezvous recv item cancelled. Key hash: 12814437477796408856\n",
      "2025-07-30 21:32:50.364963: I tensorflow/core/framework/local_rendezvous.cc:426] Local rendezvous recv item cancelled. Key hash: 1453179846934580812\n",
      "2025-07-30 21:32:50.364965: I tensorflow/core/framework/local_rendezvous.cc:430] Local rendezvous send item cancelled. Key hash: 12407038042885985381\n",
      "2025-07-30 21:32:50.364967: I tensorflow/core/framework/local_rendezvous.cc:430] Local rendezvous send item cancelled. Key hash: 15893612600084131667\n",
      "2025-07-30 21:34:02.983948: I external/local_xla/xla/stream_executor/cuda/subprocess_compilation.cc:346] ptxas warning : Registers are spilled to local memory in function 'gemm_fusion_dot_28', 348 bytes spill stores, 348 bytes spill loads\n",
      "\n",
      "2025-07-30 21:34:03.466326: I external/local_xla/xla/stream_executor/cuda/subprocess_compilation.cc:346] ptxas warning : Registers are spilled to local memory in function 'gemm_fusion_dot_28', 256 bytes spill stores, 256 bytes spill loads\n",
      "\n",
      "2025-07-30 21:34:03.544261: I external/local_xla/xla/stream_executor/cuda/subprocess_compilation.cc:346] ptxas warning : Registers are spilled to local memory in function 'gemm_fusion_dot_28', 44 bytes spill stores, 44 bytes spill loads\n",
      "\n",
      "2025-07-30 21:34:03.581565: I external/local_xla/xla/stream_executor/cuda/subprocess_compilation.cc:346] ptxas warning : Registers are spilled to local memory in function 'gemm_fusion_dot_28', 216 bytes spill stores, 216 bytes spill loads\n",
      "\n",
      "2025-07-30 21:34:03.912580: I external/local_xla/xla/stream_executor/cuda/subprocess_compilation.cc:346] ptxas warning : Registers are spilled to local memory in function 'gemm_fusion_dot_28', 164 bytes spill stores, 164 bytes spill loads\n",
      "\n",
      "2025-07-30 21:34:03.927673: I external/local_xla/xla/stream_executor/cuda/subprocess_compilation.cc:346] ptxas warning : Registers are spilled to local memory in function 'gemm_fusion_dot_28', 16 bytes spill stores, 16 bytes spill loads\n",
      "\n"
     ]
    },
    {
     "name": "stdout",
     "output_type": "stream",
     "text": [
      "\u001b[1m23860/23860\u001b[0m \u001b[32m━━━━━━━━━━━━━━━━━━━━\u001b[0m\u001b[37m\u001b[0m \u001b[1m1294s\u001b[0m 54ms/step - loss: 0.8043 - sparse_categorical_accuracy: 0.8452 - val_loss: 0.7717 - val_sparse_categorical_accuracy: 0.8483\n",
      "Epoch 3/30\n",
      "\u001b[1m23753/23860\u001b[0m \u001b[32m━━━━━━━━━━━━━━━━━━━\u001b[0m\u001b[37m━\u001b[0m \u001b[1m5s\u001b[0m 51ms/step - loss: 0.7544 - sparse_categorical_accuracy: 0.8504"
     ]
    },
    {
     "name": "stderr",
     "output_type": "stream",
     "text": [
      "2025-07-30 21:54:07.819075: I tensorflow/core/framework/local_rendezvous.cc:426] Local rendezvous recv item cancelled. Key hash: 9791375644313731186\n",
      "2025-07-30 21:54:07.819092: I tensorflow/core/framework/local_rendezvous.cc:430] Local rendezvous send item cancelled. Key hash: 2949710951153607702\n",
      "2025-07-30 21:54:07.819098: I tensorflow/core/framework/local_rendezvous.cc:426] Local rendezvous recv item cancelled. Key hash: 14182270168113043710\n",
      "2025-07-30 21:54:07.819105: I tensorflow/core/framework/local_rendezvous.cc:426] Local rendezvous recv item cancelled. Key hash: 16691385704716065394\n",
      "2025-07-30 21:54:07.819108: I tensorflow/core/framework/local_rendezvous.cc:430] Local rendezvous send item cancelled. Key hash: 15893612600084131667\n",
      "2025-07-30 21:54:07.819124: I tensorflow/core/framework/local_rendezvous.cc:426] Local rendezvous recv item cancelled. Key hash: 2453962834174639252\n",
      "2025-07-30 21:54:07.819129: I tensorflow/core/framework/local_rendezvous.cc:426] Local rendezvous recv item cancelled. Key hash: 12814437477796408856\n",
      "2025-07-30 21:54:07.819132: I tensorflow/core/framework/local_rendezvous.cc:426] Local rendezvous recv item cancelled. Key hash: 1453179846934580812\n"
     ]
    },
    {
     "name": "stdout",
     "output_type": "stream",
     "text": [
      "\u001b[1m23860/23860\u001b[0m \u001b[32m━━━━━━━━━━━━━━━━━━━━\u001b[0m\u001b[37m\u001b[0m \u001b[1m1270s\u001b[0m 53ms/step - loss: 0.7544 - sparse_categorical_accuracy: 0.8504 - val_loss: 0.7527 - val_sparse_categorical_accuracy: 0.8503\n",
      "Epoch 4/30\n",
      "\u001b[1m23753/23860\u001b[0m \u001b[32m━━━━━━━━━━━━━━━━━━━\u001b[0m\u001b[37m━\u001b[0m \u001b[1m5s\u001b[0m 51ms/step - loss: 0.7326 - sparse_categorical_accuracy: 0.8528"
     ]
    },
    {
     "name": "stderr",
     "output_type": "stream",
     "text": [
      "2025-07-30 22:15:18.056697: I tensorflow/core/framework/local_rendezvous.cc:407] Local rendezvous is aborting with status: OUT_OF_RANGE: End of sequence\n",
      "\t [[{{node IteratorGetNext}}]]\n",
      "2025-07-30 22:15:18.056727: I tensorflow/core/framework/local_rendezvous.cc:430] Local rendezvous send item cancelled. Key hash: 12407038042885985381\n",
      "2025-07-30 22:15:18.056732: I tensorflow/core/framework/local_rendezvous.cc:426] Local rendezvous recv item cancelled. Key hash: 9791375644313731186\n",
      "2025-07-30 22:15:18.056746: I tensorflow/core/framework/local_rendezvous.cc:430] Local rendezvous send item cancelled. Key hash: 2949710951153607702\n",
      "2025-07-30 22:15:18.056752: I tensorflow/core/framework/local_rendezvous.cc:430] Local rendezvous send item cancelled. Key hash: 15893612600084131667\n",
      "2025-07-30 22:15:18.056764: I tensorflow/core/framework/local_rendezvous.cc:426] Local rendezvous recv item cancelled. Key hash: 14182270168113043710\n",
      "2025-07-30 22:15:18.056769: I tensorflow/core/framework/local_rendezvous.cc:426] Local rendezvous recv item cancelled. Key hash: 16691385704716065394\n",
      "2025-07-30 22:15:18.056775: I tensorflow/core/framework/local_rendezvous.cc:426] Local rendezvous recv item cancelled. Key hash: 2453962834174639252\n",
      "2025-07-30 22:15:18.056781: I tensorflow/core/framework/local_rendezvous.cc:426] Local rendezvous recv item cancelled. Key hash: 12814437477796408856\n",
      "2025-07-30 22:15:18.056792: I tensorflow/core/framework/local_rendezvous.cc:426] Local rendezvous recv item cancelled. Key hash: 1453179846934580812\n"
     ]
    },
    {
     "name": "stdout",
     "output_type": "stream",
     "text": [
      "\u001b[1m23860/23860\u001b[0m \u001b[32m━━━━━━━━━━━━━━━━━━━━\u001b[0m\u001b[37m\u001b[0m \u001b[1m1270s\u001b[0m 53ms/step - loss: 0.7326 - sparse_categorical_accuracy: 0.8528 - val_loss: 0.7431 - val_sparse_categorical_accuracy: 0.8514\n",
      "Epoch 5/30\n",
      "\u001b[1m23754/23860\u001b[0m \u001b[32m━━━━━━━━━━━━━━━━━━━\u001b[0m\u001b[37m━\u001b[0m \u001b[1m5s\u001b[0m 50ms/step - loss: 0.7198 - sparse_categorical_accuracy: 0.8542"
     ]
    },
    {
     "name": "stderr",
     "output_type": "stream",
     "text": [
      "2025-07-30 22:36:11.842157: I tensorflow/core/framework/local_rendezvous.cc:426] Local rendezvous recv item cancelled. Key hash: 9791375644313731186\n",
      "2025-07-30 22:36:11.842177: I tensorflow/core/framework/local_rendezvous.cc:430] Local rendezvous send item cancelled. Key hash: 2949710951153607702\n",
      "2025-07-30 22:36:11.842184: I tensorflow/core/framework/local_rendezvous.cc:430] Local rendezvous send item cancelled. Key hash: 12407038042885985381\n",
      "2025-07-30 22:36:11.842196: I tensorflow/core/framework/local_rendezvous.cc:430] Local rendezvous send item cancelled. Key hash: 15893612600084131667\n",
      "2025-07-30 22:36:11.842208: I tensorflow/core/framework/local_rendezvous.cc:426] Local rendezvous recv item cancelled. Key hash: 14182270168113043710\n",
      "2025-07-30 22:36:11.842213: I tensorflow/core/framework/local_rendezvous.cc:426] Local rendezvous recv item cancelled. Key hash: 16691385704716065394\n",
      "2025-07-30 22:36:11.842219: I tensorflow/core/framework/local_rendezvous.cc:426] Local rendezvous recv item cancelled. Key hash: 2453962834174639252\n",
      "2025-07-30 22:36:11.842223: I tensorflow/core/framework/local_rendezvous.cc:426] Local rendezvous recv item cancelled. Key hash: 12814437477796408856\n",
      "2025-07-30 22:36:11.842227: I tensorflow/core/framework/local_rendezvous.cc:426] Local rendezvous recv item cancelled. Key hash: 1453179846934580812\n"
     ]
    },
    {
     "name": "stdout",
     "output_type": "stream",
     "text": [
      "\u001b[1m23860/23860\u001b[0m \u001b[32m━━━━━━━━━━━━━━━━━━━━\u001b[0m\u001b[37m\u001b[0m \u001b[1m1253s\u001b[0m 53ms/step - loss: 0.7198 - sparse_categorical_accuracy: 0.8542 - val_loss: 0.7373 - val_sparse_categorical_accuracy: 0.8520\n",
      "Epoch 6/30\n",
      "\u001b[1m23754/23860\u001b[0m \u001b[32m━━━━━━━━━━━━━━━━━━━\u001b[0m\u001b[37m━\u001b[0m \u001b[1m5s\u001b[0m 50ms/step - loss: 0.7112 - sparse_categorical_accuracy: 0.8552"
     ]
    },
    {
     "name": "stderr",
     "output_type": "stream",
     "text": [
      "2025-07-30 22:57:09.591403: I tensorflow/core/framework/local_rendezvous.cc:426] Local rendezvous recv item cancelled. Key hash: 9791375644313731186\n",
      "2025-07-30 22:57:09.591423: I tensorflow/core/framework/local_rendezvous.cc:430] Local rendezvous send item cancelled. Key hash: 2949710951153607702\n",
      "2025-07-30 22:57:09.591427: I tensorflow/core/framework/local_rendezvous.cc:430] Local rendezvous send item cancelled. Key hash: 15893612600084131667\n",
      "2025-07-30 22:57:09.591448: I tensorflow/core/framework/local_rendezvous.cc:426] Local rendezvous recv item cancelled. Key hash: 14182270168113043710\n",
      "2025-07-30 22:57:09.591453: I tensorflow/core/framework/local_rendezvous.cc:426] Local rendezvous recv item cancelled. Key hash: 16691385704716065394\n",
      "2025-07-30 22:57:09.591467: I tensorflow/core/framework/local_rendezvous.cc:426] Local rendezvous recv item cancelled. Key hash: 2453962834174639252\n",
      "2025-07-30 22:57:09.591472: I tensorflow/core/framework/local_rendezvous.cc:426] Local rendezvous recv item cancelled. Key hash: 12814437477796408856\n",
      "2025-07-30 22:57:09.591477: I tensorflow/core/framework/local_rendezvous.cc:426] Local rendezvous recv item cancelled. Key hash: 1453179846934580812\n"
     ]
    },
    {
     "name": "stdout",
     "output_type": "stream",
     "text": [
      "\u001b[1m23860/23860\u001b[0m \u001b[32m━━━━━━━━━━━━━━━━━━━━\u001b[0m\u001b[37m\u001b[0m \u001b[1m1258s\u001b[0m 53ms/step - loss: 0.7112 - sparse_categorical_accuracy: 0.8552 - val_loss: 0.7334 - val_sparse_categorical_accuracy: 0.8524\n",
      "Epoch 7/30\n",
      "\u001b[1m23753/23860\u001b[0m \u001b[32m━━━━━━━━━━━━━━━━━━━\u001b[0m\u001b[37m━\u001b[0m \u001b[1m5s\u001b[0m 50ms/step - loss: 0.7050 - sparse_categorical_accuracy: 0.8558"
     ]
    },
    {
     "name": "stderr",
     "output_type": "stream",
     "text": [
      "2025-07-30 23:17:55.808179: I tensorflow/core/framework/local_rendezvous.cc:426] Local rendezvous recv item cancelled. Key hash: 9791375644313731186\n",
      "2025-07-30 23:17:55.808205: I tensorflow/core/framework/local_rendezvous.cc:430] Local rendezvous send item cancelled. Key hash: 2949710951153607702\n",
      "2025-07-30 23:17:55.808213: I tensorflow/core/framework/local_rendezvous.cc:426] Local rendezvous recv item cancelled. Key hash: 14182270168113043710\n",
      "2025-07-30 23:17:55.808220: I tensorflow/core/framework/local_rendezvous.cc:426] Local rendezvous recv item cancelled. Key hash: 16691385704716065394\n",
      "2025-07-30 23:17:55.808228: I tensorflow/core/framework/local_rendezvous.cc:426] Local rendezvous recv item cancelled. Key hash: 2453962834174639252\n",
      "2025-07-30 23:17:55.808235: I tensorflow/core/framework/local_rendezvous.cc:426] Local rendezvous recv item cancelled. Key hash: 12814437477796408856\n",
      "2025-07-30 23:17:55.808243: I tensorflow/core/framework/local_rendezvous.cc:426] Local rendezvous recv item cancelled. Key hash: 1453179846934580812\n"
     ]
    },
    {
     "name": "stdout",
     "output_type": "stream",
     "text": [
      "\u001b[1m23860/23860\u001b[0m \u001b[32m━━━━━━━━━━━━━━━━━━━━\u001b[0m\u001b[37m\u001b[0m \u001b[1m1246s\u001b[0m 52ms/step - loss: 0.7050 - sparse_categorical_accuracy: 0.8558 - val_loss: 0.7307 - val_sparse_categorical_accuracy: 0.8528\n",
      "Epoch 8/30\n",
      "\u001b[1m23754/23860\u001b[0m \u001b[32m━━━━━━━━━━━━━━━━━━━\u001b[0m\u001b[37m━\u001b[0m \u001b[1m5s\u001b[0m 50ms/step - loss: 0.7003 - sparse_categorical_accuracy: 0.8564"
     ]
    },
    {
     "name": "stderr",
     "output_type": "stream",
     "text": [
      "2025-07-30 23:38:52.761509: I tensorflow/core/framework/local_rendezvous.cc:407] Local rendezvous is aborting with status: OUT_OF_RANGE: End of sequence\n",
      "\t [[{{node IteratorGetNext}}]]\n",
      "2025-07-30 23:38:52.761546: I tensorflow/core/framework/local_rendezvous.cc:426] Local rendezvous recv item cancelled. Key hash: 9791375644313731186\n",
      "2025-07-30 23:38:52.761562: I tensorflow/core/framework/local_rendezvous.cc:430] Local rendezvous send item cancelled. Key hash: 2949710951153607702\n",
      "2025-07-30 23:38:52.761567: I tensorflow/core/framework/local_rendezvous.cc:426] Local rendezvous recv item cancelled. Key hash: 10447539767086211479\n",
      "2025-07-30 23:38:52.761574: I tensorflow/core/framework/local_rendezvous.cc:426] Local rendezvous recv item cancelled. Key hash: 14182270168113043710\n",
      "2025-07-30 23:38:52.761581: I tensorflow/core/framework/local_rendezvous.cc:426] Local rendezvous recv item cancelled. Key hash: 16691385704716065394\n",
      "2025-07-30 23:38:52.761589: I tensorflow/core/framework/local_rendezvous.cc:426] Local rendezvous recv item cancelled. Key hash: 2453962834174639252\n",
      "2025-07-30 23:38:52.761596: I tensorflow/core/framework/local_rendezvous.cc:426] Local rendezvous recv item cancelled. Key hash: 12814437477796408856\n",
      "2025-07-30 23:38:52.761608: I tensorflow/core/framework/local_rendezvous.cc:426] Local rendezvous recv item cancelled. Key hash: 1453179846934580812\n"
     ]
    },
    {
     "name": "stdout",
     "output_type": "stream",
     "text": [
      "\u001b[1m23860/23860\u001b[0m \u001b[32m━━━━━━━━━━━━━━━━━━━━\u001b[0m\u001b[37m\u001b[0m \u001b[1m1257s\u001b[0m 53ms/step - loss: 0.7003 - sparse_categorical_accuracy: 0.8564 - val_loss: 0.7287 - val_sparse_categorical_accuracy: 0.8530\n",
      "Epoch 9/30\n",
      "\u001b[1m23753/23860\u001b[0m \u001b[32m━━━━━━━━━━━━━━━━━━━\u001b[0m\u001b[37m━\u001b[0m \u001b[1m5s\u001b[0m 50ms/step - loss: 0.6966 - sparse_categorical_accuracy: 0.8569"
     ]
    },
    {
     "name": "stderr",
     "output_type": "stream",
     "text": [
      "2025-07-30 23:59:51.070110: I tensorflow/core/framework/local_rendezvous.cc:426] Local rendezvous recv item cancelled. Key hash: 10447539767086211479\n",
      "2025-07-30 23:59:51.070141: I tensorflow/core/framework/local_rendezvous.cc:426] Local rendezvous recv item cancelled. Key hash: 9791375644313731186\n",
      "2025-07-30 23:59:51.070153: I tensorflow/core/framework/local_rendezvous.cc:430] Local rendezvous send item cancelled. Key hash: 2949710951153607702\n",
      "2025-07-30 23:59:51.070160: I tensorflow/core/framework/local_rendezvous.cc:426] Local rendezvous recv item cancelled. Key hash: 14182270168113043710\n",
      "2025-07-30 23:59:51.070164: I tensorflow/core/framework/local_rendezvous.cc:426] Local rendezvous recv item cancelled. Key hash: 16691385704716065394\n",
      "2025-07-30 23:59:51.070169: I tensorflow/core/framework/local_rendezvous.cc:426] Local rendezvous recv item cancelled. Key hash: 2453962834174639252\n",
      "2025-07-30 23:59:51.070174: I tensorflow/core/framework/local_rendezvous.cc:426] Local rendezvous recv item cancelled. Key hash: 12814437477796408856\n",
      "2025-07-30 23:59:51.070178: I tensorflow/core/framework/local_rendezvous.cc:426] Local rendezvous recv item cancelled. Key hash: 1453179846934580812\n"
     ]
    },
    {
     "name": "stdout",
     "output_type": "stream",
     "text": [
      "\u001b[1m23860/23860\u001b[0m \u001b[32m━━━━━━━━━━━━━━━━━━━━\u001b[0m\u001b[37m\u001b[0m \u001b[1m1259s\u001b[0m 53ms/step - loss: 0.6966 - sparse_categorical_accuracy: 0.8569 - val_loss: 0.7271 - val_sparse_categorical_accuracy: 0.8532\n",
      "Epoch 10/30\n",
      "\u001b[1m23753/23860\u001b[0m \u001b[32m━━━━━━━━━━━━━━━━━━━\u001b[0m\u001b[37m━\u001b[0m \u001b[1m5s\u001b[0m 50ms/step - loss: 0.6936 - sparse_categorical_accuracy: 0.8572"
     ]
    },
    {
     "name": "stderr",
     "output_type": "stream",
     "text": [
      "2025-07-31 00:20:48.430056: I tensorflow/core/framework/local_rendezvous.cc:426] Local rendezvous recv item cancelled. Key hash: 9791375644313731186\n",
      "2025-07-31 00:20:48.430080: I tensorflow/core/framework/local_rendezvous.cc:426] Local rendezvous recv item cancelled. Key hash: 16772137993755823710\n",
      "2025-07-31 00:20:48.430085: I tensorflow/core/framework/local_rendezvous.cc:426] Local rendezvous recv item cancelled. Key hash: 10447539767086211479\n",
      "2025-07-31 00:20:48.430103: I tensorflow/core/framework/local_rendezvous.cc:426] Local rendezvous recv item cancelled. Key hash: 14182270168113043710\n",
      "2025-07-31 00:20:48.430109: I tensorflow/core/framework/local_rendezvous.cc:426] Local rendezvous recv item cancelled. Key hash: 16691385704716065394\n",
      "2025-07-31 00:20:48.430114: I tensorflow/core/framework/local_rendezvous.cc:426] Local rendezvous recv item cancelled. Key hash: 2453962834174639252\n",
      "2025-07-31 00:20:48.430118: I tensorflow/core/framework/local_rendezvous.cc:426] Local rendezvous recv item cancelled. Key hash: 12814437477796408856\n",
      "2025-07-31 00:20:48.430122: I tensorflow/core/framework/local_rendezvous.cc:426] Local rendezvous recv item cancelled. Key hash: 1453179846934580812\n"
     ]
    },
    {
     "name": "stdout",
     "output_type": "stream",
     "text": [
      "\u001b[1m23860/23860\u001b[0m \u001b[32m━━━━━━━━━━━━━━━━━━━━\u001b[0m\u001b[37m\u001b[0m \u001b[1m1257s\u001b[0m 53ms/step - loss: 0.6935 - sparse_categorical_accuracy: 0.8572 - val_loss: 0.7259 - val_sparse_categorical_accuracy: 0.8533\n",
      "Epoch 11/30\n",
      "\u001b[1m23753/23860\u001b[0m \u001b[32m━━━━━━━━━━━━━━━━━━━\u001b[0m\u001b[37m━\u001b[0m \u001b[1m5s\u001b[0m 50ms/step - loss: 0.6911 - sparse_categorical_accuracy: 0.8575"
     ]
    },
    {
     "name": "stderr",
     "output_type": "stream",
     "text": [
      "2025-07-31 00:41:38.699660: I tensorflow/core/framework/local_rendezvous.cc:430] Local rendezvous send item cancelled. Key hash: 15893612600084131667\n",
      "2025-07-31 00:41:38.699689: I tensorflow/core/framework/local_rendezvous.cc:426] Local rendezvous recv item cancelled. Key hash: 9791375644313731186\n",
      "2025-07-31 00:41:38.699706: I tensorflow/core/framework/local_rendezvous.cc:430] Local rendezvous send item cancelled. Key hash: 2949710951153607702\n",
      "2025-07-31 00:41:38.699716: I tensorflow/core/framework/local_rendezvous.cc:426] Local rendezvous recv item cancelled. Key hash: 14182270168113043710\n",
      "2025-07-31 00:41:38.699721: I tensorflow/core/framework/local_rendezvous.cc:426] Local rendezvous recv item cancelled. Key hash: 16691385704716065394\n",
      "2025-07-31 00:41:38.699727: I tensorflow/core/framework/local_rendezvous.cc:426] Local rendezvous recv item cancelled. Key hash: 2453962834174639252\n",
      "2025-07-31 00:41:38.699732: I tensorflow/core/framework/local_rendezvous.cc:426] Local rendezvous recv item cancelled. Key hash: 12814437477796408856\n",
      "2025-07-31 00:41:38.699736: I tensorflow/core/framework/local_rendezvous.cc:426] Local rendezvous recv item cancelled. Key hash: 1453179846934580812\n"
     ]
    },
    {
     "name": "stdout",
     "output_type": "stream",
     "text": [
      "\u001b[1m23860/23860\u001b[0m \u001b[32m━━━━━━━━━━━━━━━━━━━━\u001b[0m\u001b[37m\u001b[0m \u001b[1m1249s\u001b[0m 52ms/step - loss: 0.6911 - sparse_categorical_accuracy: 0.8575 - val_loss: 0.7250 - val_sparse_categorical_accuracy: 0.8534\n",
      "Epoch 12/30\n",
      "\u001b[1m23754/23860\u001b[0m \u001b[32m━━━━━━━━━━━━━━━━━━━\u001b[0m\u001b[37m━\u001b[0m \u001b[1m5s\u001b[0m 50ms/step - loss: 0.6890 - sparse_categorical_accuracy: 0.8578"
     ]
    },
    {
     "name": "stderr",
     "output_type": "stream",
     "text": [
      "2025-07-31 01:02:32.840120: I tensorflow/core/framework/local_rendezvous.cc:430] Local rendezvous send item cancelled. Key hash: 12407038042885985381\n",
      "2025-07-31 01:02:32.840148: I tensorflow/core/framework/local_rendezvous.cc:426] Local rendezvous recv item cancelled. Key hash: 14182270168113043710\n",
      "2025-07-31 01:02:32.840163: I tensorflow/core/framework/local_rendezvous.cc:426] Local rendezvous recv item cancelled. Key hash: 16691385704716065394\n",
      "2025-07-31 01:02:32.840171: I tensorflow/core/framework/local_rendezvous.cc:426] Local rendezvous recv item cancelled. Key hash: 2453962834174639252\n",
      "2025-07-31 01:02:32.840174: I tensorflow/core/framework/local_rendezvous.cc:430] Local rendezvous send item cancelled. Key hash: 2949710951153607702\n",
      "2025-07-31 01:02:32.840178: I tensorflow/core/framework/local_rendezvous.cc:426] Local rendezvous recv item cancelled. Key hash: 1453179846934580812\n",
      "2025-07-31 01:02:32.840183: I tensorflow/core/framework/local_rendezvous.cc:426] Local rendezvous recv item cancelled. Key hash: 12814437477796408856\n",
      "2025-07-31 01:02:32.840208: I tensorflow/core/framework/local_rendezvous.cc:430] Local rendezvous send item cancelled. Key hash: 15893612600084131667\n"
     ]
    },
    {
     "name": "stdout",
     "output_type": "stream",
     "text": [
      "\u001b[1m23860/23860\u001b[0m \u001b[32m━━━━━━━━━━━━━━━━━━━━\u001b[0m\u001b[37m\u001b[0m \u001b[1m1254s\u001b[0m 53ms/step - loss: 0.6890 - sparse_categorical_accuracy: 0.8578 - val_loss: 0.7242 - val_sparse_categorical_accuracy: 0.8535\n",
      "Epoch 13/30\n",
      "\u001b[1m23753/23860\u001b[0m \u001b[32m━━━━━━━━━━━━━━━━━━━\u001b[0m\u001b[37m━\u001b[0m \u001b[1m5s\u001b[0m 50ms/step - loss: 0.6872 - sparse_categorical_accuracy: 0.8580"
     ]
    },
    {
     "name": "stderr",
     "output_type": "stream",
     "text": [
      "2025-07-31 01:23:28.989758: I tensorflow/core/framework/local_rendezvous.cc:426] Local rendezvous recv item cancelled. Key hash: 9791375644313731186\n",
      "2025-07-31 01:23:28.989779: I tensorflow/core/framework/local_rendezvous.cc:430] Local rendezvous send item cancelled. Key hash: 2949710951153607702\n",
      "2025-07-31 01:23:28.989786: I tensorflow/core/framework/local_rendezvous.cc:426] Local rendezvous recv item cancelled. Key hash: 14182270168113043710\n",
      "2025-07-31 01:23:28.989795: I tensorflow/core/framework/local_rendezvous.cc:426] Local rendezvous recv item cancelled. Key hash: 16691385704716065394\n",
      "2025-07-31 01:23:28.989799: I tensorflow/core/framework/local_rendezvous.cc:430] Local rendezvous send item cancelled. Key hash: 12407038042885985381\n",
      "2025-07-31 01:23:28.989814: I tensorflow/core/framework/local_rendezvous.cc:430] Local rendezvous send item cancelled. Key hash: 15893612600084131667\n",
      "2025-07-31 01:23:28.989820: I tensorflow/core/framework/local_rendezvous.cc:426] Local rendezvous recv item cancelled. Key hash: 2453962834174639252\n",
      "2025-07-31 01:23:28.989826: I tensorflow/core/framework/local_rendezvous.cc:426] Local rendezvous recv item cancelled. Key hash: 12814437477796408856\n",
      "2025-07-31 01:23:28.989830: I tensorflow/core/framework/local_rendezvous.cc:426] Local rendezvous recv item cancelled. Key hash: 1453179846934580812\n"
     ]
    },
    {
     "name": "stdout",
     "output_type": "stream",
     "text": [
      "\u001b[1m23860/23860\u001b[0m \u001b[32m━━━━━━━━━━━━━━━━━━━━\u001b[0m\u001b[37m\u001b[0m \u001b[1m1257s\u001b[0m 53ms/step - loss: 0.6872 - sparse_categorical_accuracy: 0.8580 - val_loss: 0.7235 - val_sparse_categorical_accuracy: 0.8536\n",
      "Epoch 14/30\n",
      "\u001b[1m23754/23860\u001b[0m \u001b[32m━━━━━━━━━━━━━━━━━━━\u001b[0m\u001b[37m━\u001b[0m \u001b[1m5s\u001b[0m 50ms/step - loss: 0.6856 - sparse_categorical_accuracy: 0.8583"
     ]
    },
    {
     "name": "stderr",
     "output_type": "stream",
     "text": [
      "2025-07-31 01:44:26.240236: I tensorflow/core/framework/local_rendezvous.cc:426] Local rendezvous recv item cancelled. Key hash: 9791375644313731186\n",
      "2025-07-31 01:44:26.240257: I tensorflow/core/framework/local_rendezvous.cc:430] Local rendezvous send item cancelled. Key hash: 2949710951153607702\n",
      "2025-07-31 01:44:26.240265: I tensorflow/core/framework/local_rendezvous.cc:426] Local rendezvous recv item cancelled. Key hash: 14182270168113043710\n",
      "2025-07-31 01:44:26.240274: I tensorflow/core/framework/local_rendezvous.cc:426] Local rendezvous recv item cancelled. Key hash: 16691385704716065394\n",
      "2025-07-31 01:44:26.240282: I tensorflow/core/framework/local_rendezvous.cc:430] Local rendezvous send item cancelled. Key hash: 12407038042885985381\n",
      "2025-07-31 01:44:26.240306: I tensorflow/core/framework/local_rendezvous.cc:430] Local rendezvous send item cancelled. Key hash: 15893612600084131667\n",
      "2025-07-31 01:44:26.240315: I tensorflow/core/framework/local_rendezvous.cc:426] Local rendezvous recv item cancelled. Key hash: 2453962834174639252\n",
      "2025-07-31 01:44:26.240324: I tensorflow/core/framework/local_rendezvous.cc:426] Local rendezvous recv item cancelled. Key hash: 12814437477796408856\n",
      "2025-07-31 01:44:26.240329: I tensorflow/core/framework/local_rendezvous.cc:426] Local rendezvous recv item cancelled. Key hash: 1453179846934580812\n"
     ]
    },
    {
     "name": "stdout",
     "output_type": "stream",
     "text": [
      "\u001b[1m23860/23860\u001b[0m \u001b[32m━━━━━━━━━━━━━━━━━━━━\u001b[0m\u001b[37m\u001b[0m \u001b[1m1256s\u001b[0m 53ms/step - loss: 0.6856 - sparse_categorical_accuracy: 0.8583 - val_loss: 0.7230 - val_sparse_categorical_accuracy: 0.8537\n",
      "Epoch 15/30\n",
      "\u001b[1m23754/23860\u001b[0m \u001b[32m━━━━━━━━━━━━━━━━━━━\u001b[0m\u001b[37m━\u001b[0m \u001b[1m5s\u001b[0m 50ms/step - loss: 0.6842 - sparse_categorical_accuracy: 0.8584"
     ]
    },
    {
     "name": "stderr",
     "output_type": "stream",
     "text": [
      "2025-07-31 02:05:22.505840: I tensorflow/core/framework/local_rendezvous.cc:430] Local rendezvous send item cancelled. Key hash: 12407038042885985381\n",
      "2025-07-31 02:05:22.505867: I tensorflow/core/framework/local_rendezvous.cc:430] Local rendezvous send item cancelled. Key hash: 15893612600084131667\n",
      "2025-07-31 02:05:22.505874: I tensorflow/core/framework/local_rendezvous.cc:426] Local rendezvous recv item cancelled. Key hash: 9791375644313731186\n",
      "2025-07-31 02:05:22.505889: I tensorflow/core/framework/local_rendezvous.cc:430] Local rendezvous send item cancelled. Key hash: 2949710951153607702\n",
      "2025-07-31 02:05:22.505898: I tensorflow/core/framework/local_rendezvous.cc:426] Local rendezvous recv item cancelled. Key hash: 14182270168113043710\n",
      "2025-07-31 02:05:22.505903: I tensorflow/core/framework/local_rendezvous.cc:426] Local rendezvous recv item cancelled. Key hash: 16691385704716065394\n",
      "2025-07-31 02:05:22.505908: I tensorflow/core/framework/local_rendezvous.cc:426] Local rendezvous recv item cancelled. Key hash: 2453962834174639252\n",
      "2025-07-31 02:05:22.505913: I tensorflow/core/framework/local_rendezvous.cc:426] Local rendezvous recv item cancelled. Key hash: 12814437477796408856\n",
      "2025-07-31 02:05:22.505917: I tensorflow/core/framework/local_rendezvous.cc:426] Local rendezvous recv item cancelled. Key hash: 1453179846934580812\n"
     ]
    },
    {
     "name": "stdout",
     "output_type": "stream",
     "text": [
      "\u001b[1m23860/23860\u001b[0m \u001b[32m━━━━━━━━━━━━━━━━━━━━\u001b[0m\u001b[37m\u001b[0m \u001b[1m1257s\u001b[0m 53ms/step - loss: 0.6842 - sparse_categorical_accuracy: 0.8584 - val_loss: 0.7225 - val_sparse_categorical_accuracy: 0.8537\n",
      "Epoch 16/30\n",
      "\u001b[1m23753/23860\u001b[0m \u001b[32m━━━━━━━━━━━━━━━━━━━\u001b[0m\u001b[37m━\u001b[0m \u001b[1m5s\u001b[0m 49ms/step - loss: 0.6830 - sparse_categorical_accuracy: 0.8586"
     ]
    },
    {
     "name": "stderr",
     "output_type": "stream",
     "text": [
      "2025-07-31 02:26:07.280671: I tensorflow/core/framework/local_rendezvous.cc:407] Local rendezvous is aborting with status: OUT_OF_RANGE: End of sequence\n",
      "\t [[{{node IteratorGetNext}}]]\n",
      "2025-07-31 02:26:07.280689: I tensorflow/core/framework/local_rendezvous.cc:430] Local rendezvous send item cancelled. Key hash: 15893612600084131667\n",
      "2025-07-31 02:26:07.280693: I tensorflow/core/framework/local_rendezvous.cc:426] Local rendezvous recv item cancelled. Key hash: 9791375644313731186\n",
      "2025-07-31 02:26:07.280702: I tensorflow/core/framework/local_rendezvous.cc:430] Local rendezvous send item cancelled. Key hash: 2949710951153607702\n",
      "2025-07-31 02:26:07.280708: I tensorflow/core/framework/local_rendezvous.cc:426] Local rendezvous recv item cancelled. Key hash: 14182270168113043710\n",
      "2025-07-31 02:26:07.280713: I tensorflow/core/framework/local_rendezvous.cc:426] Local rendezvous recv item cancelled. Key hash: 16691385704716065394\n",
      "2025-07-31 02:26:07.280717: I tensorflow/core/framework/local_rendezvous.cc:426] Local rendezvous recv item cancelled. Key hash: 2453962834174639252\n",
      "2025-07-31 02:26:07.280722: I tensorflow/core/framework/local_rendezvous.cc:426] Local rendezvous recv item cancelled. Key hash: 12814437477796408856\n",
      "2025-07-31 02:26:07.280731: I tensorflow/core/framework/local_rendezvous.cc:426] Local rendezvous recv item cancelled. Key hash: 1453179846934580812\n"
     ]
    },
    {
     "name": "stdout",
     "output_type": "stream",
     "text": [
      "\u001b[1m23860/23860\u001b[0m \u001b[32m━━━━━━━━━━━━━━━━━━━━\u001b[0m\u001b[37m\u001b[0m \u001b[1m1245s\u001b[0m 52ms/step - loss: 0.6830 - sparse_categorical_accuracy: 0.8586 - val_loss: 0.7221 - val_sparse_categorical_accuracy: 0.8538\n",
      "Epoch 17/30\n",
      "\u001b[1m23753/23860\u001b[0m \u001b[32m━━━━━━━━━━━━━━━━━━━\u001b[0m\u001b[37m━\u001b[0m \u001b[1m5s\u001b[0m 49ms/step - loss: 0.6820 - sparse_categorical_accuracy: 0.8587"
     ]
    },
    {
     "name": "stderr",
     "output_type": "stream",
     "text": [
      "2025-07-31 02:46:43.907202: I tensorflow/core/framework/local_rendezvous.cc:426] Local rendezvous recv item cancelled. Key hash: 9791375644313731186\n",
      "2025-07-31 02:46:43.907223: I tensorflow/core/framework/local_rendezvous.cc:430] Local rendezvous send item cancelled. Key hash: 2949710951153607702\n",
      "2025-07-31 02:46:43.907230: I tensorflow/core/framework/local_rendezvous.cc:426] Local rendezvous recv item cancelled. Key hash: 10447539767086211479\n",
      "2025-07-31 02:46:43.907249: I tensorflow/core/framework/local_rendezvous.cc:426] Local rendezvous recv item cancelled. Key hash: 14182270168113043710\n",
      "2025-07-31 02:46:43.907255: I tensorflow/core/framework/local_rendezvous.cc:426] Local rendezvous recv item cancelled. Key hash: 16691385704716065394\n",
      "2025-07-31 02:46:43.907260: I tensorflow/core/framework/local_rendezvous.cc:426] Local rendezvous recv item cancelled. Key hash: 2453962834174639252\n",
      "2025-07-31 02:46:43.907264: I tensorflow/core/framework/local_rendezvous.cc:426] Local rendezvous recv item cancelled. Key hash: 12814437477796408856\n",
      "2025-07-31 02:46:43.907268: I tensorflow/core/framework/local_rendezvous.cc:426] Local rendezvous recv item cancelled. Key hash: 1453179846934580812\n"
     ]
    },
    {
     "name": "stdout",
     "output_type": "stream",
     "text": [
      "\u001b[1m23860/23860\u001b[0m \u001b[32m━━━━━━━━━━━━━━━━━━━━\u001b[0m\u001b[37m\u001b[0m \u001b[1m1237s\u001b[0m 52ms/step - loss: 0.6820 - sparse_categorical_accuracy: 0.8587 - val_loss: 0.7217 - val_sparse_categorical_accuracy: 0.8539\n",
      "Epoch 18/30\n",
      "\u001b[1m23753/23860\u001b[0m \u001b[32m━━━━━━━━━━━━━━━━━━━\u001b[0m\u001b[37m━\u001b[0m \u001b[1m5s\u001b[0m 50ms/step - loss: 0.6810 - sparse_categorical_accuracy: 0.8588"
     ]
    },
    {
     "name": "stderr",
     "output_type": "stream",
     "text": [
      "2025-07-31 03:07:41.341574: I tensorflow/core/framework/local_rendezvous.cc:426] Local rendezvous recv item cancelled. Key hash: 9791375644313731186\n",
      "2025-07-31 03:07:41.341596: I tensorflow/core/framework/local_rendezvous.cc:430] Local rendezvous send item cancelled. Key hash: 2949710951153607702\n",
      "2025-07-31 03:07:41.341603: I tensorflow/core/framework/local_rendezvous.cc:430] Local rendezvous send item cancelled. Key hash: 15893612600084131667\n",
      "2025-07-31 03:07:41.341622: I tensorflow/core/framework/local_rendezvous.cc:426] Local rendezvous recv item cancelled. Key hash: 14182270168113043710\n",
      "2025-07-31 03:07:41.341630: I tensorflow/core/framework/local_rendezvous.cc:426] Local rendezvous recv item cancelled. Key hash: 16691385704716065394\n",
      "2025-07-31 03:07:41.341637: I tensorflow/core/framework/local_rendezvous.cc:426] Local rendezvous recv item cancelled. Key hash: 2453962834174639252\n",
      "2025-07-31 03:07:41.341643: I tensorflow/core/framework/local_rendezvous.cc:426] Local rendezvous recv item cancelled. Key hash: 12814437477796408856\n",
      "2025-07-31 03:07:41.341648: I tensorflow/core/framework/local_rendezvous.cc:426] Local rendezvous recv item cancelled. Key hash: 1453179846934580812\n"
     ]
    },
    {
     "name": "stdout",
     "output_type": "stream",
     "text": [
      "\u001b[1m23860/23860\u001b[0m \u001b[32m━━━━━━━━━━━━━━━━━━━━\u001b[0m\u001b[37m\u001b[0m \u001b[1m1256s\u001b[0m 53ms/step - loss: 0.6810 - sparse_categorical_accuracy: 0.8588 - val_loss: 0.7214 - val_sparse_categorical_accuracy: 0.8539\n",
      "Epoch 19/30\n",
      "\u001b[1m23753/23860\u001b[0m \u001b[32m━━━━━━━━━━━━━━━━━━━\u001b[0m\u001b[37m━\u001b[0m \u001b[1m5s\u001b[0m 50ms/step - loss: 0.6802 - sparse_categorical_accuracy: 0.8589"
     ]
    },
    {
     "name": "stderr",
     "output_type": "stream",
     "text": [
      "2025-07-31 03:28:37.302358: I tensorflow/core/framework/local_rendezvous.cc:426] Local rendezvous recv item cancelled. Key hash: 9791375644313731186\n",
      "2025-07-31 03:28:37.302378: I tensorflow/core/framework/local_rendezvous.cc:430] Local rendezvous send item cancelled. Key hash: 2949710951153607702\n",
      "2025-07-31 03:28:37.302382: I tensorflow/core/framework/local_rendezvous.cc:426] Local rendezvous recv item cancelled. Key hash: 14182270168113043710\n",
      "2025-07-31 03:28:37.302385: I tensorflow/core/framework/local_rendezvous.cc:430] Local rendezvous send item cancelled. Key hash: 12407038042885985381\n",
      "2025-07-31 03:28:37.302399: I tensorflow/core/framework/local_rendezvous.cc:430] Local rendezvous send item cancelled. Key hash: 15893612600084131667\n",
      "2025-07-31 03:28:37.302401: I tensorflow/core/framework/local_rendezvous.cc:426] Local rendezvous recv item cancelled. Key hash: 16691385704716065394\n",
      "2025-07-31 03:28:37.302407: I tensorflow/core/framework/local_rendezvous.cc:426] Local rendezvous recv item cancelled. Key hash: 2453962834174639252\n",
      "2025-07-31 03:28:37.302411: I tensorflow/core/framework/local_rendezvous.cc:426] Local rendezvous recv item cancelled. Key hash: 12814437477796408856\n",
      "2025-07-31 03:28:37.302415: I tensorflow/core/framework/local_rendezvous.cc:426] Local rendezvous recv item cancelled. Key hash: 1453179846934580812\n"
     ]
    },
    {
     "name": "stdout",
     "output_type": "stream",
     "text": [
      "\u001b[1m23860/23860\u001b[0m \u001b[32m━━━━━━━━━━━━━━━━━━━━\u001b[0m\u001b[37m\u001b[0m \u001b[1m1257s\u001b[0m 53ms/step - loss: 0.6802 - sparse_categorical_accuracy: 0.8589 - val_loss: 0.7211 - val_sparse_categorical_accuracy: 0.8539\n",
      "Epoch 20/30\n",
      "\u001b[1m23753/23860\u001b[0m \u001b[32m━━━━━━━━━━━━━━━━━━━\u001b[0m\u001b[37m━\u001b[0m \u001b[1m5s\u001b[0m 50ms/step - loss: 0.6794 - sparse_categorical_accuracy: 0.8590"
     ]
    },
    {
     "name": "stderr",
     "output_type": "stream",
     "text": [
      "2025-07-31 03:49:34.684215: I tensorflow/core/framework/local_rendezvous.cc:426] Local rendezvous recv item cancelled. Key hash: 9791375644313731186\n",
      "2025-07-31 03:49:34.684237: I tensorflow/core/framework/local_rendezvous.cc:430] Local rendezvous send item cancelled. Key hash: 2949710951153607702\n",
      "2025-07-31 03:49:34.684243: I tensorflow/core/framework/local_rendezvous.cc:426] Local rendezvous recv item cancelled. Key hash: 14182270168113043710\n",
      "2025-07-31 03:49:34.684247: I tensorflow/core/framework/local_rendezvous.cc:426] Local rendezvous recv item cancelled. Key hash: 10447539767086211479\n",
      "2025-07-31 03:49:34.684265: I tensorflow/core/framework/local_rendezvous.cc:426] Local rendezvous recv item cancelled. Key hash: 16691385704716065394\n",
      "2025-07-31 03:49:34.684271: I tensorflow/core/framework/local_rendezvous.cc:426] Local rendezvous recv item cancelled. Key hash: 2453962834174639252\n",
      "2025-07-31 03:49:34.684275: I tensorflow/core/framework/local_rendezvous.cc:426] Local rendezvous recv item cancelled. Key hash: 12814437477796408856\n",
      "2025-07-31 03:49:34.684279: I tensorflow/core/framework/local_rendezvous.cc:426] Local rendezvous recv item cancelled. Key hash: 1453179846934580812\n"
     ]
    },
    {
     "name": "stdout",
     "output_type": "stream",
     "text": [
      "\u001b[1m23860/23860\u001b[0m \u001b[32m━━━━━━━━━━━━━━━━━━━━\u001b[0m\u001b[37m\u001b[0m \u001b[1m1257s\u001b[0m 53ms/step - loss: 0.6794 - sparse_categorical_accuracy: 0.8590 - val_loss: 0.7208 - val_sparse_categorical_accuracy: 0.8540\n",
      "Epoch 21/30\n",
      "\u001b[1m23753/23860\u001b[0m \u001b[32m━━━━━━━━━━━━━━━━━━━\u001b[0m\u001b[37m━\u001b[0m \u001b[1m5s\u001b[0m 50ms/step - loss: 0.6786 - sparse_categorical_accuracy: 0.8591"
     ]
    },
    {
     "name": "stderr",
     "output_type": "stream",
     "text": [
      "2025-07-31 04:10:31.192109: I tensorflow/core/framework/local_rendezvous.cc:426] Local rendezvous recv item cancelled. Key hash: 9791375644313731186\n",
      "2025-07-31 04:10:31.192137: I tensorflow/core/framework/local_rendezvous.cc:430] Local rendezvous send item cancelled. Key hash: 2949710951153607702\n",
      "2025-07-31 04:10:31.192144: I tensorflow/core/framework/local_rendezvous.cc:430] Local rendezvous send item cancelled. Key hash: 12407038042885985381\n",
      "2025-07-31 04:10:31.192150: I tensorflow/core/framework/local_rendezvous.cc:426] Local rendezvous recv item cancelled. Key hash: 14182270168113043710\n",
      "2025-07-31 04:10:31.192153: I tensorflow/core/framework/local_rendezvous.cc:430] Local rendezvous send item cancelled. Key hash: 15893612600084131667\n",
      "2025-07-31 04:10:31.192157: I tensorflow/core/framework/local_rendezvous.cc:426] Local rendezvous recv item cancelled. Key hash: 16691385704716065394\n",
      "2025-07-31 04:10:31.192165: I tensorflow/core/framework/local_rendezvous.cc:426] Local rendezvous recv item cancelled. Key hash: 2453962834174639252\n",
      "2025-07-31 04:10:31.192173: I tensorflow/core/framework/local_rendezvous.cc:426] Local rendezvous recv item cancelled. Key hash: 12814437477796408856\n",
      "2025-07-31 04:10:31.192180: I tensorflow/core/framework/local_rendezvous.cc:426] Local rendezvous recv item cancelled. Key hash: 1453179846934580812\n"
     ]
    },
    {
     "name": "stdout",
     "output_type": "stream",
     "text": [
      "\u001b[1m23860/23860\u001b[0m \u001b[32m━━━━━━━━━━━━━━━━━━━━\u001b[0m\u001b[37m\u001b[0m \u001b[1m1255s\u001b[0m 53ms/step - loss: 0.6786 - sparse_categorical_accuracy: 0.8591 - val_loss: 0.7206 - val_sparse_categorical_accuracy: 0.8540\n",
      "Epoch 22/30\n",
      "\u001b[1m23753/23860\u001b[0m \u001b[32m━━━━━━━━━━━━━━━━━━━\u001b[0m\u001b[37m━\u001b[0m \u001b[1m5s\u001b[0m 49ms/step - loss: 0.6780 - sparse_categorical_accuracy: 0.8592"
     ]
    },
    {
     "name": "stderr",
     "output_type": "stream",
     "text": [
      "2025-07-31 04:31:03.804577: I tensorflow/core/framework/local_rendezvous.cc:426] Local rendezvous recv item cancelled. Key hash: 9791375644313731186\n",
      "2025-07-31 04:31:03.804596: I tensorflow/core/framework/local_rendezvous.cc:430] Local rendezvous send item cancelled. Key hash: 2949710951153607702\n",
      "2025-07-31 04:31:03.804601: I tensorflow/core/framework/local_rendezvous.cc:426] Local rendezvous recv item cancelled. Key hash: 10447539767086211479\n",
      "2025-07-31 04:31:03.804621: I tensorflow/core/framework/local_rendezvous.cc:426] Local rendezvous recv item cancelled. Key hash: 14182270168113043710\n",
      "2025-07-31 04:31:03.804627: I tensorflow/core/framework/local_rendezvous.cc:426] Local rendezvous recv item cancelled. Key hash: 16691385704716065394\n",
      "2025-07-31 04:31:03.804631: I tensorflow/core/framework/local_rendezvous.cc:426] Local rendezvous recv item cancelled. Key hash: 2453962834174639252\n",
      "2025-07-31 04:31:03.804635: I tensorflow/core/framework/local_rendezvous.cc:426] Local rendezvous recv item cancelled. Key hash: 12814437477796408856\n",
      "2025-07-31 04:31:03.804639: I tensorflow/core/framework/local_rendezvous.cc:426] Local rendezvous recv item cancelled. Key hash: 1453179846934580812\n"
     ]
    },
    {
     "name": "stdout",
     "output_type": "stream",
     "text": [
      "\u001b[1m23860/23860\u001b[0m \u001b[32m━━━━━━━━━━━━━━━━━━━━\u001b[0m\u001b[37m\u001b[0m \u001b[1m1234s\u001b[0m 52ms/step - loss: 0.6780 - sparse_categorical_accuracy: 0.8592 - val_loss: 0.7203 - val_sparse_categorical_accuracy: 0.8540\n",
      "Epoch 23/30\n",
      "\u001b[1m23753/23860\u001b[0m \u001b[32m━━━━━━━━━━━━━━━━━━━\u001b[0m\u001b[37m━\u001b[0m \u001b[1m5s\u001b[0m 50ms/step - loss: 0.6774 - sparse_categorical_accuracy: 0.8593"
     ]
    },
    {
     "name": "stderr",
     "output_type": "stream",
     "text": [
      "2025-07-31 04:51:58.611695: I tensorflow/core/framework/local_rendezvous.cc:426] Local rendezvous recv item cancelled. Key hash: 10447539767086211479\n",
      "2025-07-31 04:51:58.611722: I tensorflow/core/framework/local_rendezvous.cc:426] Local rendezvous recv item cancelled. Key hash: 9791375644313731186\n",
      "2025-07-31 04:51:58.611733: I tensorflow/core/framework/local_rendezvous.cc:430] Local rendezvous send item cancelled. Key hash: 2949710951153607702\n",
      "2025-07-31 04:51:58.611740: I tensorflow/core/framework/local_rendezvous.cc:426] Local rendezvous recv item cancelled. Key hash: 14182270168113043710\n",
      "2025-07-31 04:51:58.611744: I tensorflow/core/framework/local_rendezvous.cc:426] Local rendezvous recv item cancelled. Key hash: 16691385704716065394\n",
      "2025-07-31 04:51:58.611749: I tensorflow/core/framework/local_rendezvous.cc:426] Local rendezvous recv item cancelled. Key hash: 2453962834174639252\n",
      "2025-07-31 04:51:58.611753: I tensorflow/core/framework/local_rendezvous.cc:426] Local rendezvous recv item cancelled. Key hash: 12814437477796408856\n",
      "2025-07-31 04:51:58.611757: I tensorflow/core/framework/local_rendezvous.cc:426] Local rendezvous recv item cancelled. Key hash: 1453179846934580812\n"
     ]
    },
    {
     "name": "stdout",
     "output_type": "stream",
     "text": [
      "\u001b[1m23860/23860\u001b[0m \u001b[32m━━━━━━━━━━━━━━━━━━━━\u001b[0m\u001b[37m\u001b[0m \u001b[1m1255s\u001b[0m 53ms/step - loss: 0.6774 - sparse_categorical_accuracy: 0.8593 - val_loss: 0.7201 - val_sparse_categorical_accuracy: 0.8540\n",
      "Epoch 24/30\n",
      "\u001b[1m23753/23860\u001b[0m \u001b[32m━━━━━━━━━━━━━━━━━━━\u001b[0m\u001b[37m━\u001b[0m \u001b[1m5s\u001b[0m 50ms/step - loss: 0.6768 - sparse_categorical_accuracy: 0.8593"
     ]
    },
    {
     "name": "stderr",
     "output_type": "stream",
     "text": [
      "2025-07-31 05:12:54.894579: I tensorflow/core/framework/local_rendezvous.cc:426] Local rendezvous recv item cancelled. Key hash: 9791375644313731186\n",
      "2025-07-31 05:12:54.894615: I tensorflow/core/framework/local_rendezvous.cc:430] Local rendezvous send item cancelled. Key hash: 2949710951153607702\n",
      "2025-07-31 05:12:54.894621: I tensorflow/core/framework/local_rendezvous.cc:430] Local rendezvous send item cancelled. Key hash: 12407038042885985381\n",
      "2025-07-31 05:12:54.894639: I tensorflow/core/framework/local_rendezvous.cc:430] Local rendezvous send item cancelled. Key hash: 15893612600084131667\n",
      "2025-07-31 05:12:54.894652: I tensorflow/core/framework/local_rendezvous.cc:426] Local rendezvous recv item cancelled. Key hash: 14182270168113043710\n",
      "2025-07-31 05:12:54.894660: I tensorflow/core/framework/local_rendezvous.cc:426] Local rendezvous recv item cancelled. Key hash: 16691385704716065394\n",
      "2025-07-31 05:12:54.894668: I tensorflow/core/framework/local_rendezvous.cc:426] Local rendezvous recv item cancelled. Key hash: 2453962834174639252\n",
      "2025-07-31 05:12:54.894675: I tensorflow/core/framework/local_rendezvous.cc:426] Local rendezvous recv item cancelled. Key hash: 12814437477796408856\n",
      "2025-07-31 05:12:54.894681: I tensorflow/core/framework/local_rendezvous.cc:426] Local rendezvous recv item cancelled. Key hash: 1453179846934580812\n"
     ]
    },
    {
     "name": "stdout",
     "output_type": "stream",
     "text": [
      "\u001b[1m23860/23860\u001b[0m \u001b[32m━━━━━━━━━━━━━━━━━━━━\u001b[0m\u001b[37m\u001b[0m \u001b[1m1255s\u001b[0m 53ms/step - loss: 0.6768 - sparse_categorical_accuracy: 0.8593 - val_loss: 0.7199 - val_sparse_categorical_accuracy: 0.8541\n",
      "Epoch 25/30\n",
      "\u001b[1m23753/23860\u001b[0m \u001b[32m━━━━━━━━━━━━━━━━━━━\u001b[0m\u001b[37m━\u001b[0m \u001b[1m5s\u001b[0m 50ms/step - loss: 0.6763 - sparse_categorical_accuracy: 0.8594"
     ]
    },
    {
     "name": "stderr",
     "output_type": "stream",
     "text": [
      "2025-07-31 05:33:50.409961: I tensorflow/core/framework/local_rendezvous.cc:426] Local rendezvous recv item cancelled. Key hash: 9791375644313731186\n",
      "2025-07-31 05:33:50.409979: I tensorflow/core/framework/local_rendezvous.cc:430] Local rendezvous send item cancelled. Key hash: 2949710951153607702\n",
      "2025-07-31 05:33:50.409985: I tensorflow/core/framework/local_rendezvous.cc:426] Local rendezvous recv item cancelled. Key hash: 14182270168113043710\n",
      "2025-07-31 05:33:50.409989: I tensorflow/core/framework/local_rendezvous.cc:426] Local rendezvous recv item cancelled. Key hash: 16691385704716065394\n",
      "2025-07-31 05:33:50.409994: I tensorflow/core/framework/local_rendezvous.cc:426] Local rendezvous recv item cancelled. Key hash: 2453962834174639252\n",
      "2025-07-31 05:33:50.409998: I tensorflow/core/framework/local_rendezvous.cc:426] Local rendezvous recv item cancelled. Key hash: 12814437477796408856\n",
      "2025-07-31 05:33:50.410001: I tensorflow/core/framework/local_rendezvous.cc:426] Local rendezvous recv item cancelled. Key hash: 1453179846934580812\n"
     ]
    },
    {
     "name": "stdout",
     "output_type": "stream",
     "text": [
      "\u001b[1m23860/23860\u001b[0m \u001b[32m━━━━━━━━━━━━━━━━━━━━\u001b[0m\u001b[37m\u001b[0m \u001b[1m1256s\u001b[0m 53ms/step - loss: 0.6763 - sparse_categorical_accuracy: 0.8594 - val_loss: 0.7197 - val_sparse_categorical_accuracy: 0.8541\n",
      "Epoch 26/30\n",
      "\u001b[1m23754/23860\u001b[0m \u001b[32m━━━━━━━━━━━━━━━━━━━\u001b[0m\u001b[37m━\u001b[0m \u001b[1m5s\u001b[0m 50ms/step - loss: 0.6758 - sparse_categorical_accuracy: 0.8595"
     ]
    },
    {
     "name": "stderr",
     "output_type": "stream",
     "text": [
      "2025-07-31 05:54:47.326022: I tensorflow/core/framework/local_rendezvous.cc:426] Local rendezvous recv item cancelled. Key hash: 10447539767086211479\n",
      "2025-07-31 05:54:47.326055: I tensorflow/core/framework/local_rendezvous.cc:426] Local rendezvous recv item cancelled. Key hash: 9791375644313731186\n",
      "2025-07-31 05:54:47.326064: I tensorflow/core/framework/local_rendezvous.cc:430] Local rendezvous send item cancelled. Key hash: 2949710951153607702\n",
      "2025-07-31 05:54:47.326073: I tensorflow/core/framework/local_rendezvous.cc:426] Local rendezvous recv item cancelled. Key hash: 14182270168113043710\n",
      "2025-07-31 05:54:47.326079: I tensorflow/core/framework/local_rendezvous.cc:426] Local rendezvous recv item cancelled. Key hash: 16691385704716065394\n",
      "2025-07-31 05:54:47.326086: I tensorflow/core/framework/local_rendezvous.cc:426] Local rendezvous recv item cancelled. Key hash: 2453962834174639252\n",
      "2025-07-31 05:54:47.326093: I tensorflow/core/framework/local_rendezvous.cc:426] Local rendezvous recv item cancelled. Key hash: 12814437477796408856\n",
      "2025-07-31 05:54:47.326100: I tensorflow/core/framework/local_rendezvous.cc:426] Local rendezvous recv item cancelled. Key hash: 1453179846934580812\n"
     ]
    },
    {
     "name": "stdout",
     "output_type": "stream",
     "text": [
      "\u001b[1m23860/23860\u001b[0m \u001b[32m━━━━━━━━━━━━━━━━━━━━\u001b[0m\u001b[37m\u001b[0m \u001b[1m1257s\u001b[0m 53ms/step - loss: 0.6758 - sparse_categorical_accuracy: 0.8595 - val_loss: 0.7195 - val_sparse_categorical_accuracy: 0.8541\n",
      "Epoch 27/30\n",
      "\u001b[1m23753/23860\u001b[0m \u001b[32m━━━━━━━━━━━━━━━━━━━\u001b[0m\u001b[37m━\u001b[0m \u001b[1m5s\u001b[0m 50ms/step - loss: 0.6753 - sparse_categorical_accuracy: 0.8595"
     ]
    },
    {
     "name": "stderr",
     "output_type": "stream",
     "text": [
      "2025-07-31 06:15:44.447476: I tensorflow/core/framework/local_rendezvous.cc:426] Local rendezvous recv item cancelled. Key hash: 9791375644313731186\n",
      "2025-07-31 06:15:44.447502: I tensorflow/core/framework/local_rendezvous.cc:430] Local rendezvous send item cancelled. Key hash: 2949710951153607702\n",
      "2025-07-31 06:15:44.447506: I tensorflow/core/framework/local_rendezvous.cc:430] Local rendezvous send item cancelled. Key hash: 12407038042885985381\n",
      "2025-07-31 06:15:44.447520: I tensorflow/core/framework/local_rendezvous.cc:430] Local rendezvous send item cancelled. Key hash: 15893612600084131667\n",
      "2025-07-31 06:15:44.447526: I tensorflow/core/framework/local_rendezvous.cc:426] Local rendezvous recv item cancelled. Key hash: 14182270168113043710\n",
      "2025-07-31 06:15:44.447532: I tensorflow/core/framework/local_rendezvous.cc:426] Local rendezvous recv item cancelled. Key hash: 16691385704716065394\n",
      "2025-07-31 06:15:44.447537: I tensorflow/core/framework/local_rendezvous.cc:426] Local rendezvous recv item cancelled. Key hash: 2453962834174639252\n",
      "2025-07-31 06:15:44.447540: I tensorflow/core/framework/local_rendezvous.cc:426] Local rendezvous recv item cancelled. Key hash: 1453179846934580812\n",
      "2025-07-31 06:15:44.447544: I tensorflow/core/framework/local_rendezvous.cc:426] Local rendezvous recv item cancelled. Key hash: 12814437477796408856\n"
     ]
    },
    {
     "name": "stdout",
     "output_type": "stream",
     "text": [
      "\u001b[1m23860/23860\u001b[0m \u001b[32m━━━━━━━━━━━━━━━━━━━━\u001b[0m\u001b[37m\u001b[0m \u001b[1m1256s\u001b[0m 53ms/step - loss: 0.6753 - sparse_categorical_accuracy: 0.8595 - val_loss: 0.7194 - val_sparse_categorical_accuracy: 0.8542\n",
      "Epoch 28/30\n",
      "\u001b[1m23753/23860\u001b[0m \u001b[32m━━━━━━━━━━━━━━━━━━━\u001b[0m\u001b[37m━\u001b[0m \u001b[1m5s\u001b[0m 49ms/step - loss: 0.6749 - sparse_categorical_accuracy: 0.8596"
     ]
    },
    {
     "name": "stderr",
     "output_type": "stream",
     "text": [
      "2025-07-31 06:36:15.688092: I tensorflow/core/framework/local_rendezvous.cc:426] Local rendezvous recv item cancelled. Key hash: 9791375644313731186\n",
      "2025-07-31 06:36:15.688111: I tensorflow/core/framework/local_rendezvous.cc:430] Local rendezvous send item cancelled. Key hash: 2949710951153607702\n",
      "2025-07-31 06:36:15.688117: I tensorflow/core/framework/local_rendezvous.cc:426] Local rendezvous recv item cancelled. Key hash: 14182270168113043710\n",
      "2025-07-31 06:36:15.688121: I tensorflow/core/framework/local_rendezvous.cc:426] Local rendezvous recv item cancelled. Key hash: 16691385704716065394\n",
      "2025-07-31 06:36:15.688126: I tensorflow/core/framework/local_rendezvous.cc:426] Local rendezvous recv item cancelled. Key hash: 2453962834174639252\n",
      "2025-07-31 06:36:15.688130: I tensorflow/core/framework/local_rendezvous.cc:426] Local rendezvous recv item cancelled. Key hash: 12814437477796408856\n",
      "2025-07-31 06:36:15.688134: I tensorflow/core/framework/local_rendezvous.cc:426] Local rendezvous recv item cancelled. Key hash: 1453179846934580812\n"
     ]
    },
    {
     "name": "stdout",
     "output_type": "stream",
     "text": [
      "\u001b[1m23860/23860\u001b[0m \u001b[32m━━━━━━━━━━━━━━━━━━━━\u001b[0m\u001b[37m\u001b[0m \u001b[1m1232s\u001b[0m 52ms/step - loss: 0.6749 - sparse_categorical_accuracy: 0.8596 - val_loss: 0.7192 - val_sparse_categorical_accuracy: 0.8542\n",
      "Epoch 29/30\n",
      "\u001b[1m23754/23860\u001b[0m \u001b[32m━━━━━━━━━━━━━━━━━━━\u001b[0m\u001b[37m━\u001b[0m \u001b[1m5s\u001b[0m 50ms/step - loss: 0.6745 - sparse_categorical_accuracy: 0.8597"
     ]
    },
    {
     "name": "stderr",
     "output_type": "stream",
     "text": [
      "2025-07-31 06:57:09.437345: I tensorflow/core/framework/local_rendezvous.cc:430] Local rendezvous send item cancelled. Key hash: 12407038042885985381\n",
      "2025-07-31 06:57:09.437374: I tensorflow/core/framework/local_rendezvous.cc:430] Local rendezvous send item cancelled. Key hash: 15893612600084131667\n",
      "2025-07-31 06:57:09.437390: I tensorflow/core/framework/local_rendezvous.cc:426] Local rendezvous recv item cancelled. Key hash: 9791375644313731186\n",
      "2025-07-31 06:57:09.437408: I tensorflow/core/framework/local_rendezvous.cc:430] Local rendezvous send item cancelled. Key hash: 2949710951153607702\n",
      "2025-07-31 06:57:09.437419: I tensorflow/core/framework/local_rendezvous.cc:426] Local rendezvous recv item cancelled. Key hash: 14182270168113043710\n",
      "2025-07-31 06:57:09.437425: I tensorflow/core/framework/local_rendezvous.cc:426] Local rendezvous recv item cancelled. Key hash: 16691385704716065394\n",
      "2025-07-31 06:57:09.437431: I tensorflow/core/framework/local_rendezvous.cc:426] Local rendezvous recv item cancelled. Key hash: 2453962834174639252\n",
      "2025-07-31 06:57:09.437436: I tensorflow/core/framework/local_rendezvous.cc:426] Local rendezvous recv item cancelled. Key hash: 12814437477796408856\n",
      "2025-07-31 06:57:09.437441: I tensorflow/core/framework/local_rendezvous.cc:426] Local rendezvous recv item cancelled. Key hash: 1453179846934580812\n"
     ]
    },
    {
     "name": "stdout",
     "output_type": "stream",
     "text": [
      "\u001b[1m23860/23860\u001b[0m \u001b[32m━━━━━━━━━━━━━━━━━━━━\u001b[0m\u001b[37m\u001b[0m \u001b[1m1254s\u001b[0m 53ms/step - loss: 0.6745 - sparse_categorical_accuracy: 0.8597 - val_loss: 0.7191 - val_sparse_categorical_accuracy: 0.8542\n",
      "Epoch 30/30\n",
      "\u001b[1m23753/23860\u001b[0m \u001b[32m━━━━━━━━━━━━━━━━━━━\u001b[0m\u001b[37m━\u001b[0m \u001b[1m5s\u001b[0m 50ms/step - loss: 0.6741 - sparse_categorical_accuracy: 0.8597"
     ]
    },
    {
     "name": "stderr",
     "output_type": "stream",
     "text": [
      "2025-07-31 07:18:05.071337: I tensorflow/core/framework/local_rendezvous.cc:430] Local rendezvous send item cancelled. Key hash: 15893612600084131667\n",
      "2025-07-31 07:18:05.071365: I tensorflow/core/framework/local_rendezvous.cc:426] Local rendezvous recv item cancelled. Key hash: 9791375644313731186\n",
      "2025-07-31 07:18:05.071378: I tensorflow/core/framework/local_rendezvous.cc:430] Local rendezvous send item cancelled. Key hash: 2949710951153607702\n",
      "2025-07-31 07:18:05.071388: I tensorflow/core/framework/local_rendezvous.cc:426] Local rendezvous recv item cancelled. Key hash: 14182270168113043710\n",
      "2025-07-31 07:18:05.071395: I tensorflow/core/framework/local_rendezvous.cc:426] Local rendezvous recv item cancelled. Key hash: 16691385704716065394\n",
      "2025-07-31 07:18:05.071402: I tensorflow/core/framework/local_rendezvous.cc:426] Local rendezvous recv item cancelled. Key hash: 2453962834174639252\n",
      "2025-07-31 07:18:05.071409: I tensorflow/core/framework/local_rendezvous.cc:426] Local rendezvous recv item cancelled. Key hash: 12814437477796408856\n",
      "2025-07-31 07:18:05.071416: I tensorflow/core/framework/local_rendezvous.cc:426] Local rendezvous recv item cancelled. Key hash: 1453179846934580812\n"
     ]
    },
    {
     "name": "stdout",
     "output_type": "stream",
     "text": [
      "\u001b[1m23860/23860\u001b[0m \u001b[32m━━━━━━━━━━━━━━━━━━━━\u001b[0m\u001b[37m\u001b[0m \u001b[1m1256s\u001b[0m 53ms/step - loss: 0.6741 - sparse_categorical_accuracy: 0.8597 - val_loss: 0.7190 - val_sparse_categorical_accuracy: 0.8542\n"
     ]
    },
    {
     "data": {
      "text/plain": [
       "<keras.src.callbacks.history.History at 0x7f8a40137be0>"
      ]
     },
     "execution_count": 9,
     "metadata": {},
     "output_type": "execute_result"
    }
   ],
   "source": [
    "from tensorflow.keras.callbacks import EarlyStopping\n",
    "\n",
    "early_stop = EarlyStopping(\n",
    "    monitor='val_loss',\n",
    "    patience=3,           # para de treinar se não melhorar após 3 épocas\n",
    "    restore_best_weights=True\n",
    ")\n",
    "\n",
    "model.fit(\n",
    "    train_ds,\n",
    "    epochs=30,\n",
    "    validation_data=val_ds,\n",
    "    callbacks=[early_stop]\n",
    ")"
   ]
  },
  {
   "cell_type": "code",
   "execution_count": 10,
   "id": "cdb9a909",
   "metadata": {},
   "outputs": [],
   "source": [
    "import numpy as np\n",
    "\n",
    "vocab_doc = np.load(\"/home/olavo-dalberto/models/vocab_doc.npy\", allow_pickle=True)\n",
    "vocab_sum = np.load(\"/home/olavo-dalberto/models/vocab_sum.npy\", allow_pickle=True)\n",
    "tv_doc = tf.keras.models.load_model(\"/home/olavo-dalberto/models/tv_doc_model.keras\")\n",
    "tv_sum = tf.keras.models.load_model(\"/home/olavo-dalberto/models/tv_sum_model.keras\")"
   ]
  },
  {
   "cell_type": "code",
   "execution_count": 11,
   "id": "3a7bb2a7",
   "metadata": {},
   "outputs": [],
   "source": [
    "# ENCODER MODEL\n",
    "\n",
    "# 1. Inputs\n",
    "encoder_inputs = model.input[0]  # equivale a layer 0\n",
    "\n",
    "# 2. Camadas do encoder\n",
    "enc_emb_layer = model.get_layer(name='embedding')  # index 2\n",
    "enc_lstm_layer = model.get_layer(name='lstm')      # index 4\n",
    "\n",
    "# 3. Reconstrói fluxo\n",
    "enc_emb = enc_emb_layer(encoder_inputs)\n",
    "encoder_outputs, state_h_enc, state_c_enc = enc_lstm_layer(enc_emb)\n",
    "\n",
    "# 4. Cria o model\n",
    "encoder_model = Model(\n",
    "    inputs=encoder_inputs,\n",
    "    outputs=[encoder_outputs, state_h_enc, state_c_enc]\n",
    ")\n",
    "\n",
    "# DECODER MODEL\n",
    "\n",
    "\n",
    "# Parâmetros\n",
    "units = enc_lstm_layer.units\n",
    "vocab_size_output = model.get_layer(name='embedding_1').input_dim\n",
    "\n",
    "# 1. Inputs de inference\n",
    "decoder_input_token = Input(shape=(1,),            name='decoder_input')     # one token\n",
    "decoder_state_h_in  = Input(shape=(units,),        name='decoder_state_h')\n",
    "decoder_state_c_in  = Input(shape=(units,),        name='decoder_state_c')\n",
    "encoder_outputs_in  = Input(shape=(None, units),    name='encoder_outputs')\n",
    "\n",
    "# 2. Camadas do decoder (reutilizando pesos)\n",
    "dec_emb_layer  = model.get_layer(name='embedding_1')     # index 3\n",
    "dec_lstm_layer = model.get_layer(name='lstm_1')          # index 5\n",
    "attn_layer     = model.get_layer(name='attention')       # index 6\n",
    "concat_layer   = model.get_layer(name='concatenate')     # index 7\n",
    "proj_layer     = model.get_layer(name='time_distributed')# index 8\n",
    "\n",
    "# 3. Fluxo passo‑a‑passo\n",
    "dec_emb_inf = dec_emb_layer(decoder_input_token)  \n",
    "dec_outs, state_h_dec, state_c_dec = dec_lstm_layer(\n",
    "    dec_emb_inf, initial_state=[decoder_state_h_in, decoder_state_c_in]\n",
    ")\n",
    "context_vector = attn_layer([dec_outs, encoder_outputs_in])\n",
    "dec_concat = concat_layer([dec_outs, context_vector])\n",
    "dec_logits = proj_layer(dec_concat)\n",
    "\n",
    "# 4. Modelo de inference do decoder\n",
    "decoder_model = Model(\n",
    "    inputs=[decoder_input_token, encoder_outputs_in, decoder_state_h_in, decoder_state_c_in],\n",
    "    outputs=[dec_logits, state_h_dec, state_c_dec]\n",
    ")"
   ]
  },
  {
   "cell_type": "code",
   "execution_count": 12,
   "id": "c0c24279",
   "metadata": {},
   "outputs": [
    {
     "data": {
      "text/html": [
       "<pre style=\"white-space:pre;overflow-x:auto;line-height:normal;font-family:Menlo,'DejaVu Sans Mono',consolas,'Courier New',monospace\"><span style=\"font-weight: bold\">Model: \"functional_1\"</span>\n",
       "</pre>\n"
      ],
      "text/plain": [
       "\u001b[1mModel: \"functional_1\"\u001b[0m\n"
      ]
     },
     "metadata": {},
     "output_type": "display_data"
    },
    {
     "data": {
      "text/html": [
       "<pre style=\"white-space:pre;overflow-x:auto;line-height:normal;font-family:Menlo,'DejaVu Sans Mono',consolas,'Courier New',monospace\">┏━━━━━━━━━━━━━━━━━━━━━━━━━━━━━━━━━┳━━━━━━━━━━━━━━━━━━━━━━━━┳━━━━━━━━━━━━━━━┓\n",
       "┃<span style=\"font-weight: bold\"> Layer (type)                    </span>┃<span style=\"font-weight: bold\"> Output Shape           </span>┃<span style=\"font-weight: bold\">       Param # </span>┃\n",
       "┡━━━━━━━━━━━━━━━━━━━━━━━━━━━━━━━━━╇━━━━━━━━━━━━━━━━━━━━━━━━╇━━━━━━━━━━━━━━━┩\n",
       "│ input_layer (<span style=\"color: #0087ff; text-decoration-color: #0087ff\">InputLayer</span>)        │ (<span style=\"color: #00d7ff; text-decoration-color: #00d7ff\">None</span>, <span style=\"color: #00af00; text-decoration-color: #00af00\">100</span>)            │             <span style=\"color: #00af00; text-decoration-color: #00af00\">0</span> │\n",
       "├─────────────────────────────────┼────────────────────────┼───────────────┤\n",
       "│ embedding (<span style=\"color: #0087ff; text-decoration-color: #0087ff\">Embedding</span>)           │ (<span style=\"color: #00d7ff; text-decoration-color: #00d7ff\">None</span>, <span style=\"color: #00af00; text-decoration-color: #00af00\">100</span>, <span style=\"color: #00af00; text-decoration-color: #00af00\">64</span>)        │       <span style=\"color: #00af00; text-decoration-color: #00af00\">640,064</span> │\n",
       "├─────────────────────────────────┼────────────────────────┼───────────────┤\n",
       "│ lstm (<span style=\"color: #0087ff; text-decoration-color: #0087ff\">LSTM</span>)                     │ [(<span style=\"color: #00d7ff; text-decoration-color: #00d7ff\">None</span>, <span style=\"color: #00af00; text-decoration-color: #00af00\">100</span>, <span style=\"color: #00af00; text-decoration-color: #00af00\">256</span>),     │       <span style=\"color: #00af00; text-decoration-color: #00af00\">328,704</span> │\n",
       "│                                 │ (<span style=\"color: #00d7ff; text-decoration-color: #00d7ff\">None</span>, <span style=\"color: #00af00; text-decoration-color: #00af00\">256</span>), (<span style=\"color: #00d7ff; text-decoration-color: #00d7ff\">None</span>,    │               │\n",
       "│                                 │ <span style=\"color: #00af00; text-decoration-color: #00af00\">256</span>)]                  │               │\n",
       "└─────────────────────────────────┴────────────────────────┴───────────────┘\n",
       "</pre>\n"
      ],
      "text/plain": [
       "┏━━━━━━━━━━━━━━━━━━━━━━━━━━━━━━━━━┳━━━━━━━━━━━━━━━━━━━━━━━━┳━━━━━━━━━━━━━━━┓\n",
       "┃\u001b[1m \u001b[0m\u001b[1mLayer (type)                   \u001b[0m\u001b[1m \u001b[0m┃\u001b[1m \u001b[0m\u001b[1mOutput Shape          \u001b[0m\u001b[1m \u001b[0m┃\u001b[1m \u001b[0m\u001b[1m      Param #\u001b[0m\u001b[1m \u001b[0m┃\n",
       "┡━━━━━━━━━━━━━━━━━━━━━━━━━━━━━━━━━╇━━━━━━━━━━━━━━━━━━━━━━━━╇━━━━━━━━━━━━━━━┩\n",
       "│ input_layer (\u001b[38;5;33mInputLayer\u001b[0m)        │ (\u001b[38;5;45mNone\u001b[0m, \u001b[38;5;34m100\u001b[0m)            │             \u001b[38;5;34m0\u001b[0m │\n",
       "├─────────────────────────────────┼────────────────────────┼───────────────┤\n",
       "│ embedding (\u001b[38;5;33mEmbedding\u001b[0m)           │ (\u001b[38;5;45mNone\u001b[0m, \u001b[38;5;34m100\u001b[0m, \u001b[38;5;34m64\u001b[0m)        │       \u001b[38;5;34m640,064\u001b[0m │\n",
       "├─────────────────────────────────┼────────────────────────┼───────────────┤\n",
       "│ lstm (\u001b[38;5;33mLSTM\u001b[0m)                     │ [(\u001b[38;5;45mNone\u001b[0m, \u001b[38;5;34m100\u001b[0m, \u001b[38;5;34m256\u001b[0m),     │       \u001b[38;5;34m328,704\u001b[0m │\n",
       "│                                 │ (\u001b[38;5;45mNone\u001b[0m, \u001b[38;5;34m256\u001b[0m), (\u001b[38;5;45mNone\u001b[0m,    │               │\n",
       "│                                 │ \u001b[38;5;34m256\u001b[0m)]                  │               │\n",
       "└─────────────────────────────────┴────────────────────────┴───────────────┘\n"
      ]
     },
     "metadata": {},
     "output_type": "display_data"
    },
    {
     "data": {
      "text/html": [
       "<pre style=\"white-space:pre;overflow-x:auto;line-height:normal;font-family:Menlo,'DejaVu Sans Mono',consolas,'Courier New',monospace\"><span style=\"font-weight: bold\"> Total params: </span><span style=\"color: #00af00; text-decoration-color: #00af00\">968,768</span> (3.70 MB)\n",
       "</pre>\n"
      ],
      "text/plain": [
       "\u001b[1m Total params: \u001b[0m\u001b[38;5;34m968,768\u001b[0m (3.70 MB)\n"
      ]
     },
     "metadata": {},
     "output_type": "display_data"
    },
    {
     "data": {
      "text/html": [
       "<pre style=\"white-space:pre;overflow-x:auto;line-height:normal;font-family:Menlo,'DejaVu Sans Mono',consolas,'Courier New',monospace\"><span style=\"font-weight: bold\"> Trainable params: </span><span style=\"color: #00af00; text-decoration-color: #00af00\">968,768</span> (3.70 MB)\n",
       "</pre>\n"
      ],
      "text/plain": [
       "\u001b[1m Trainable params: \u001b[0m\u001b[38;5;34m968,768\u001b[0m (3.70 MB)\n"
      ]
     },
     "metadata": {},
     "output_type": "display_data"
    },
    {
     "data": {
      "text/html": [
       "<pre style=\"white-space:pre;overflow-x:auto;line-height:normal;font-family:Menlo,'DejaVu Sans Mono',consolas,'Courier New',monospace\"><span style=\"font-weight: bold\"> Non-trainable params: </span><span style=\"color: #00af00; text-decoration-color: #00af00\">0</span> (0.00 B)\n",
       "</pre>\n"
      ],
      "text/plain": [
       "\u001b[1m Non-trainable params: \u001b[0m\u001b[38;5;34m0\u001b[0m (0.00 B)\n"
      ]
     },
     "metadata": {},
     "output_type": "display_data"
    }
   ],
   "source": [
    "encoder_model.summary()"
   ]
  },
  {
   "cell_type": "code",
   "execution_count": 13,
   "id": "d2b8f1b4",
   "metadata": {},
   "outputs": [
    {
     "data": {
      "text/html": [
       "<pre style=\"white-space:pre;overflow-x:auto;line-height:normal;font-family:Menlo,'DejaVu Sans Mono',consolas,'Courier New',monospace\"><span style=\"font-weight: bold\">Model: \"functional_2\"</span>\n",
       "</pre>\n"
      ],
      "text/plain": [
       "\u001b[1mModel: \"functional_2\"\u001b[0m\n"
      ]
     },
     "metadata": {},
     "output_type": "display_data"
    },
    {
     "data": {
      "text/html": [
       "<pre style=\"white-space:pre;overflow-x:auto;line-height:normal;font-family:Menlo,'DejaVu Sans Mono',consolas,'Courier New',monospace\">┏━━━━━━━━━━━━━━━━━━━━━┳━━━━━━━━━━━━━━━━━━━┳━━━━━━━━━━━━┳━━━━━━━━━━━━━━━━━━━┓\n",
       "┃<span style=\"font-weight: bold\"> Layer (type)        </span>┃<span style=\"font-weight: bold\"> Output Shape      </span>┃<span style=\"font-weight: bold\">    Param # </span>┃<span style=\"font-weight: bold\"> Connected to      </span>┃\n",
       "┡━━━━━━━━━━━━━━━━━━━━━╇━━━━━━━━━━━━━━━━━━━╇━━━━━━━━━━━━╇━━━━━━━━━━━━━━━━━━━┩\n",
       "│ decoder_input       │ (<span style=\"color: #00d7ff; text-decoration-color: #00d7ff\">None</span>, <span style=\"color: #00af00; text-decoration-color: #00af00\">1</span>)         │          <span style=\"color: #00af00; text-decoration-color: #00af00\">0</span> │ -                 │\n",
       "│ (<span style=\"color: #0087ff; text-decoration-color: #0087ff\">InputLayer</span>)        │                   │            │                   │\n",
       "├─────────────────────┼───────────────────┼────────────┼───────────────────┤\n",
       "│ embedding_1         │ (<span style=\"color: #00d7ff; text-decoration-color: #00d7ff\">None</span>, <span style=\"color: #00af00; text-decoration-color: #00af00\">1</span>, <span style=\"color: #00af00; text-decoration-color: #00af00\">64</span>)     │    <span style=\"color: #00af00; text-decoration-color: #00af00\">384,064</span> │ decoder_input[<span style=\"color: #00af00; text-decoration-color: #00af00\">0</span>]… │\n",
       "│ (<span style=\"color: #0087ff; text-decoration-color: #0087ff\">Embedding</span>)         │                   │            │                   │\n",
       "├─────────────────────┼───────────────────┼────────────┼───────────────────┤\n",
       "│ decoder_state_h     │ (<span style=\"color: #00d7ff; text-decoration-color: #00d7ff\">None</span>, <span style=\"color: #00af00; text-decoration-color: #00af00\">256</span>)       │          <span style=\"color: #00af00; text-decoration-color: #00af00\">0</span> │ -                 │\n",
       "│ (<span style=\"color: #0087ff; text-decoration-color: #0087ff\">InputLayer</span>)        │                   │            │                   │\n",
       "├─────────────────────┼───────────────────┼────────────┼───────────────────┤\n",
       "│ decoder_state_c     │ (<span style=\"color: #00d7ff; text-decoration-color: #00d7ff\">None</span>, <span style=\"color: #00af00; text-decoration-color: #00af00\">256</span>)       │          <span style=\"color: #00af00; text-decoration-color: #00af00\">0</span> │ -                 │\n",
       "│ (<span style=\"color: #0087ff; text-decoration-color: #0087ff\">InputLayer</span>)        │                   │            │                   │\n",
       "├─────────────────────┼───────────────────┼────────────┼───────────────────┤\n",
       "│ lstm_1 (<span style=\"color: #0087ff; text-decoration-color: #0087ff\">LSTM</span>)       │ [(<span style=\"color: #00d7ff; text-decoration-color: #00d7ff\">None</span>, <span style=\"color: #00af00; text-decoration-color: #00af00\">1</span>, <span style=\"color: #00af00; text-decoration-color: #00af00\">256</span>),  │    <span style=\"color: #00af00; text-decoration-color: #00af00\">328,704</span> │ embedding_1[<span style=\"color: #00af00; text-decoration-color: #00af00\">1</span>][<span style=\"color: #00af00; text-decoration-color: #00af00\">0</span>… │\n",
       "│                     │ (<span style=\"color: #00d7ff; text-decoration-color: #00d7ff\">None</span>, <span style=\"color: #00af00; text-decoration-color: #00af00\">256</span>),      │            │ decoder_state_h[<span style=\"color: #00af00; text-decoration-color: #00af00\">…</span> │\n",
       "│                     │ (<span style=\"color: #00d7ff; text-decoration-color: #00d7ff\">None</span>, <span style=\"color: #00af00; text-decoration-color: #00af00\">256</span>)]      │            │ decoder_state_c[<span style=\"color: #00af00; text-decoration-color: #00af00\">…</span> │\n",
       "├─────────────────────┼───────────────────┼────────────┼───────────────────┤\n",
       "│ encoder_outputs     │ (<span style=\"color: #00d7ff; text-decoration-color: #00d7ff\">None</span>, <span style=\"color: #00d7ff; text-decoration-color: #00d7ff\">None</span>, <span style=\"color: #00af00; text-decoration-color: #00af00\">256</span>) │          <span style=\"color: #00af00; text-decoration-color: #00af00\">0</span> │ -                 │\n",
       "│ (<span style=\"color: #0087ff; text-decoration-color: #0087ff\">InputLayer</span>)        │                   │            │                   │\n",
       "├─────────────────────┼───────────────────┼────────────┼───────────────────┤\n",
       "│ attention           │ (<span style=\"color: #00d7ff; text-decoration-color: #00d7ff\">None</span>, <span style=\"color: #00af00; text-decoration-color: #00af00\">1</span>, <span style=\"color: #00af00; text-decoration-color: #00af00\">256</span>)    │          <span style=\"color: #00af00; text-decoration-color: #00af00\">0</span> │ lstm_1[<span style=\"color: #00af00; text-decoration-color: #00af00\">1</span>][<span style=\"color: #00af00; text-decoration-color: #00af00\">0</span>],     │\n",
       "│ (<span style=\"color: #0087ff; text-decoration-color: #0087ff\">Attention</span>)         │                   │            │ encoder_outputs[<span style=\"color: #00af00; text-decoration-color: #00af00\">…</span> │\n",
       "├─────────────────────┼───────────────────┼────────────┼───────────────────┤\n",
       "│ concatenate         │ (<span style=\"color: #00d7ff; text-decoration-color: #00d7ff\">None</span>, <span style=\"color: #00af00; text-decoration-color: #00af00\">1</span>, <span style=\"color: #00af00; text-decoration-color: #00af00\">512</span>)    │          <span style=\"color: #00af00; text-decoration-color: #00af00\">0</span> │ lstm_1[<span style=\"color: #00af00; text-decoration-color: #00af00\">1</span>][<span style=\"color: #00af00; text-decoration-color: #00af00\">0</span>],     │\n",
       "│ (<span style=\"color: #0087ff; text-decoration-color: #0087ff\">Concatenate</span>)       │                   │            │ attention[<span style=\"color: #00af00; text-decoration-color: #00af00\">1</span>][<span style=\"color: #00af00; text-decoration-color: #00af00\">0</span>]   │\n",
       "├─────────────────────┼───────────────────┼────────────┼───────────────────┤\n",
       "│ time_distributed    │ (<span style=\"color: #00d7ff; text-decoration-color: #00d7ff\">None</span>, <span style=\"color: #00af00; text-decoration-color: #00af00\">1</span>, <span style=\"color: #00af00; text-decoration-color: #00af00\">6001</span>)   │  <span style=\"color: #00af00; text-decoration-color: #00af00\">3,078,513</span> │ concatenate[<span style=\"color: #00af00; text-decoration-color: #00af00\">1</span>][<span style=\"color: #00af00; text-decoration-color: #00af00\">0</span>] │\n",
       "│ (<span style=\"color: #0087ff; text-decoration-color: #0087ff\">TimeDistributed</span>)   │                   │            │                   │\n",
       "└─────────────────────┴───────────────────┴────────────┴───────────────────┘\n",
       "</pre>\n"
      ],
      "text/plain": [
       "┏━━━━━━━━━━━━━━━━━━━━━┳━━━━━━━━━━━━━━━━━━━┳━━━━━━━━━━━━┳━━━━━━━━━━━━━━━━━━━┓\n",
       "┃\u001b[1m \u001b[0m\u001b[1mLayer (type)       \u001b[0m\u001b[1m \u001b[0m┃\u001b[1m \u001b[0m\u001b[1mOutput Shape     \u001b[0m\u001b[1m \u001b[0m┃\u001b[1m \u001b[0m\u001b[1m   Param #\u001b[0m\u001b[1m \u001b[0m┃\u001b[1m \u001b[0m\u001b[1mConnected to     \u001b[0m\u001b[1m \u001b[0m┃\n",
       "┡━━━━━━━━━━━━━━━━━━━━━╇━━━━━━━━━━━━━━━━━━━╇━━━━━━━━━━━━╇━━━━━━━━━━━━━━━━━━━┩\n",
       "│ decoder_input       │ (\u001b[38;5;45mNone\u001b[0m, \u001b[38;5;34m1\u001b[0m)         │          \u001b[38;5;34m0\u001b[0m │ -                 │\n",
       "│ (\u001b[38;5;33mInputLayer\u001b[0m)        │                   │            │                   │\n",
       "├─────────────────────┼───────────────────┼────────────┼───────────────────┤\n",
       "│ embedding_1         │ (\u001b[38;5;45mNone\u001b[0m, \u001b[38;5;34m1\u001b[0m, \u001b[38;5;34m64\u001b[0m)     │    \u001b[38;5;34m384,064\u001b[0m │ decoder_input[\u001b[38;5;34m0\u001b[0m]… │\n",
       "│ (\u001b[38;5;33mEmbedding\u001b[0m)         │                   │            │                   │\n",
       "├─────────────────────┼───────────────────┼────────────┼───────────────────┤\n",
       "│ decoder_state_h     │ (\u001b[38;5;45mNone\u001b[0m, \u001b[38;5;34m256\u001b[0m)       │          \u001b[38;5;34m0\u001b[0m │ -                 │\n",
       "│ (\u001b[38;5;33mInputLayer\u001b[0m)        │                   │            │                   │\n",
       "├─────────────────────┼───────────────────┼────────────┼───────────────────┤\n",
       "│ decoder_state_c     │ (\u001b[38;5;45mNone\u001b[0m, \u001b[38;5;34m256\u001b[0m)       │          \u001b[38;5;34m0\u001b[0m │ -                 │\n",
       "│ (\u001b[38;5;33mInputLayer\u001b[0m)        │                   │            │                   │\n",
       "├─────────────────────┼───────────────────┼────────────┼───────────────────┤\n",
       "│ lstm_1 (\u001b[38;5;33mLSTM\u001b[0m)       │ [(\u001b[38;5;45mNone\u001b[0m, \u001b[38;5;34m1\u001b[0m, \u001b[38;5;34m256\u001b[0m),  │    \u001b[38;5;34m328,704\u001b[0m │ embedding_1[\u001b[38;5;34m1\u001b[0m][\u001b[38;5;34m0\u001b[0m… │\n",
       "│                     │ (\u001b[38;5;45mNone\u001b[0m, \u001b[38;5;34m256\u001b[0m),      │            │ decoder_state_h[\u001b[38;5;34m…\u001b[0m │\n",
       "│                     │ (\u001b[38;5;45mNone\u001b[0m, \u001b[38;5;34m256\u001b[0m)]      │            │ decoder_state_c[\u001b[38;5;34m…\u001b[0m │\n",
       "├─────────────────────┼───────────────────┼────────────┼───────────────────┤\n",
       "│ encoder_outputs     │ (\u001b[38;5;45mNone\u001b[0m, \u001b[38;5;45mNone\u001b[0m, \u001b[38;5;34m256\u001b[0m) │          \u001b[38;5;34m0\u001b[0m │ -                 │\n",
       "│ (\u001b[38;5;33mInputLayer\u001b[0m)        │                   │            │                   │\n",
       "├─────────────────────┼───────────────────┼────────────┼───────────────────┤\n",
       "│ attention           │ (\u001b[38;5;45mNone\u001b[0m, \u001b[38;5;34m1\u001b[0m, \u001b[38;5;34m256\u001b[0m)    │          \u001b[38;5;34m0\u001b[0m │ lstm_1[\u001b[38;5;34m1\u001b[0m][\u001b[38;5;34m0\u001b[0m],     │\n",
       "│ (\u001b[38;5;33mAttention\u001b[0m)         │                   │            │ encoder_outputs[\u001b[38;5;34m…\u001b[0m │\n",
       "├─────────────────────┼───────────────────┼────────────┼───────────────────┤\n",
       "│ concatenate         │ (\u001b[38;5;45mNone\u001b[0m, \u001b[38;5;34m1\u001b[0m, \u001b[38;5;34m512\u001b[0m)    │          \u001b[38;5;34m0\u001b[0m │ lstm_1[\u001b[38;5;34m1\u001b[0m][\u001b[38;5;34m0\u001b[0m],     │\n",
       "│ (\u001b[38;5;33mConcatenate\u001b[0m)       │                   │            │ attention[\u001b[38;5;34m1\u001b[0m][\u001b[38;5;34m0\u001b[0m]   │\n",
       "├─────────────────────┼───────────────────┼────────────┼───────────────────┤\n",
       "│ time_distributed    │ (\u001b[38;5;45mNone\u001b[0m, \u001b[38;5;34m1\u001b[0m, \u001b[38;5;34m6001\u001b[0m)   │  \u001b[38;5;34m3,078,513\u001b[0m │ concatenate[\u001b[38;5;34m1\u001b[0m][\u001b[38;5;34m0\u001b[0m] │\n",
       "│ (\u001b[38;5;33mTimeDistributed\u001b[0m)   │                   │            │                   │\n",
       "└─────────────────────┴───────────────────┴────────────┴───────────────────┘\n"
      ]
     },
     "metadata": {},
     "output_type": "display_data"
    },
    {
     "data": {
      "text/html": [
       "<pre style=\"white-space:pre;overflow-x:auto;line-height:normal;font-family:Menlo,'DejaVu Sans Mono',consolas,'Courier New',monospace\"><span style=\"font-weight: bold\"> Total params: </span><span style=\"color: #00af00; text-decoration-color: #00af00\">3,791,281</span> (14.46 MB)\n",
       "</pre>\n"
      ],
      "text/plain": [
       "\u001b[1m Total params: \u001b[0m\u001b[38;5;34m3,791,281\u001b[0m (14.46 MB)\n"
      ]
     },
     "metadata": {},
     "output_type": "display_data"
    },
    {
     "data": {
      "text/html": [
       "<pre style=\"white-space:pre;overflow-x:auto;line-height:normal;font-family:Menlo,'DejaVu Sans Mono',consolas,'Courier New',monospace\"><span style=\"font-weight: bold\"> Trainable params: </span><span style=\"color: #00af00; text-decoration-color: #00af00\">3,791,281</span> (14.46 MB)\n",
       "</pre>\n"
      ],
      "text/plain": [
       "\u001b[1m Trainable params: \u001b[0m\u001b[38;5;34m3,791,281\u001b[0m (14.46 MB)\n"
      ]
     },
     "metadata": {},
     "output_type": "display_data"
    },
    {
     "data": {
      "text/html": [
       "<pre style=\"white-space:pre;overflow-x:auto;line-height:normal;font-family:Menlo,'DejaVu Sans Mono',consolas,'Courier New',monospace\"><span style=\"font-weight: bold\"> Non-trainable params: </span><span style=\"color: #00af00; text-decoration-color: #00af00\">0</span> (0.00 B)\n",
       "</pre>\n"
      ],
      "text/plain": [
       "\u001b[1m Non-trainable params: \u001b[0m\u001b[38;5;34m0\u001b[0m (0.00 B)\n"
      ]
     },
     "metadata": {},
     "output_type": "display_data"
    }
   ],
   "source": [
    "decoder_model.summary()"
   ]
  },
  {
   "cell_type": "code",
   "execution_count": 23,
   "id": "9abbea42",
   "metadata": {},
   "outputs": [],
   "source": [
    "import numpy as np\n",
    "\n",
    "# 1) Acha os índices de <sos> e <eos>\n",
    "sos_token = '<sos>'\n",
    "eos_token = '<eos>'\n",
    "sos_id = np.where(vocab_sum == sos_token)\n",
    "eos_id = np.where(vocab_doc == eos_token)\n",
    "\n",
    "def decode_sequence(raw_text, max_len=MAXLEN_SUM):\n",
    "    # 1) vectoriza o documento\n",
    "    # tv_doc espera um batch de strings\n",
    "    doc_vector = tv_doc(tf.constant([raw_text]))  # shape (1, MAXLEN_DOC)\n",
    "\n",
    "    # 2) codifica o documento\n",
    "    enc_outs, enc_h, enc_c = encoder_model.predict(doc_vector, verbose=0)\n",
    "\n",
    "    # 3) prepara o decoder\n",
    "    target_seq = np.array([[0]])  # shape (1,1)\n",
    "    decoded_ids = []\n",
    "    h, c = enc_h, enc_c\n",
    "\n",
    "    for _ in range(max_len):\n",
    "        # 4) predição do próximo token\n",
    "        logits, h, c = decoder_model.predict(\n",
    "            [target_seq, enc_outs, h, c], verbose=0\n",
    "        )\n",
    "        # logits.shape == (1,1,vocab_out)\n",
    "        next_id = np.argmax(logits[0, -1, :])\n",
    "        decoded_ids.append(next_id)\n",
    "        target_seq = np.array([[next_id]])\n",
    "\n",
    "    # 6) converte índices para tokens e junte\n",
    "    decoded_tokens = [vocab_sum[idx] for idx in decoded_ids]\n",
    "    return ' '.join(decoded_tokens)"
   ]
  },
  {
   "cell_type": "code",
   "execution_count": 24,
   "id": "fdae0e47",
   "metadata": {},
   "outputs": [
    {
     "name": "stdout",
     "output_type": "stream",
     "text": [
      "                             \n"
     ]
    }
   ],
   "source": [
    "print(decode_sequence(\"Este é um texto de teste para sumarização.\"))"
   ]
  },
  {
   "cell_type": "code",
   "execution_count": null,
   "id": "f9fc2fe4",
   "metadata": {},
   "outputs": [],
   "source": []
  }
 ],
 "metadata": {
  "kernelspec": {
   "display_name": "ia",
   "language": "python",
   "name": "python3"
  },
  "language_info": {
   "codemirror_mode": {
    "name": "ipython",
    "version": 3
   },
   "file_extension": ".py",
   "mimetype": "text/x-python",
   "name": "python",
   "nbconvert_exporter": "python",
   "pygments_lexer": "ipython3",
   "version": "3.10.18"
  }
 },
 "nbformat": 4,
 "nbformat_minor": 5
}
